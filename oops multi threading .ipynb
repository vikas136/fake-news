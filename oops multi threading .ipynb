{
 "cells": [
  {
   "cell_type": "markdown",
   "metadata": {},
   "source": [
    "# Multi threading"
   ]
  },
  {
   "cell_type": "markdown",
   "metadata": {},
   "source": [
    "# 1. creating thread without using class"
   ]
  },
  {
   "cell_type": "markdown",
   "metadata": {},
   "source": [
    "# threading means execution of tasks.for every individual task has a thread in program.for ex gmail has no of accounts for every operation it consider as thread all are happening simutaneously.the output will be mixed"
   ]
  },
  {
   "cell_type": "code",
   "execution_count": 27,
   "metadata": {},
   "outputs": [
    {
     "name": "stdout",
     "output_type": "stream",
     "text": [
      "hello vikashi\n",
      "hi\n",
      "\n",
      "hello vikas\n",
      "hello vikas\n",
      "hi\n"
     ]
    }
   ],
   "source": [
    "from threading import *\n",
    "def display():\n",
    "    for i in range(3):                  # it is a functional program\n",
    "        print('hello vikas')\n",
    "        \n",
    "t=Thread(target=display)           # creating a thread object to execute display method.here thread is a class and t is object\n",
    "t.start()\n",
    "for i in range(3):\n",
    "    print('hi')"
   ]
  },
  {
   "cell_type": "code",
   "execution_count": 43,
   "metadata": {},
   "outputs": [
    {
     "name": "stdout",
     "output_type": "stream",
     "text": [
      "hello vikashi\n",
      "hi\n",
      "hi\n",
      "good morning\n",
      "good morning\n",
      "good morning\n",
      "bye\n",
      "bye\n",
      "bye\n",
      "\n",
      "good evening\n",
      "good evening\n",
      "good evening\n",
      "hello vikas\n",
      "good evening\n",
      "good evening\n",
      "good evening\n",
      "hello vikas\n",
      "good evening\n",
      "good evening\n",
      "good evening\n"
     ]
    }
   ],
   "source": [
    "from threading import *\n",
    "def display():\n",
    "    for i in range(3):\n",
    "        print('hello vikas')\n",
    "        for j in range(3):\n",
    "            print('good evening')\n",
    "t=Thread(target=display)\n",
    "t.start()\n",
    "for i in range(3):\n",
    "    print('hi')\n",
    "for j in range(3):\n",
    "    print('good morning')\n",
    "for k in range(3):\n",
    "    print('bye')"
   ]
  },
  {
   "cell_type": "code",
   "execution_count": 36,
   "metadata": {},
   "outputs": [
    {
     "name": "stdout",
     "output_type": "stream",
     "text": [
      "Thread-39MainThread\n",
      "\n"
     ]
    }
   ],
   "source": [
    "from threading import *\n",
    "def display():\n",
    "    print(current_thread().getName())\n",
    "    \n",
    "        \n",
    "t=Thread(target=display) \n",
    "                                                                          # for finding the thread name\n",
    "t.start()\n",
    "print(current_thread().getName())"
   ]
  },
  {
   "cell_type": "markdown",
   "metadata": {},
   "source": [
    "# 2. creating thread by using class "
   ]
  },
  {
   "cell_type": "code",
   "execution_count": 44,
   "metadata": {},
   "outputs": [
    {
     "name": "stdout",
     "output_type": "stream",
     "text": [
      "child threadmain thread\n",
      "child thread\n",
      "child thread\n",
      "child thread\n",
      "child thread\n",
      "\n",
      "main thread\n",
      "main thread\n",
      "main thread\n",
      "main thread\n"
     ]
    }
   ],
   "source": [
    "from threading import *\n",
    "class mythread(Thread):                        # it is a object oriented process\n",
    "    def run(self):\n",
    "        for i in range(5):\n",
    "            print('child thread')\n",
    "            \n",
    "t=mythread()\n",
    "t.start()\n",
    "for i in range(5):\n",
    "    print('main thread')"
   ]
  },
  {
   "cell_type": "markdown",
   "metadata": {},
   "source": [
    "# 3.without extending Thread class"
   ]
  },
  {
   "cell_type": "code",
   "execution_count": 48,
   "metadata": {},
   "outputs": [
    {
     "name": "stdout",
     "output_type": "stream",
     "text": [
      "hello vikasgood morning hyderabad\n",
      "good morning hyderabad\n",
      "good morning hyderabad\n",
      "good morning hyderabad\n",
      "good morning hyderabad\n",
      "\n",
      "hello vikas\n",
      "hello vikas\n",
      "hello vikas\n",
      "hello vikas\n"
     ]
    }
   ],
   "source": [
    "from threading import *\n",
    "class test:\n",
    "    def m1(self):\n",
    "        for i in range(5):\n",
    "            print('hello vikas')\n",
    "obj=test()\n",
    "t=Thread(target=obj.m1)\n",
    "t.start()\n",
    "for i in range(5):\n",
    "    print('good morning hyderabad')"
   ]
  },
  {
   "cell_type": "markdown",
   "metadata": {},
   "source": [
    "# to check how multithreading reduces time taking and performance"
   ]
  },
  {
   "cell_type": "code",
   "execution_count": 59,
   "metadata": {},
   "outputs": [
    {
     "ename": "TypeError",
     "evalue": "'list' object cannot be interpreted as an integer",
     "output_type": "error",
     "traceback": [
      "\u001b[1;31m---------------------------------------------------------------------------\u001b[0m",
      "\u001b[1;31mTypeError\u001b[0m                                 Traceback (most recent call last)",
      "\u001b[1;32m<ipython-input-59-32a1f85cd515>\u001b[0m in \u001b[0;36m<module>\u001b[1;34m\u001b[0m\n\u001b[0;32m     12\u001b[0m \u001b[0mn\u001b[0m\u001b[1;33m=\u001b[0m\u001b[1;33m[\u001b[0m\u001b[1;36m1\u001b[0m\u001b[1;33m,\u001b[0m\u001b[1;36m2\u001b[0m\u001b[1;33m,\u001b[0m\u001b[1;36m3\u001b[0m\u001b[1;33m,\u001b[0m\u001b[1;36m4\u001b[0m\u001b[1;33m,\u001b[0m\u001b[1;36m5\u001b[0m\u001b[1;33m]\u001b[0m\u001b[1;33m\u001b[0m\u001b[1;33m\u001b[0m\u001b[0m\n\u001b[0;32m     13\u001b[0m \u001b[0mbegintime\u001b[0m\u001b[1;33m=\u001b[0m\u001b[0mtime\u001b[0m\u001b[1;33m.\u001b[0m\u001b[0mtime\u001b[0m\u001b[1;33m(\u001b[0m\u001b[1;33m)\u001b[0m\u001b[1;33m\u001b[0m\u001b[1;33m\u001b[0m\u001b[0m\n\u001b[1;32m---> 14\u001b[1;33m \u001b[0mdouble\u001b[0m\u001b[1;33m(\u001b[0m\u001b[0mn\u001b[0m\u001b[1;33m)\u001b[0m\u001b[1;33m\u001b[0m\u001b[1;33m\u001b[0m\u001b[0m\n\u001b[0m\u001b[0;32m     15\u001b[0m \u001b[0msquare\u001b[0m\u001b[1;33m(\u001b[0m\u001b[0mn\u001b[0m\u001b[1;33m)\u001b[0m\u001b[1;33m\u001b[0m\u001b[1;33m\u001b[0m\u001b[0m\n\u001b[0;32m     16\u001b[0m \u001b[0mendtime\u001b[0m\u001b[1;33m=\u001b[0m\u001b[0mtime\u001b[0m\u001b[1;33m.\u001b[0m\u001b[0mtime\u001b[0m\u001b[1;33m(\u001b[0m\u001b[1;33m)\u001b[0m\u001b[1;33m\u001b[0m\u001b[1;33m\u001b[0m\u001b[0m\n",
      "\u001b[1;32m<ipython-input-59-32a1f85cd515>\u001b[0m in \u001b[0;36mdouble\u001b[1;34m(n)\u001b[0m\n\u001b[0;32m      1\u001b[0m \u001b[1;32mimport\u001b[0m \u001b[0mtime\u001b[0m\u001b[1;33m\u001b[0m\u001b[1;33m\u001b[0m\u001b[0m\n\u001b[0;32m      2\u001b[0m \u001b[1;32mdef\u001b[0m \u001b[0mdouble\u001b[0m\u001b[1;33m(\u001b[0m\u001b[0mn\u001b[0m\u001b[1;33m)\u001b[0m\u001b[1;33m:\u001b[0m\u001b[1;33m\u001b[0m\u001b[1;33m\u001b[0m\u001b[0m\n\u001b[1;32m----> 3\u001b[1;33m     \u001b[1;32mfor\u001b[0m \u001b[0mi\u001b[0m \u001b[1;32min\u001b[0m \u001b[0mrange\u001b[0m\u001b[1;33m(\u001b[0m\u001b[0mn\u001b[0m\u001b[1;33m)\u001b[0m\u001b[1;33m:\u001b[0m\u001b[1;33m\u001b[0m\u001b[1;33m\u001b[0m\u001b[0m\n\u001b[0m\u001b[0;32m      4\u001b[0m         \u001b[0mtime\u001b[0m\u001b[1;33m.\u001b[0m\u001b[0msleep\u001b[0m\u001b[1;33m(\u001b[0m\u001b[1;36m1\u001b[0m\u001b[1;33m)\u001b[0m\u001b[1;33m\u001b[0m\u001b[1;33m\u001b[0m\u001b[0m\n\u001b[0;32m      5\u001b[0m         \u001b[0mprint\u001b[0m\u001b[1;33m(\u001b[0m\u001b[1;34m'the value of double is:'\u001b[0m\u001b[1;33m,\u001b[0m\u001b[1;36m2\u001b[0m\u001b[1;33m*\u001b[0m\u001b[0mn\u001b[0m\u001b[1;33m)\u001b[0m\u001b[1;33m\u001b[0m\u001b[1;33m\u001b[0m\u001b[0m\n",
      "\u001b[1;31mTypeError\u001b[0m: 'list' object cannot be interpreted as an integer"
     ]
    }
   ],
   "source": [
    "import time\n",
    "def double(n):\n",
    "    for i in range(n):\n",
    "        time.sleep(1)\n",
    "        print('the value of double is:',2*n)\n",
    "        \n",
    "def square(n):\n",
    "    for i in range(n):\n",
    "        time.sleep(1)\n",
    "        print('the value of square is:',n*n)\n",
    "        \n",
    "n=[1,2,3,4,5]\n",
    "begintime=time.time()\n",
    "double(n)\n",
    "square(n)\n",
    "endtime=time.time()\n",
    "print('total time taken:',endtime-begintime)"
   ]
  },
  {
   "cell_type": "code",
   "execution_count": 78,
   "metadata": {},
   "outputs": [
    {
     "name": "stdout",
     "output_type": "stream",
     "text": [
      "total time taken: 0.11159968376159668\n"
     ]
    },
    {
     "name": "stderr",
     "output_type": "stream",
     "text": [
      "Exception in thread Thread-68:\n",
      "Traceback (most recent call last):\n",
      "  File \"C:\\Users\\krishna\\Anaconda3\\lib\\threading.py\", line 926, in _bootstrap_inner\n",
      "    self.run()\n",
      "  File \"C:\\Users\\krishna\\Anaconda3\\lib\\threading.py\", line 870, in run\n",
      "    self._target(*self._args, **self._kwargs)\n",
      "  File \"<ipython-input-78-4f4e9b18fd9e>\", line 4, in double\n",
      "    for i in range(n):\n",
      "TypeError: 'list' object cannot be interpreted as an integer\n",
      "\n",
      "Exception in thread Thread-69:\n",
      "Traceback (most recent call last):\n",
      "  File \"C:\\Users\\krishna\\Anaconda3\\lib\\threading.py\", line 926, in _bootstrap_inner\n",
      "    self.run()\n",
      "  File \"C:\\Users\\krishna\\Anaconda3\\lib\\threading.py\", line 870, in run\n",
      "    self._target(*self._args, **self._kwargs)\n",
      "  File \"<ipython-input-78-4f4e9b18fd9e>\", line 9, in square\n",
      "    for i in range(n):\n",
      "TypeError: 'list' object cannot be interpreted as an integer\n",
      "\n"
     ]
    }
   ],
   "source": [
    "import time\n",
    "from threading import *\n",
    "def double(n):\n",
    "    for i in range(n):\n",
    "        time.sleep(1)\n",
    "        print('the value of double is:',2*n)\n",
    "        \n",
    "def square(n):\n",
    "    for i in range(n):\n",
    "        time.sleep(1)\n",
    "        print('the value of square is:',n*n)\n",
    "        \n",
    "n=[1,2,3,4,5]\n",
    "begintime=time.time()\n",
    "t1=Thread(target=double,args=(n,))\n",
    "t2=Thread(target=square,args=(n,))\n",
    "t1.start()\n",
    "t2.start()\n",
    "t1.join()\n",
    "t2.join()\n",
    "endtime=time.time()\n",
    "print('total time taken:',endtime-begintime)"
   ]
  },
  {
   "cell_type": "markdown",
   "metadata": {},
   "source": [
    "# changing the main thread name"
   ]
  },
  {
   "cell_type": "code",
   "execution_count": 66,
   "metadata": {},
   "outputs": [
    {
     "name": "stdout",
     "output_type": "stream",
     "text": [
      "MainThread\n"
     ]
    }
   ],
   "source": [
    "print(current_thread().getName())"
   ]
  },
  {
   "cell_type": "code",
   "execution_count": 67,
   "metadata": {},
   "outputs": [
    {
     "name": "stdout",
     "output_type": "stream",
     "text": [
      "vikas\n"
     ]
    }
   ],
   "source": [
    "current_thread().setName('vikas')\n",
    "print(current_thread().getName())"
   ]
  },
  {
   "cell_type": "markdown",
   "metadata": {},
   "source": [
    "# thread identification number"
   ]
  },
  {
   "cell_type": "code",
   "execution_count": 76,
   "metadata": {},
   "outputs": [
    {
     "name": "stdout",
     "output_type": "stream",
     "text": [
      "the main identification number is: vikas\n"
     ]
    }
   ],
   "source": [
    "print('the main identification number is:',current_thread().getName())"
   ]
  },
  {
   "cell_type": "code",
   "execution_count": 73,
   "metadata": {},
   "outputs": [
    {
     "name": "stdout",
     "output_type": "stream",
     "text": [
      "identification number of main thread is: 28312\n",
      "identification number of child thread is: 33900\n"
     ]
    },
    {
     "name": "stderr",
     "output_type": "stream",
     "text": [
      "Exception in thread Thread-65:\n",
      "Traceback (most recent call last):\n",
      "  File \"C:\\Users\\krishna\\Anaconda3\\lib\\threading.py\", line 926, in _bootstrap_inner\n",
      "    self.run()\n",
      "  File \"C:\\Users\\krishna\\Anaconda3\\lib\\threading.py\", line 870, in run\n",
      "    self._target(*self._args, **self._kwargs)\n",
      "TypeError: test() missing 1 required positional argument: 'self'\n",
      "\n"
     ]
    }
   ],
   "source": [
    "from threading import *\n",
    "def test(self):\n",
    "    print('my name is vikas')\n",
    "t=Thread(target=test)\n",
    "t.start()\n",
    "print('identification number of main thread is:',current_thread().ident)\n",
    "print('identification number of child thread is:',t.ident)"
   ]
  },
  {
   "cell_type": "code",
   "execution_count": null,
   "metadata": {},
   "outputs": [],
   "source": []
  },
  {
   "cell_type": "code",
   "execution_count": 80,
   "metadata": {},
   "outputs": [
    {
     "name": "stdout",
     "output_type": "stream",
     "text": [
      "number of active thread: 5\n",
      "child-thread1 ..started\n",
      "child-thread2 ..started\n",
      "child-thread3thread name vikas\n",
      "thread identification number is: 28312\n",
      "\n",
      "thread name Thread-4\n",
      "thread identification number is: 30496\n",
      "\n",
      "thread name Thread-5\n",
      "thread identification number is: 32808\n",
      "\n",
      "thread name IPythonHistorySavingThread\n",
      "thread identification number is: 30968\n",
      "\n",
      "thread name Thread-3\n",
      "thread identification number is: 35676\n",
      "\n",
      "thread name child-thread1\n",
      "thread identification number is: 13368\n",
      "\n",
      "thread name child-thread2\n",
      "thread identification number is: 34980\n",
      "\n",
      "thread name child-thread3\n",
      "thread identification number is: 26372\n",
      "\n",
      " ..started\n",
      "child-thread1 ..ended\n",
      "child-thread2 ..ended\n",
      "child-thread3 ..ended\n"
     ]
    }
   ],
   "source": [
    "import time\n",
    "from threading import *\n",
    "def display():\n",
    "    print(current_thread().name,'..started')\n",
    "    time.sleep(3)\n",
    "    print(current_thread().name,'..ended')\n",
    "print('number of active thread:',active_count())\n",
    "t1=Thread(target=display,name='child-thread1')\n",
    "t2=Thread(target=display,name='child-thread2')\n",
    "t3=Thread(target=display,name='child-thread3')\n",
    "t1.start()\n",
    "t2.start()\n",
    "t3.start()\n",
    "l=enumerate()\n",
    "for i in l:\n",
    "    print('thread name',i.name)\n",
    "    print('thread identification number is:',i.ident)\n",
    "    print()"
   ]
  },
  {
   "cell_type": "markdown",
   "metadata": {},
   "source": [
    "# check weather a main thread is daemon or not"
   ]
  },
  {
   "cell_type": "code",
   "execution_count": 1,
   "metadata": {},
   "outputs": [],
   "source": [
    "from threading import *"
   ]
  },
  {
   "cell_type": "code",
   "execution_count": 3,
   "metadata": {},
   "outputs": [
    {
     "name": "stdout",
     "output_type": "stream",
     "text": [
      "MainThread\n"
     ]
    }
   ],
   "source": [
    "print(current_thread().getName())"
   ]
  },
  {
   "cell_type": "code",
   "execution_count": 4,
   "metadata": {},
   "outputs": [],
   "source": [
    "t=(current_thread())"
   ]
  },
  {
   "cell_type": "code",
   "execution_count": 7,
   "metadata": {},
   "outputs": [
    {
     "name": "stdout",
     "output_type": "stream",
     "text": [
      "False\n"
     ]
    }
   ],
   "source": [
    "print(t.isDaemon())"
   ]
  },
  {
   "cell_type": "code",
   "execution_count": 10,
   "metadata": {},
   "outputs": [
    {
     "name": "stdout",
     "output_type": "stream",
     "text": [
      "False\n"
     ]
    }
   ],
   "source": [
    "print(t.daemon)"
   ]
  },
  {
   "cell_type": "code",
   "execution_count": 13,
   "metadata": {},
   "outputs": [
    {
     "ename": "TypeError",
     "evalue": "'bool' object is not callable",
     "output_type": "error",
     "traceback": [
      "\u001b[1;31m---------------------------------------------------------------------------\u001b[0m",
      "\u001b[1;31mTypeError\u001b[0m                                 Traceback (most recent call last)",
      "\u001b[1;32m<ipython-input-13-e34cf335aeca>\u001b[0m in \u001b[0;36m<module>\u001b[1;34m\u001b[0m\n\u001b[1;32m----> 1\u001b[1;33m \u001b[0mt\u001b[0m\u001b[1;33m.\u001b[0m\u001b[0msetDaemon\u001b[0m\u001b[1;33m(\u001b[0m\u001b[1;32mTrue\u001b[0m\u001b[1;33m)\u001b[0m\u001b[1;33m\u001b[0m\u001b[1;33m\u001b[0m\u001b[0m\n\u001b[0m\u001b[0;32m      2\u001b[0m \u001b[0mprint\u001b[0m\u001b[1;33m(\u001b[0m\u001b[0mt\u001b[0m\u001b[1;33m)\u001b[0m\u001b[1;33m\u001b[0m\u001b[1;33m\u001b[0m\u001b[0m\n",
      "\u001b[1;31mTypeError\u001b[0m: 'bool' object is not callable"
     ]
    }
   ],
   "source": [
    "t.setDaemon(True)\n",
    "print(t)"
   ]
  },
  {
   "cell_type": "markdown",
   "metadata": {},
   "source": [
    "# changing the Daemon nature"
   ]
  },
  {
   "cell_type": "markdown",
   "metadata": {},
   "source": [
    "# we can change nature of daemon before the thread starts"
   ]
  },
  {
   "cell_type": "code",
   "execution_count": 16,
   "metadata": {},
   "outputs": [
    {
     "name": "stdout",
     "output_type": "stream",
     "text": [
      "False\n",
      "True\n"
     ]
    }
   ],
   "source": [
    "def test(self):\n",
    "    print('my name is vikas')\n",
    "t=Thread(target=test)\n",
    "print(t.isDaemon())\n",
    "t.setDaemon(True)\n",
    "print(t.isDaemon())"
   ]
  },
  {
   "cell_type": "code",
   "execution_count": 20,
   "metadata": {},
   "outputs": [
    {
     "name": "stderr",
     "output_type": "stream",
     "text": [
      "Exception in thread Thread-11:\n",
      "Traceback (most recent call last):\n",
      "  File \"C:\\Users\\krishna\\Anaconda3\\lib\\threading.py\", line 926, in _bootstrap_inner\n",
      "    self.run()\n",
      "  File \"C:\\Users\\krishna\\Anaconda3\\lib\\threading.py\", line 870, in run\n",
      "    self._target(*self._args, **self._kwargs)\n",
      "TypeError: job1() missing 1 required positional argument: 'self'\n",
      "\n"
     ]
    }
   ],
   "source": [
    "def job1(self):\n",
    "    print('hello')\n",
    "    t2=Thread(target=job2)\n",
    "    t2.start()\n",
    "def job2(self):\n",
    "    print('hi')\n",
    "    \n",
    "t1=Thread(target=job1)\n",
    "t1.start()"
   ]
  }
 ],
 "metadata": {
  "kernelspec": {
   "display_name": "Python 3",
   "language": "python",
   "name": "python3"
  },
  "language_info": {
   "codemirror_mode": {
    "name": "ipython",
    "version": 3
   },
   "file_extension": ".py",
   "mimetype": "text/x-python",
   "name": "python",
   "nbconvert_exporter": "python",
   "pygments_lexer": "ipython3",
   "version": "3.7.4"
  }
 },
 "nbformat": 4,
 "nbformat_minor": 2
}
