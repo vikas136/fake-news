{
 "cells": [
  {
   "cell_type": "code",
   "execution_count": 3,
   "metadata": {},
   "outputs": [],
   "source": [
    "import threading\n",
    "from threading import *"
   ]
  },
  {
   "cell_type": "code",
   "execution_count": 12,
   "metadata": {},
   "outputs": [
    {
     "name": "stdout",
     "output_type": "stream",
     "text": [
      "child thread\n",
      "child thread\n",
      "child thread\n",
      "child thread\n",
      "child thread\n",
      "child thread\n",
      "child thread\n",
      "child thread\n",
      "child thread\n",
      "child thread\n",
      "parent thread\n",
      "parent thread\n",
      "parent thread\n",
      "parent thread\n",
      "parent thread\n",
      "parent thread\n",
      "parent thread\n",
      "parent thread\n",
      "parent thread\n",
      "parent thread\n"
     ]
    }
   ],
   "source": [
    "def display():\n",
    "    for i in range(10):\n",
    "        print('child thread')\n",
    "t=Thread(target=display())\n",
    "t.start\n",
    "for i in range(10):\n",
    "    print('parent thread')"
   ]
  },
  {
   "cell_type": "code",
   "execution_count": 9,
   "metadata": {},
   "outputs": [
    {
     "name": "stdout",
     "output_type": "stream",
     "text": [
      "child threadparent thread\n",
      "parent thread\n",
      "parent thread\n",
      "parent thread\n",
      "parent thread\n",
      "parent thread\n",
      "parent thread\n",
      "parent thread\n",
      "parent thread\n",
      "parent thread\n",
      "\n",
      "child thread\n",
      "child thread\n",
      "child thread\n",
      "child thread\n",
      "child thread\n",
      "child thread\n",
      "child thread\n",
      "child thread\n",
      "child thread\n"
     ]
    }
   ],
   "source": [
    "class mythread(Thread):\n",
    "    def run(self):\n",
    "        for i in range(10):\n",
    "            print('child thread')\n",
    "        \n",
    "t=mythread()\n",
    "t.start()\n",
    "for i in range(10):\n",
    "    print('parent thread')"
   ]
  },
  {
   "cell_type": "code",
   "execution_count": 11,
   "metadata": {},
   "outputs": [
    {
     "name": "stdout",
     "output_type": "stream",
     "text": [
      "hello\n",
      "hello\n",
      "hello\n",
      "hello\n",
      "hello\n",
      "hello\n",
      "hello\n",
      "hello\n",
      "hello\n",
      "hello\n",
      "hi\n",
      "hi\n",
      "hi\n",
      "hi\n",
      "hi\n",
      "hi\n",
      "hi\n",
      "hi\n",
      "hi\n",
      "hi\n"
     ]
    }
   ],
   "source": [
    "\n",
    "\n",
    "class parent:\n",
    "    def run(self):\n",
    "        for i in range(10):\n",
    "            print('hello')\n",
    "            \n",
    "class child:\n",
    "    def run(self):\n",
    "        for i in range(10):\n",
    "            print('hi')\n",
    "            \n",
    "p=parent()\n",
    "p.run()\n",
    "p=child()\n",
    "p.run()"
   ]
  },
  {
   "cell_type": "code",
   "execution_count": 9,
   "metadata": {},
   "outputs": [
    {
     "name": "stdout",
     "output_type": "stream",
     "text": [
      "hello\n",
      "hi\n",
      "hello\n",
      "hi\n",
      "hello\n",
      "hi\n",
      "hello\n",
      "hi\n",
      "hello\n",
      "hi\n",
      "hello\n",
      "hi\n",
      "hello\n",
      "hi\n",
      "hello\n",
      "hi\n",
      "hello\n",
      "hi\n",
      "hello\n",
      "hi\n"
     ]
    }
   ],
   "source": [
    "from threading import *\n",
    "from time import sleep\n",
    "class parent(Thread):\n",
    "    def run(self):\n",
    "        for i in range(10):\n",
    "            print('hello')\n",
    "            sleep(1)\n",
    "class child(Thread):\n",
    "    def run(self):\n",
    "        for i in range(10):\n",
    "            print('hi')\n",
    "            sleep(1)\n",
    "p=parent()\n",
    "p.start()\n",
    "p=child()\n",
    "p.start()"
   ]
  }
 ],
 "metadata": {
  "kernelspec": {
   "display_name": "Python 3",
   "language": "python",
   "name": "python3"
  },
  "language_info": {
   "codemirror_mode": {
    "name": "ipython",
    "version": 3
   },
   "file_extension": ".py",
   "mimetype": "text/x-python",
   "name": "python",
   "nbconvert_exporter": "python",
   "pygments_lexer": "ipython3",
   "version": "3.7.4"
  }
 },
 "nbformat": 4,
 "nbformat_minor": 2
}
