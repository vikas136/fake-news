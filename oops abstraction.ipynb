{
 "cells": [
  {
   "cell_type": "markdown",
   "metadata": {},
   "source": [
    "# Data Abstraction"
   ]
  },
  {
   "cell_type": "code",
   "execution_count": 4,
   "metadata": {},
   "outputs": [
    {
     "name": "stdout",
     "output_type": "stream",
     "text": [
      "this is vikas\n"
     ]
    }
   ],
   "source": [
    "from abc import ABC,abstractmethod\n",
    "class A(ABC):\n",
    "    def display(self):\n",
    "        None\n",
    "        \n",
    "class B(A):\n",
    "    def display(self):\n",
    "        print('this is vikas')\n",
    "        \n",
    "obj=B()\n",
    "obj.display()"
   ]
  },
  {
   "cell_type": "code",
   "execution_count": 12,
   "metadata": {},
   "outputs": [
    {
     "name": "stdout",
     "output_type": "stream",
     "text": [
      "bringing good name\n",
      "working so hard\n",
      "looking everything in home\n",
      "working like a king\n"
     ]
    }
   ],
   "source": [
    "class vnaraiah(ABC):\n",
    "    @abstractmethod\n",
    "    def achieve(self):\n",
    "        pass\n",
    "    \n",
    "class vikas(vnaraiah):\n",
    "    def achieve(self):\n",
    "        print('bringing good name')\n",
    "        \n",
    "class swathi(vnaraiah):\n",
    "    def achieve(self):\n",
    "        print('working so hard')\n",
    "        \n",
    "class suvarna(vnaraiah):\n",
    "    def achieve(self):\n",
    "        print('looking everything in home')\n",
    "class padma(vnaraiah):\n",
    "    def achieve(self):\n",
    "        print('working like a king')\n",
    "        \n",
    "        \n",
    "obj1=vikas()\n",
    "obj1.achieve()\n",
    "obj2=swathi()\n",
    "obj2.achieve()\n",
    "obj3=suvarna()\n",
    "obj3.achieve()\n",
    "obj4=padma()\n",
    "obj4.achieve()"
   ]
  },
  {
   "cell_type": "code",
   "execution_count": 10,
   "metadata": {},
   "outputs": [
    {
     "name": "stdout",
     "output_type": "stream",
     "text": [
      "done so hard\n",
      "some kind of pain sometime\n"
     ]
    }
   ],
   "source": [
    "class vnaraiah(ABC):\n",
    "    def achievement(self):\n",
    "        pass\n",
    "    def weakness(self):\n",
    "        pass\n",
    "    \n",
    "class padma(vnaraiah):                   # it is consider as abstract class because we have not created both methods if we execute with one method it displays error\n",
    "    def achievement(self):\n",
    "        print('done so hard')\n",
    "        \n",
    "class vikas(padma):\n",
    "    def weakness(self):\n",
    "        print('some kind of pain sometime')\n",
    "        \n",
    "obj=vikas()\n",
    "obj.achievement()\n",
    "obj.weakness()"
   ]
  },
  {
   "cell_type": "code",
   "execution_count": 9,
   "metadata": {},
   "outputs": [
    {
     "name": "stdout",
     "output_type": "stream",
     "text": [
      "bringing good name\n",
      "some kind of pain sometime\n"
     ]
    }
   ],
   "source": [
    "class vnaraiah(ABC):\n",
    "    def achievement(self):\n",
    "        pass\n",
    "    def weakness(self):\n",
    "        pass\n",
    "    \n",
    "class padma(vnaraiah):\n",
    "    def achievement(self):\n",
    "        print('done so hard')\n",
    "        \n",
    "class vikas(padma):\n",
    "    def achievement(self):\n",
    "        print('bringing good name')\n",
    "    def weakness(self):\n",
    "        print('some kind of pain sometime')\n",
    "        \n",
    "obj=vikas()\n",
    "obj.achievement()\n",
    "obj.weakness()"
   ]
  },
  {
   "cell_type": "markdown",
   "metadata": {},
   "source": [
    "# Abstraction with constructor"
   ]
  },
  {
   "cell_type": "code",
   "execution_count": 11,
   "metadata": {},
   "outputs": [
    {
     "name": "stdout",
     "output_type": "stream",
     "text": [
      "200\n",
      "90\n"
     ]
    }
   ],
   "source": [
    "class maths(ABC):\n",
    "    def __init__(self,value):\n",
    "        self.value=value\n",
    "        \n",
    "    def add(self):\n",
    "        pass\n",
    "    def sub(self):\n",
    "        pass\n",
    "    \n",
    "class m(maths):\n",
    "    def add(self):\n",
    "        print(self.value+100)\n",
    "        \n",
    "    def sub(self):\n",
    "        print(self.value-10)\n",
    "        \n",
    "obj=m(100)\n",
    "obj.add()\n",
    "obj.sub()"
   ]
  },
  {
   "cell_type": "code",
   "execution_count": null,
   "metadata": {},
   "outputs": [],
   "source": []
  },
  {
   "cell_type": "code",
   "execution_count": null,
   "metadata": {},
   "outputs": [],
   "source": []
  },
  {
   "cell_type": "code",
   "execution_count": null,
   "metadata": {},
   "outputs": [],
   "source": []
  }
 ],
 "metadata": {
  "kernelspec": {
   "display_name": "Python 3",
   "language": "python",
   "name": "python3"
  },
  "language_info": {
   "codemirror_mode": {
    "name": "ipython",
    "version": 3
   },
   "file_extension": ".py",
   "mimetype": "text/x-python",
   "name": "python",
   "nbconvert_exporter": "python",
   "pygments_lexer": "ipython3",
   "version": "3.7.4"
  }
 },
 "nbformat": 4,
 "nbformat_minor": 2
}
