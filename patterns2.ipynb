{
 "cells": [
  {
   "cell_type": "code",
   "execution_count": 1,
   "metadata": {},
   "outputs": [
    {
     "name": "stdout",
     "output_type": "stream",
     "text": [
      "enter a number5\n",
      "* \n",
      "* * \n",
      "* * * \n",
      "* * * * \n",
      "* * * * * \n"
     ]
    }
   ],
   "source": [
    "n=int(input('enter a number'))\n",
    "for i in range(1,n+1):\n",
    "    for j in range(1,i+1):\n",
    "        print('*',end=\" \")\n",
    "    print()"
   ]
  },
  {
   "cell_type": "code",
   "execution_count": 5,
   "metadata": {},
   "outputs": [
    {
     "name": "stdout",
     "output_type": "stream",
     "text": [
      "enter a number5\n",
      "1 \n",
      "2 2 \n",
      "3 3 3 \n",
      "4 4 4 4 \n",
      "5 5 5 5 5 \n"
     ]
    }
   ],
   "source": [
    "n=int(input('enter a number'))\n",
    "for i in range(1,n+1):\n",
    "    for j in range(1,i+1):\n",
    "        print(i,end=\" \")\n",
    "    print()"
   ]
  },
  {
   "cell_type": "code",
   "execution_count": 6,
   "metadata": {},
   "outputs": [
    {
     "name": "stdout",
     "output_type": "stream",
     "text": [
      "enter a number5\n",
      "1 \n",
      "1 2 \n",
      "1 2 3 \n",
      "1 2 3 4 \n",
      "1 2 3 4 5 \n"
     ]
    }
   ],
   "source": [
    "n=int(input('enter a number'))\n",
    "for i in range(1,n+1):\n",
    "    for j in range(1,i+1):\n",
    "        print(j,end=\" \")\n",
    "    print()"
   ]
  },
  {
   "cell_type": "code",
   "execution_count": 10,
   "metadata": {},
   "outputs": [
    {
     "name": "stdout",
     "output_type": "stream",
     "text": [
      "enter a string: vikas\n",
      "v \n",
      "v i \n",
      "v i k \n",
      "v i k a \n",
      "v i k a s \n"
     ]
    }
   ],
   "source": [
    "n=input('enter a string: ')\n",
    "k=len(n)\n",
    "for i in range(len(n)):\n",
    "    for j in range(i+1):\n",
    "        print(n[j],end=\" \")\n",
    "    print()"
   ]
  },
  {
   "cell_type": "code",
   "execution_count": 16,
   "metadata": {},
   "outputs": [
    {
     "name": "stdout",
     "output_type": "stream",
     "text": [
      "enter the name:5\n",
      "enter the namevikas\n",
      "vikas \n",
      "vikas vikas \n",
      "vikas vikas vikas \n",
      "vikas vikas vikas vikas \n",
      "vikas vikas vikas vikas vikas \n"
     ]
    }
   ],
   "source": [
    "n=int(input('enter the name:'))\n",
    "k=input('enter the name')\n",
    "for i in range(1,n+1):\n",
    "    for j in range(1,i+1):\n",
    "        print(k,end=\" \")\n",
    "    print()"
   ]
  },
  {
   "cell_type": "code",
   "execution_count": 20,
   "metadata": {},
   "outputs": [
    {
     "name": "stdout",
     "output_type": "stream",
     "text": [
      "enter a number5\n",
      "1 2 3 4 5 \n",
      "1 2 3 4 \n",
      "1 2 3 \n",
      "1 2 \n",
      "1 \n"
     ]
    }
   ],
   "source": [
    "n=int(input('enter a number'))\n",
    "for i in range(n,0,-1):\n",
    "    for j in range(1,i+1):\n",
    "        print(j,end=\" \")\n",
    "    print()"
   ]
  },
  {
   "cell_type": "code",
   "execution_count": 21,
   "metadata": {},
   "outputs": [
    {
     "name": "stdout",
     "output_type": "stream",
     "text": [
      "enter a number5\n",
      "5 5 5 5 5 \n",
      "4 4 4 4 \n",
      "3 3 3 \n",
      "2 2 \n",
      "1 \n"
     ]
    }
   ],
   "source": [
    "n=int(input('enter a number'))\n",
    "for i in range(n,0,-1):\n",
    "    for j in range(1,i+1):\n",
    "        print(i,end=\" \")\n",
    "    print()"
   ]
  },
  {
   "cell_type": "code",
   "execution_count": 25,
   "metadata": {},
   "outputs": [
    {
     "name": "stdout",
     "output_type": "stream",
     "text": [
      "enter a number5\n",
      "enter the namevikas\n",
      "vikas \n",
      "vikas vikas \n",
      "vikas vikas vikas \n",
      "vikas vikas vikas vikas \n",
      "vikas vikas vikas vikas vikas \n"
     ]
    }
   ],
   "source": [
    "n=int(input('enter a number'))\n",
    "k=input('enter the name')\n",
    "for i in range(1,n+1):\n",
    "    for j in range(1,i+1):\n",
    "        print(k,end=\" \")\n",
    "    print()"
   ]
  },
  {
   "cell_type": "code",
   "execution_count": 32,
   "metadata": {},
   "outputs": [
    {
     "name": "stdout",
     "output_type": "stream",
     "text": [
      "enter the namevikas\n",
      "v \n",
      "v i \n",
      "v i k \n",
      "v i k a \n",
      "v i k a s \n"
     ]
    }
   ],
   "source": [
    "n=input('enter the name')\n",
    "k=len(n)\n",
    "for i in range(k):\n",
    "    for j in range(i+1):\n",
    "        print(n[j],end=\" \")\n",
    "    print()"
   ]
  },
  {
   "cell_type": "code",
   "execution_count": 33,
   "metadata": {},
   "outputs": [
    {
     "name": "stdout",
     "output_type": "stream",
     "text": [
      "enter a number5\n",
      "1 \n",
      "2 3 \n",
      "4 5 6 \n",
      "7 8 9 10 \n",
      "11 12 13 14 15 \n"
     ]
    }
   ],
   "source": [
    "n=int(input('enter a number'))\n",
    "k=1\n",
    "for i in range(1,n+1):\n",
    "    for j in range(1,i+1):\n",
    "        print(k,end=\" \")\n",
    "        k=k+1\n",
    "    print()"
   ]
  },
  {
   "cell_type": "code",
   "execution_count": 34,
   "metadata": {},
   "outputs": [
    {
     "name": "stdout",
     "output_type": "stream",
     "text": [
      "enter a number5\n",
      "2 \n",
      "4 6 \n",
      "8 10 12 \n",
      "14 16 18 20 \n",
      "22 24 26 28 30 \n"
     ]
    }
   ],
   "source": [
    "n=int(input('enter a number'))\n",
    "k=2\n",
    "for i in range(1,n+1):\n",
    "    for j in range(1,i+1):\n",
    "        print(k,end=\" \")\n",
    "        k=k+2\n",
    "    print()"
   ]
  },
  {
   "cell_type": "code",
   "execution_count": 35,
   "metadata": {},
   "outputs": [
    {
     "name": "stdout",
     "output_type": "stream",
     "text": [
      "enter a number5\n",
      "2 \n",
      "2 2 \n",
      "2 2 2 \n",
      "2 2 2 2 \n",
      "2 2 2 2 2 \n"
     ]
    }
   ],
   "source": [
    "n=int(input('enter a number'))\n",
    "k=2\n",
    "for i in range(1,n+1):\n",
    "    for j in range(1,i+1):\n",
    "        print(k,end=\" \")\n",
    "    \n",
    "    print()"
   ]
  },
  {
   "cell_type": "code",
   "execution_count": 1,
   "metadata": {},
   "outputs": [
    {
     "name": "stdout",
     "output_type": "stream",
     "text": [
      "enter a number5\n",
      " 1 \n",
      " 1 \n",
      " 1 \n",
      "\n",
      " 1 2 \n",
      " 1 2 \n",
      "\n",
      " 1 2 3 \n",
      "\n",
      "\n",
      "\n"
     ]
    }
   ],
   "source": [
    "n=int(input('enter a number'))\n",
    "for i in range(1,n+1):\n",
    "    for j in range(1,n-i):\n",
    "        print(end=\" \")\n",
    "        for k in range(1,i+1):\n",
    "            print(k,end=\" \")\n",
    "        print()\n",
    "    print()\n",
    "    "
   ]
  },
  {
   "cell_type": "code",
   "execution_count": 2,
   "metadata": {},
   "outputs": [
    {
     "name": "stdout",
     "output_type": "stream",
     "text": [
      "enter the number5\n",
      "1 \n",
      "2 2 \n",
      "3 3 3 \n",
      "4 4 4 4 \n",
      "5 5 5 5 5 \n"
     ]
    }
   ],
   "source": [
    "n=int(input('enter the number'))\n",
    "for i in range(1,n+1):\n",
    "    for j in range(1,i+1):\n",
    "        print(i,end=\" \")\n",
    "    print()"
   ]
  },
  {
   "cell_type": "code",
   "execution_count": 3,
   "metadata": {},
   "outputs": [
    {
     "name": "stdout",
     "output_type": "stream",
     "text": [
      "enter the number5\n",
      "1 \n",
      "1 2 \n",
      "1 2 3 \n",
      "1 2 3 4 \n",
      "1 2 3 4 5 \n"
     ]
    }
   ],
   "source": [
    "n=int(input('enter the number'))\n",
    "for i in range(1,n+1):\n",
    "    for j in range(1,i+1):\n",
    "        print(j,end=\" \")\n",
    "    print()"
   ]
  },
  {
   "cell_type": "code",
   "execution_count": 4,
   "metadata": {},
   "outputs": [
    {
     "name": "stdout",
     "output_type": "stream",
     "text": [
      "enter the number5\n",
      "* \n",
      "* * \n",
      "* * * \n",
      "* * * * \n",
      "* * * * * \n"
     ]
    }
   ],
   "source": [
    "n=int(input('enter the number'))\n",
    "for i in range(1,n+1):\n",
    "    for j in range(1,i+1):\n",
    "        print('*',end=\" \")\n",
    "    print()"
   ]
  },
  {
   "cell_type": "code",
   "execution_count": 6,
   "metadata": {},
   "outputs": [
    {
     "name": "stdout",
     "output_type": "stream",
     "text": [
      "enter the number5\n",
      "1 \n",
      "2 3 \n",
      "4 5 6 \n",
      "7 8 9 10 \n",
      "11 12 13 14 15 \n"
     ]
    }
   ],
   "source": [
    "n=int(input('enter the number'))\n",
    "k=1\n",
    "for i in range(1,n+1):\n",
    "    for j in range(1,i+1):\n",
    "        print(k,end=\" \")\n",
    "        k=k+1\n",
    "    print()"
   ]
  },
  {
   "cell_type": "code",
   "execution_count": 7,
   "metadata": {},
   "outputs": [
    {
     "name": "stdout",
     "output_type": "stream",
     "text": [
      "enter the number5\n",
      "2 \n",
      "4 6 \n",
      "8 10 12 \n",
      "14 16 18 20 \n",
      "22 24 26 28 30 \n"
     ]
    }
   ],
   "source": [
    "n=int(input('enter the number'))\n",
    "k=2\n",
    "for i in range(1,n+1):\n",
    "    for j in range(1,i+1):\n",
    "        print(k,end=\" \")\n",
    "        k=k+2\n",
    "    print()"
   ]
  },
  {
   "cell_type": "code",
   "execution_count": 8,
   "metadata": {},
   "outputs": [
    {
     "name": "stdout",
     "output_type": "stream",
     "text": [
      "enter the number5\n",
      "1 \n",
      "3 5 \n",
      "7 9 11 \n",
      "13 15 17 19 \n",
      "21 23 25 27 29 \n"
     ]
    }
   ],
   "source": [
    "n=int(input('enter the number'))\n",
    "k=1\n",
    "for i in range(1,n+1):\n",
    "    for j in range(1,i+1):\n",
    "        print(k,end=\" \")\n",
    "        k=k+2\n",
    "    print()"
   ]
  },
  {
   "cell_type": "code",
   "execution_count": 1,
   "metadata": {},
   "outputs": [
    {
     "name": "stdout",
     "output_type": "stream",
     "text": [
      "enter the number5\n",
      "1    5 \n",
      " 2  4  \n",
      "  3   \n",
      " 2  4  \n",
      "1    5 \n"
     ]
    }
   ],
   "source": [
    "n=int(input('enter the number'))\n",
    "for i in range(1,n+1):\n",
    "    for j in range(1,n+1):\n",
    "        if (i==j or i+j==6):\n",
    "            print(j,end=\" \")\n",
    "        else:\n",
    "            print(end=\" \")\n",
    "    print()"
   ]
  },
  {
   "cell_type": "code",
   "execution_count": 5,
   "metadata": {},
   "outputs": [
    {
     "name": "stdout",
     "output_type": "stream",
     "text": [
      "enter the namevikas\n",
      "v \n",
      "v i \n",
      "v i k \n",
      "v i k a \n",
      "v i k a s \n"
     ]
    }
   ],
   "source": [
    "n=input('enter the name')\n",
    "k=len(n)\n",
    "for i in range(k):\n",
    "    for j in range(i+1):\n",
    "        print(n[j],end=\" \")\n",
    "    print()"
   ]
  },
  {
   "cell_type": "code",
   "execution_count": 9,
   "metadata": {},
   "outputs": [
    {
     "name": "stdout",
     "output_type": "stream",
     "text": [
      "           A * A * A * * \n",
      "          * A * A * * * \n",
      "         * * A * A * * \n",
      "        * A * A * A * \n"
     ]
    }
   ],
   "source": [
    "for i in range(1,5):\n",
    "    for j in range(1,8):\n",
    "        print(end=\" \")\n",
    "    for j in range(1,5-i+1):\n",
    "        print(end=\" \")\n",
    "    for j in range(1,8):\n",
    "        if(i+j==6 or i==j or j-i==2):\n",
    "            print('A',end=\" \")\n",
    "        else:\n",
    "            print('*',end=\" \")\n",
    "    print()"
   ]
  },
  {
   "cell_type": "code",
   "execution_count": 12,
   "metadata": {},
   "outputs": [
    {
     "name": "stdout",
     "output_type": "stream",
     "text": [
      "enter the number5\n",
      "enter the namevikas\n",
      "vikas \n",
      "vikas vikas \n",
      "vikas vikas vikas \n",
      "vikas vikas vikas vikas \n",
      "vikas vikas vikas vikas vikas \n"
     ]
    }
   ],
   "source": [
    "r=int(input('enter the number'))\n",
    "n=input('enter the name')\n",
    "k=len(n)\n",
    "for i in range(1,r+1 ):\n",
    "    for j in range(1,i+1):\n",
    "        print(n,end=\" \")\n",
    "    print()"
   ]
  },
  {
   "cell_type": "code",
   "execution_count": 31,
   "metadata": {},
   "outputs": [
    {
     "name": "stdout",
     "output_type": "stream",
     "text": [
      "enter a number5\n",
      "    * \n",
      "   * * \n",
      "  * * * \n",
      " * * * * \n",
      "* * * * * \n"
     ]
    }
   ],
   "source": [
    "n=int(input('enter a number'))\n",
    "for i in range(0,n):\n",
    "    for j in range(0,(n-i-1)):\n",
    "        print(end=\" \")\n",
    "    for j in range(0,i+1):\n",
    "        print('*',end=\" \")\n",
    "    print()"
   ]
  },
  {
   "cell_type": "code",
   "execution_count": 9,
   "metadata": {},
   "outputs": [
    {
     "name": "stdout",
     "output_type": "stream",
     "text": [
      "enter the number5\n",
      "* * * * * \n",
      " * * * * \n",
      "  * * * \n",
      "   * * \n",
      "    * \n"
     ]
    }
   ],
   "source": [
    "n=int(input('enter the number'))\n",
    "for i in range(n,0,-1):\n",
    "    for j in range(0,n-i):\n",
    "        print(end=\" \")\n",
    "    for j in range(0,i):\n",
    "        print('*',end=\" \")\n",
    "    print()"
   ]
  },
  {
   "cell_type": "code",
   "execution_count": 2,
   "metadata": {},
   "outputs": [
    {
     "name": "stdout",
     "output_type": "stream",
     "text": [
      "enter the number5\n",
      "1 \n",
      "1 \n",
      "1 \n",
      "1 \n",
      "1 \n"
     ]
    }
   ],
   "source": [
    "n=int(input('enter the number'))\n",
    "for i in range(0,n):\n",
    "    for j in range(n-4,0):\n",
    "        print(end=\" \")\n",
    "    for j in range(1,n-3):\n",
    "        print(j,end=\" \")\n",
    "    print()"
   ]
  },
  {
   "cell_type": "code",
   "execution_count": 33,
   "metadata": {},
   "outputs": [
    {
     "name": "stdout",
     "output_type": "stream",
     "text": [
      "enter the number5\n",
      "    1 \n",
      "   2 2 2 \n",
      "  3 3 3 2 3 \n",
      " 4 4 4 4 2 3 4 \n",
      "5 5 5 5 5 2 3 4 5 \n"
     ]
    }
   ],
   "source": [
    "n=int(input('enter the number'))\n",
    "for i in range(1,n+1):\n",
    "    for j in range(1,n-i+1):\n",
    "        print(end=\" \")\n",
    "    for j in range(i,0,-1):\n",
    "        print(i,end=\" \")\n",
    "    for j in range(2,i+1):\n",
    "        print(j,end=\" \")\n",
    "    print()\n",
    "                \n",
    "        "
   ]
  },
  {
   "cell_type": "code",
   "execution_count": 73,
   "metadata": {},
   "outputs": [
    {
     "name": "stdout",
     "output_type": "stream",
     "text": [
      "enter a number5\n",
      "    1 \n",
      "   2 1 2 \n",
      "  3 2 1 2 3 \n",
      " 4 3 2 1 2 3 4 \n",
      "5 4 3 2 1 2 3 4 5 \n"
     ]
    }
   ],
   "source": [
    "n=int(input('enter a number'))\n",
    "for i in range(1,n+1):\n",
    "    for j in range(1,n-i+1):\n",
    "        print(end=\" \")\n",
    "    for j in range(i,0,-1):\n",
    "        print(j,end=\" \")\n",
    "    for j in range(2,i+1):\n",
    "        print(j,end=\" \")\n",
    "    print()"
   ]
  },
  {
   "cell_type": "code",
   "execution_count": 72,
   "metadata": {},
   "outputs": [
    {
     "name": "stdout",
     "output_type": "stream",
     "text": [
      "   *   \n",
      "  *  *  \n",
      " *    * \n",
      "* * * * * * \n"
     ]
    }
   ],
   "source": [
    "for row in range(1,5):\n",
    "    for col in range(1,7):\n",
    "        if row == 4 or row+col == 5 or col-row == 3:\n",
    "            print('*',end=\" \")\n",
    "        else:\n",
    "            print(end=\" \")\n",
    "    print()"
   ]
  },
  {
   "cell_type": "code",
   "execution_count": 69,
   "metadata": {},
   "outputs": [
    {
     "name": "stdout",
     "output_type": "stream",
     "text": [
      "*        \n",
      "*  *      \n",
      "*    *    \n",
      "*      *  \n",
      "*  *  *  *  \n"
     ]
    }
   ],
   "source": [
    "for row in range(1,6):\n",
    "    for col in range(1,5):\n",
    "        if row==5 or col==1 or row ==col:\n",
    "            print('*',end=\"  \")\n",
    "        else:\n",
    "            print(end=\"  \")\n",
    "    print()"
   ]
  },
  {
   "cell_type": "code",
   "execution_count": 28,
   "metadata": {},
   "outputs": [
    {
     "name": "stdout",
     "output_type": "stream",
     "text": [
      "  *  *    *  *    \n",
      "*      *      *  \n",
      "*            *  \n",
      "  *        *    \n",
      "    *    *      \n",
      "      *        \n"
     ]
    }
   ],
   "source": [
    "for row in range(6):\n",
    "    for col in range(7):\n",
    "        if((row==0 and col%3!=0) or (row==1 and col%3==0) or (row-col==2) or (row+col==8)):\n",
    "            print('*',end=\"  \")\n",
    "        else:\n",
    "            print(end=\"  \")\n",
    "    print()"
   ]
  },
  {
   "cell_type": "code",
   "execution_count": 1,
   "metadata": {},
   "outputs": [
    {
     "name": "stdout",
     "output_type": "stream",
     "text": [
      "*  *  *  *  *  \n",
      "*        *  \n",
      "*        *  \n",
      "*  *  *  *  *  \n",
      "*        *  \n",
      "*        *  \n",
      "*        *  \n"
     ]
    }
   ],
   "source": [
    "for row in range(7):\n",
    "    for col in range(5):\n",
    "        if(((col==0 or col==4) and (row!=0 or row!=3)) or ((row==0 or row==3) and (col>0 or col<4))):\n",
    "            print('*',end=\"  \")\n",
    "        else:\n",
    "            print(end=\"  \")\n",
    "    print()"
   ]
  },
  {
   "cell_type": "code",
   "execution_count": 60,
   "metadata": {},
   "outputs": [
    {
     "name": "stdout",
     "output_type": "stream",
     "text": [
      "*  *  *    \n",
      "*      *  \n",
      "*      *  \n",
      "*  *  *    \n",
      "*      *  \n",
      "*      *  \n",
      "*  *  *    \n"
     ]
    }
   ],
   "source": [
    "for row in range(7):\n",
    "    for col in range(4):\n",
    "        if(((row==0 or row==3 or row==6) and col<3) or ((row==1 or row==2) and (col==0 or col==3)) or ((row==4 or row==5) and(col==0 or col==3))):\n",
    "            print('*',end=\"  \")\n",
    "        else:\n",
    "            print(end=\"  \")\n",
    "    print()"
   ]
  },
  {
   "cell_type": "code",
   "execution_count": 40,
   "metadata": {},
   "outputs": [
    {
     "name": "stdout",
     "output_type": "stream",
     "text": [
      "*   * \n",
      "*  *  \n",
      "* *   \n",
      "*    \n",
      "* *   \n",
      "*  *  \n",
      "*   * \n"
     ]
    }
   ],
   "source": [
    "for row in range(7):\n",
    "    for col in range(4):\n",
    "        if(col==0 or ((row+col==3) or (row-col==3))):\n",
    "            print('*',end=\" \")\n",
    "        else:\n",
    "            print(end=\" \")\n",
    "    print()"
   ]
  },
  {
   "cell_type": "code",
   "execution_count": 55,
   "metadata": {},
   "outputs": [
    {
     "name": "stdout",
     "output_type": "stream",
     "text": [
      "     \n",
      "     \n",
      "     \n",
      "     \n",
      "     \n",
      "     \n"
     ]
    }
   ],
   "source": [
    "for row in range(0,6):\n",
    "    for col in range(0,5):\n",
    "        if(((row>0 or row<6) and (col==0)) and ((row==0 or row==6) and (col>0))):\n",
    "            print('*',end=\" \")\n",
    "        else:\n",
    "            print(end=\" \")\n",
    "    print()"
   ]
  },
  {
   "cell_type": "code",
   "execution_count": 56,
   "metadata": {},
   "outputs": [
    {
     "name": "stdout",
     "output_type": "stream",
     "text": [
      "*      * \n",
      " *    *  \n",
      "  *  *   \n",
      "   *    \n"
     ]
    }
   ],
   "source": [
    "for i in range(1,5):\n",
    "    for j in range(1,8):\n",
    "        if((i==j) or (i+j==8)):\n",
    "            print('*',end=\" \")\n",
    "        else:\n",
    "            print(end=\" \")\n",
    "    print()"
   ]
  },
  {
   "cell_type": "code",
   "execution_count": 138,
   "metadata": {},
   "outputs": [
    {
     "name": "stdout",
     "output_type": "stream",
     "text": [
      "*                *  *  *      *        *            *  *  *    \n",
      "  *              *  *  *    *        *    *          *        \n",
      "    *          *    *  *  *        *        *        *  *  *    \n",
      "      *      *      *  *  *      *            *            *  \n",
      "        *  *        *  *    *  *                *    *  *  *    \n"
     ]
    }
   ],
   "source": [
    "for i in range(5):\n",
    "    for j in range(27):\n",
    "        if(((i==j) or (i+j==9)) or (j==9) or ((j==10) or (i+j==13   or j-i==8)) or ((i+j==17) or (j-i==17)) or (((i==0) or (i==2) or (i==4)) and (j>22 and j<26) or (j==23 and i==1) or ((j==26 and i==3)) )):\n",
    "            print('*',end=\"  \")\n",
    "        else:\n",
    "            print(end=\"  \")\n",
    "    print()"
   ]
  },
  {
   "cell_type": "code",
   "execution_count": 117,
   "metadata": {},
   "outputs": [
    {
     "name": "stdout",
     "output_type": "stream",
     "text": [
      "*        * * *   *    *      * * * \n",
      " *       * * *  *    *  *     *   \n",
      "  *     *  * * *    *    *    * * * \n",
      "   *   *   * * *   *      *      \n",
      "    * *    * *  * *        *  * * * \n"
     ]
    }
   ],
   "source": [
    "for i in range(5):\n",
    "    for j in range(26):\n",
    "        if(((i==j) or (i+j==9)) or (j==9) or ((j==10) or (i+j==13  or j-i==8)) or ((i+j==17) or (j-i==17)) or (((i==0) or (i==2) or (i==4)) and (j>22 and j<26) or (j==23 and i==1) or (i==3 and j==26))):\n",
    "            print('*',end=\" \")\n",
    "        else:\n",
    "            print(end=\" \")\n",
    "    print()"
   ]
  },
  {
   "cell_type": "code",
   "execution_count": 141,
   "metadata": {},
   "outputs": [
    {
     "name": "stdout",
     "output_type": "stream",
     "text": [
      "*                *  *  *      *        *            *  *  *    \n",
      "  *              *  *  *    *        *    *          *        \n",
      "    *          *    *  *  *        *      *  *        *  *  *    \n",
      "      *      *      *  *  *      *            *            *  \n",
      "        *  *        *  *    *  *                *    *  *  *    \n"
     ]
    }
   ],
   "source": [
    "for i in range(5):\n",
    "    for j in range(27):\n",
    "        if(((i==j) or (i+j==9)) or (j==9) or ((j==10) or (i+j==13   or j-i==8)) or ((i+j==17) or (j==18 and i==2) or (j-i==17)) or (((i==0) or (i==2) or (i==4)) and (j>22 and j<26) or (j==23 and i==1) or ((j==26 and i==3)) )):\n",
    "            print('*',end=\"  \")\n",
    "        else:\n",
    "            print(end=\"  \")\n",
    "    print()"
   ]
  }
 ],
 "metadata": {
  "kernelspec": {
   "display_name": "Python 3",
   "language": "python",
   "name": "python3"
  },
  "language_info": {
   "codemirror_mode": {
    "name": "ipython",
    "version": 3
   },
   "file_extension": ".py",
   "mimetype": "text/x-python",
   "name": "python",
   "nbconvert_exporter": "python",
   "pygments_lexer": "ipython3",
   "version": "3.7.4"
  }
 },
 "nbformat": 4,
 "nbformat_minor": 2
}
