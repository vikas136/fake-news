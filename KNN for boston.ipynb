{
 "cells": [
  {
   "cell_type": "code",
   "execution_count": 1,
   "metadata": {},
   "outputs": [],
   "source": [
    "import pandas as pd\n",
    "import numpy as np\n",
    "import matplotlib.pyplot as plt\n",
    "import seaborn as sns"
   ]
  },
  {
   "cell_type": "code",
   "execution_count": 2,
   "metadata": {},
   "outputs": [],
   "source": [
    "from sklearn.datasets import *"
   ]
  },
  {
   "cell_type": "code",
   "execution_count": 3,
   "metadata": {},
   "outputs": [],
   "source": [
    "df=load_boston()"
   ]
  },
  {
   "cell_type": "code",
   "execution_count": 4,
   "metadata": {},
   "outputs": [],
   "source": [
    "x=df['data']"
   ]
  },
  {
   "cell_type": "code",
   "execution_count": 5,
   "metadata": {},
   "outputs": [],
   "source": [
    "y=df['target']"
   ]
  },
  {
   "cell_type": "code",
   "execution_count": 6,
   "metadata": {},
   "outputs": [],
   "source": [
    "from sklearn.model_selection import train_test_split\n",
    "x_train,x_test,y_train,y_test=train_test_split(x,y,test_size=0.25,random_state=0)"
   ]
  },
  {
   "cell_type": "code",
   "execution_count": 7,
   "metadata": {},
   "outputs": [],
   "source": [
    "from sklearn.preprocessing import StandardScaler\n",
    "ss=StandardScaler()\n",
    "x1_train=ss.fit_transform(x_train)\n",
    "x1_test=ss.transform(x_test)"
   ]
  },
  {
   "cell_type": "code",
   "execution_count": 8,
   "metadata": {},
   "outputs": [],
   "source": [
    "from sklearn.neighbors import KNeighborsRegressor"
   ]
  },
  {
   "cell_type": "code",
   "execution_count": 9,
   "metadata": {},
   "outputs": [],
   "source": [
    "from sklearn.metrics import *\n",
    "from numpy import sqrt"
   ]
  },
  {
   "cell_type": "code",
   "execution_count": 10,
   "metadata": {},
   "outputs": [
    {
     "data": {
      "text/plain": [
       "array([23.1       , 17.3       , 23.3       , 11.26666667, 22.03333333,\n",
       "       19.66666667, 21.2       , 19.        , 22.16666667, 14.06666667,\n",
       "        7.63333333, 10.36666667, 14.63333333,  9.76666667, 34.83333333,\n",
       "       28.6       , 21.16666667, 35.73333333, 29.6       , 21.36666667,\n",
       "       22.83333333, 20.8       , 19.6       , 27.33333333, 22.8       ,\n",
       "       18.5       , 16.56666667, 16.86666667, 41.        , 17.96666667,\n",
       "       14.2       , 17.76666667, 21.43333333, 20.8       , 28.2       ,\n",
       "       20.73333333, 11.26666667, 31.46666667, 13.73333333, 16.26666667,\n",
       "       25.8       , 21.6       , 20.46666667, 18.33333333, 21.26666667,\n",
       "       24.13333333, 22.56666667, 18.56666667, 16.        , 22.53333333,\n",
       "       18.56666667, 21.86666667, 22.2       , 27.46666667, 17.33333333,\n",
       "       21.53333333, 20.83333333, 18.6       , 11.4       , 20.33333333,\n",
       "       22.7       , 22.63333333, 32.36666667, 24.93333333, 19.86666667,\n",
       "       34.63333333, 13.9       , 18.13333333, 11.76666667, 23.33333333,\n",
       "       21.7       , 22.03333333, 22.        , 32.43333333, 26.        ,\n",
       "       10.4       , 37.        , 23.73333333, 28.86666667, 18.7       ,\n",
       "       22.63333333, 18.43333333, 15.9       , 37.        , 39.7       ,\n",
       "       23.56666667, 24.6       , 13.76666667, 18.83333333, 14.56666667,\n",
       "       20.46666667,  9.9       , 22.83333333, 26.36666667, 20.86666667,\n",
       "       22.46666667, 10.93333333, 22.83333333, 14.2       , 18.56666667,\n",
       "       24.9       , 19.6       , 27.2       , 23.46666667, 21.56666667,\n",
       "       19.43333333, 14.16666667, 15.8       , 21.5       , 23.13333333,\n",
       "       32.2       , 12.46666667, 18.13333333, 19.6       , 16.63333333,\n",
       "       22.13333333,  8.06666667, 18.93333333, 11.        , 37.43333333,\n",
       "       36.1       , 11.86666667, 20.53333333, 18.7       , 19.06666667,\n",
       "       20.73333333, 30.9       ])"
      ]
     },
     "execution_count": 10,
     "metadata": {},
     "output_type": "execute_result"
    }
   ],
   "source": [
    "\n",
    "    knn=KNeighborsRegressor(3)\n",
    "    knn.fit(x1_train,y_train)\n",
    "    pred=knn.predict(x1_test)\n",
    "    pred"
   ]
  },
  {
   "cell_type": "code",
   "execution_count": 15,
   "metadata": {},
   "outputs": [
    {
     "name": "stdout",
     "output_type": "stream",
     "text": [
      "error for k= 1 is 5.310300494188881\n",
      "error for k= 2 is 5.134572872467306\n",
      "error for k= 3 is 5.535966865314339\n",
      "error for k= 4 is 5.828915415517695\n",
      "error for k= 5 is 5.666707302617923\n",
      "error for k= 6 is 5.614052289978306\n",
      "error for k= 7 is 5.716732884317857\n",
      "error for k= 8 is 5.777107022652523\n",
      "error for k= 9 is 5.778587247287309\n",
      "error for k= 10 is 5.713793574139166\n"
     ]
    }
   ],
   "source": [
    "rmse_val=[]\n",
    "for k in range(10):\n",
    "    k=k+1\n",
    "    knn=KNeighborsRegressor(n_neighbors=k)\n",
    "    knn.fit(x1_train,y_train)\n",
    "    pred1=knn.predict(x1_test)\n",
    "    error=sqrt(mean_squared_error(y_test,pred1))\n",
    "    rmse_val.append(error)\n",
    "    print('error for k=',k,'is',error)"
   ]
  },
  {
   "cell_type": "code",
   "execution_count": 16,
   "metadata": {},
   "outputs": [
    {
     "data": {
      "image/png": "[encoded data removed]",
      "text/plain": [
       "<Figure size 432x288 with 1 Axes>"
      ]
     },
     "metadata": {
      "needs_background": "light"
     },
     "output_type": "display_data"
    }
   ],
   "source": [
    "dfc=pd.DataFrame(rmse_val)\n",
    "plt.plot(dfc)\n",
    "plt.show()"
   ]
  },
  {
   "cell_type": "code",
   "execution_count": 12,
   "metadata": {},
   "outputs": [
    {
     "data": {
      "text/plain": [
       "array([22.  , 17.6 , 23.3 , 10.35, 20.55, 19.3 , 20.9 , 18.75, 23.15,\n",
       "       14.15,  7.95, 10.8 , 13.6 , 11.05, 38.5 , 26.8 , 22.2 , 32.45,\n",
       "       25.8 , 22.55, 24.05, 20.05, 19.7 , 28.4 , 21.85, 21.9 , 16.55,\n",
       "       17.6 , 44.9 , 18.55, 14.4 , 18.6 , 19.9 , 21.35, 27.35, 20.25,\n",
       "       11.8 , 36.35, 15.1 , 16.05, 25.15, 21.85, 20.25, 19.95, 21.65,\n",
       "       24.3 , 24.4 , 14.35, 16.2 , 23.75, 21.15, 23.15, 23.3 , 27.9 ,\n",
       "       17.9 , 20.7 , 19.55, 17.45, 13.6 , 19.65, 22.5 , 21.45, 30.35,\n",
       "       24.8 , 20.25, 33.45, 14.6 , 18.9 , 12.9 , 24.85, 21.95, 20.55,\n",
       "       23.3 , 30.45, 27.4 ,  8.7 , 39.65, 24.05, 29.1 , 17.15, 22.1 ,\n",
       "       18.6 , 16.75, 39.65, 39.65, 24.8 , 25.8 , 12.6 , 20.55, 14.3 ,\n",
       "       19.15, 10.65, 22.7 , 22.25, 22.2 , 23.9 , 12.  , 23.8 , 13.85,\n",
       "       18.6 , 25.  , 19.75, 26.3 , 23.1 , 22.1 , 18.9 , 12.3 , 17.95,\n",
       "       22.2 , 22.85, 36.15, 15.55, 18.9 , 18.8 , 16.65, 21.55,  7.95,\n",
       "       19.4 , 10.75, 39.6 , 36.7 , 12.05, 19.55, 19.3 , 20.5 , 20.95,\n",
       "       32.15])"
      ]
     },
     "execution_count": 12,
     "metadata": {},
     "output_type": "execute_result"
    }
   ],
   "source": [
    "knn=KNeighborsRegressor(2)\n",
    "knn.fit(x1_train,y_train)\n",
    "pred=knn.predict(x1_test)\n",
    "pred"
   ]
  },
  {
   "cell_type": "code",
   "execution_count": 13,
   "metadata": {},
   "outputs": [
    {
     "data": {
      "text/plain": [
       "67.73053084994119"
      ]
     },
     "execution_count": 13,
     "metadata": {},
     "output_type": "execute_result"
    }
   ],
   "source": [
    "accuracy=r2_score(y_test,pred)\n",
    "accuracy*100"
   ]
  }
 ],
 "metadata": {
  "kernelspec": {
   "display_name": "Python 3",
   "language": "python",
   "name": "python3"
  },
  "language_info": {
   "codemirror_mode": {
    "name": "ipython",
    "version": 3
   },
   "file_extension": ".py",
   "mimetype": "text/x-python",
   "name": "python",
   "nbconvert_exporter": "python",
   "pygments_lexer": "ipython3",
   "version": "3.7.4"
  }
 },
 "nbformat": 4,
 "nbformat_minor": 2
}
