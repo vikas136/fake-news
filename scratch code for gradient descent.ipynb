{
 "cells": [
  {
   "cell_type": "code",
   "execution_count": 1,
   "metadata": {},
   "outputs": [],
   "source": [
    "import pandas as pd\n",
    "import numpy as np"
   ]
  },
  {
   "cell_type": "code",
   "execution_count": 2,
   "metadata": {},
   "outputs": [],
   "source": [
    "x=np.array([1,2,3,4,5])\n",
    "y=np.array([4,5,6,7,8])"
   ]
  },
  {
   "cell_type": "code",
   "execution_count": 3,
   "metadata": {},
   "outputs": [
    {
     "name": "stdout",
     "output_type": "stream",
     "text": [
      "m 1.0,c 0.3, cost 38.0,i 0\n",
      "m 1.405,c 0.435, cost 7.290000000000001,i 1\n",
      "m 1.5670000000000002,c 0.5025, cost 2.1505500000000004,i 2\n",
      "m 1.6297750000000002,c 0.542325, cost 1.27739025,i 3\n",
      "m 1.6520500000000002,c 0.5707424999999999, cost 1.1162548237499998,i 4\n",
      "m 1.657811125,c 0.5943978749999999, cost 1.0741691115562497,i 5\n",
      "m 1.656855325,c 0.6160063124999998, cost 1.052200780824094,i 6\n",
      "m 1.653183949375,c 0.6366776981249999, cost 1.0338403094246944,i 7\n",
      "m 1.6484311225000001,c 0.6568662208124999, cost 1.016329122763726,i 8\n",
      "m 1.643264072003125,c 0.6767582413968749, cost 0.9992028344248998,i 9\n"
     ]
    }
   ],
   "source": [
    "def gradient(x,y):\n",
    "    m=0\n",
    "    c=0\n",
    "    l=0.01\n",
    "    it=10\n",
    "    n=len(x)\n",
    "    for i in range(it):\n",
    "        yp=m*x+c\n",
    "        cost=(1/n)*sum([val**2 for val in (y-yp)])\n",
    "        md=(-2//n)*(sum(x*(y-yp)))\n",
    "        cd=(-2//n)*(sum(y-yp))\n",
    "        m=m-(l*md)\n",
    "        c=c-(l*cd)\n",
    "        print(\"m {},c {}, cost {},i {}\".format(m,c,cost,i))\n",
    "gradient(x,y)"
   ]
  },
  {
   "cell_type": "code",
   "execution_count": null,
   "metadata": {},
   "outputs": [],
   "source": []
  },
  {
   "cell_type": "code",
   "execution_count": null,
   "metadata": {},
   "outputs": [],
   "source": []
  },
  {
   "cell_type": "code",
   "execution_count": null,
   "metadata": {},
   "outputs": [],
   "source": []
  },
  {
   "cell_type": "code",
   "execution_count": null,
   "metadata": {},
   "outputs": [],
   "source": []
  }
 ],
 "metadata": {
  "kernelspec": {
   "display_name": "Python 3",
   "language": "python",
   "name": "python3"
  },
  "language_info": {
   "codemirror_mode": {
    "name": "ipython",
    "version": 3
   },
   "file_extension": ".py",
   "mimetype": "text/x-python",
   "name": "python",
   "nbconvert_exporter": "python",
   "pygments_lexer": "ipython3",
   "version": "3.7.4"
  }
 },
 "nbformat": 4,
 "nbformat_minor": 2
}
