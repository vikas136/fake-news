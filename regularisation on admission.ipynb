{
 "cells": [
  {
   "cell_type": "code",
   "execution_count": 1,
   "metadata": {},
   "outputs": [],
   "source": [
    "import pandas as pd\n",
    "import numpy as np\n",
    "import matplotlib.pyplot as plt"
   ]
  },
  {
   "cell_type": "code",
   "execution_count": 3,
   "metadata": {},
   "outputs": [
    {
     "data": {
      "text/html": [
       "<div>\n",
       "<style scoped>\n",
       "    .dataframe tbody tr th:only-of-type {\n",
       "        vertical-align: middle;\n",
       "    }\n",
       "\n",
       "    .dataframe tbody tr th {\n",
       "        vertical-align: top;\n",
       "    }\n",
       "\n",
       "    .dataframe thead th {\n",
       "        text-align: right;\n",
       "    }\n",
       "</style>\n",
       "<table border=\"1\" class=\"dataframe\">\n",
       "  <thead>\n",
       "    <tr style=\"text-align: right;\">\n",
       "      <th></th>\n",
       "      <th>Serial No.</th>\n",
       "      <th>GRE Score</th>\n",
       "      <th>TOEFL Score</th>\n",
       "      <th>University Rating</th>\n",
       "      <th>SOP</th>\n",
       "      <th>LOR</th>\n",
       "      <th>CGPA</th>\n",
       "      <th>Research</th>\n",
       "      <th>Chance of Admit</th>\n",
       "    </tr>\n",
       "  </thead>\n",
       "  <tbody>\n",
       "    <tr>\n",
       "      <td>0</td>\n",
       "      <td>1</td>\n",
       "      <td>337</td>\n",
       "      <td>118</td>\n",
       "      <td>4</td>\n",
       "      <td>4.5</td>\n",
       "      <td>4.5</td>\n",
       "      <td>9.65</td>\n",
       "      <td>1</td>\n",
       "      <td>0.92</td>\n",
       "    </tr>\n",
       "    <tr>\n",
       "      <td>1</td>\n",
       "      <td>2</td>\n",
       "      <td>324</td>\n",
       "      <td>107</td>\n",
       "      <td>4</td>\n",
       "      <td>4.0</td>\n",
       "      <td>4.5</td>\n",
       "      <td>8.87</td>\n",
       "      <td>1</td>\n",
       "      <td>0.76</td>\n",
       "    </tr>\n",
       "    <tr>\n",
       "      <td>2</td>\n",
       "      <td>3</td>\n",
       "      <td>316</td>\n",
       "      <td>104</td>\n",
       "      <td>3</td>\n",
       "      <td>3.0</td>\n",
       "      <td>3.5</td>\n",
       "      <td>8.00</td>\n",
       "      <td>1</td>\n",
       "      <td>0.72</td>\n",
       "    </tr>\n",
       "    <tr>\n",
       "      <td>3</td>\n",
       "      <td>4</td>\n",
       "      <td>322</td>\n",
       "      <td>110</td>\n",
       "      <td>3</td>\n",
       "      <td>3.5</td>\n",
       "      <td>2.5</td>\n",
       "      <td>8.67</td>\n",
       "      <td>1</td>\n",
       "      <td>0.80</td>\n",
       "    </tr>\n",
       "    <tr>\n",
       "      <td>4</td>\n",
       "      <td>5</td>\n",
       "      <td>314</td>\n",
       "      <td>103</td>\n",
       "      <td>2</td>\n",
       "      <td>2.0</td>\n",
       "      <td>3.0</td>\n",
       "      <td>8.21</td>\n",
       "      <td>0</td>\n",
       "      <td>0.65</td>\n",
       "    </tr>\n",
       "  </tbody>\n",
       "</table>\n",
       "</div>"
      ],
      "text/plain": [
       "   Serial No.  GRE Score  TOEFL Score  University Rating  SOP  LOR   CGPA  \\\n",
       "0           1        337          118                  4  4.5   4.5  9.65   \n",
       "1           2        324          107                  4  4.0   4.5  8.87   \n",
       "2           3        316          104                  3  3.0   3.5  8.00   \n",
       "3           4        322          110                  3  3.5   2.5  8.67   \n",
       "4           5        314          103                  2  2.0   3.0  8.21   \n",
       "\n",
       "   Research  Chance of Admit   \n",
       "0         1              0.92  \n",
       "1         1              0.76  \n",
       "2         1              0.72  \n",
       "3         1              0.80  \n",
       "4         0              0.65  "
      ]
     },
     "execution_count": 3,
     "metadata": {},
     "output_type": "execute_result"
    }
   ],
   "source": [
    "df=pd.read_csv('C:\\\\Users\\\\krishna\\\\AppData\\\\Local\\\\Temp\\\\Temp1_graduate-admissions.zip\\\\Admission_Predict.csv')\n",
    "df.head()"
   ]
  },
  {
   "cell_type": "code",
   "execution_count": 9,
   "metadata": {},
   "outputs": [],
   "source": [
    "x=df.iloc[:,:-1].values"
   ]
  },
  {
   "cell_type": "code",
   "execution_count": 10,
   "metadata": {},
   "outputs": [],
   "source": [
    "y=df.iloc[:,-1].values"
   ]
  },
  {
   "cell_type": "code",
   "execution_count": 11,
   "metadata": {},
   "outputs": [],
   "source": [
    "from sklearn.model_selection import train_test_split\n",
    "x_train,x_test,y_train,y_test=train_test_split(x,y,test_size=0.25,random_state=0)"
   ]
  },
  {
   "cell_type": "code",
   "execution_count": 29,
   "metadata": {},
   "outputs": [
    {
     "data": {
      "text/plain": [
       "array([0.70810783, 0.7038318 , 0.7744033 , 0.62367937, 0.70454269,\n",
       "       0.61295422, 0.69784374, 0.66836068, 0.8467997 , 0.89768403,\n",
       "       0.5446494 , 0.8691878 , 0.71688307, 0.5043997 , 0.84121682,\n",
       "       0.6156202 , 0.63366017, 0.78636943, 0.61460557, 0.72992155,\n",
       "       0.8755167 , 0.83407475, 0.65838342, 0.49195516, 0.79198609,\n",
       "       0.60842269, 0.53963825, 0.66024957, 0.89213097, 0.67156482,\n",
       "       0.64915741, 0.74503883, 0.75699221, 0.56305306, 0.77644858,\n",
       "       0.76751296, 0.69488634, 0.84131879, 0.6378418 , 0.90155237,\n",
       "       0.73755066, 0.67290393, 0.73221735, 0.80152635, 0.81517547,\n",
       "       0.69224814, 0.59916365, 0.72069525, 0.61160432, 0.60537419,\n",
       "       0.65876799, 0.77429194, 0.64608671, 0.882395  , 0.72447324,\n",
       "       0.73899851, 0.77539011, 0.74659831, 0.77322787, 0.83247274,\n",
       "       0.74192375, 0.48210253, 0.63234715, 0.55007581, 0.83800758,\n",
       "       0.78757786, 0.72057767, 0.85842407, 0.74638248, 0.73491896,\n",
       "       0.62136251, 0.82885267, 0.78977553, 0.65006495, 0.8975031 ,\n",
       "       0.65931099, 0.62779451, 0.63885974, 0.87528813, 0.52772435,\n",
       "       0.71316306, 0.74344475, 0.63645855, 0.84889348, 0.61423685,\n",
       "       0.78682311, 0.65379527, 0.73330539, 0.78644646, 0.82701368,\n",
       "       0.75888831, 0.90537196, 0.59805419, 0.54943603, 0.83962465,\n",
       "       0.66027232, 0.76689253, 0.6211931 , 0.73671194, 0.73564739])"
      ]
     },
     "execution_count": 29,
     "metadata": {},
     "output_type": "execute_result"
    }
   ],
   "source": [
    "from sklearn.linear_model import Ridge\n",
    "ridge=Ridge(alpha=0.5,normalize=True)\n",
    "ridge.fit(x_train,y_train)\n",
    "pred=ridge.predict(x_test)\n",
    "pred"
   ]
  },
  {
   "cell_type": "code",
   "execution_count": 30,
   "metadata": {},
   "outputs": [
    {
     "data": {
      "text/plain": [
       "array([-1.03228887])"
      ]
     },
     "execution_count": 30,
     "metadata": {},
     "output_type": "execute_result"
    }
   ],
   "source": [
    "new=ridge.predict([[0.18,-0.2,-0.06,-0.58,-1.5,-0.05,0.10]])\n",
    "new"
   ]
  },
  {
   "cell_type": "code",
   "execution_count": 51,
   "metadata": {},
   "outputs": [
    {
     "data": {
      "image/png": "[encoded data removed]",
      "text/plain": [
       "<Figure size 432x288 with 1 Axes>"
      ]
     },
     "metadata": {
      "needs_background": "light"
     },
     "output_type": "display_data"
    }
   ],
   "source": [
    "plt.scatter(y_test,pred)\n",
    "plt.xlabel('actual value')\n",
    "plt.ylabel('predicted value')\n",
    "plt.grid()\n",
    "plt.show()"
   ]
  },
  {
   "cell_type": "code",
   "execution_count": 43,
   "metadata": {},
   "outputs": [
    {
     "data": {
      "text/plain": [
       "array([0.00220175, 0.00347475, 0.0123561 , 0.00850123, 0.01888289,\n",
       "       0.05873804, 0.02445665])"
      ]
     },
     "execution_count": 43,
     "metadata": {},
     "output_type": "execute_result"
    }
   ],
   "source": [
    "ridge.coef_"
   ]
  },
  {
   "cell_type": "code",
   "execution_count": 31,
   "metadata": {},
   "outputs": [],
   "source": [
    "from sklearn.metrics import *\n",
    "from numpy import sqrt"
   ]
  },
  {
   "cell_type": "code",
   "execution_count": 32,
   "metadata": {},
   "outputs": [
    {
     "data": {
      "text/plain": [
       "0.0690279776958052"
      ]
     },
     "execution_count": 32,
     "metadata": {},
     "output_type": "execute_result"
    }
   ],
   "source": [
    "rmse=sqrt(mean_squared_error(y_test,pred))\n",
    "rmse"
   ]
  },
  {
   "cell_type": "code",
   "execution_count": 33,
   "metadata": {},
   "outputs": [
    {
     "data": {
      "text/plain": [
       "0.04955584344778927"
      ]
     },
     "execution_count": 33,
     "metadata": {},
     "output_type": "execute_result"
    }
   ],
   "source": [
    "mae=mean_absolute_error(y_test,pred)\n",
    "mae"
   ]
  },
  {
   "cell_type": "code",
   "execution_count": 34,
   "metadata": {},
   "outputs": [
    {
     "data": {
      "text/plain": [
       "72.69625200186934"
      ]
     },
     "execution_count": 34,
     "metadata": {},
     "output_type": "execute_result"
    }
   ],
   "source": [
    "accuracy=r2_score(y_test,pred)\n",
    "accuracy*100"
   ]
  },
  {
   "cell_type": "code",
   "execution_count": 36,
   "metadata": {},
   "outputs": [
    {
     "data": {
      "text/plain": [
       "array([0.72623333, 0.72623333, 0.72623333, 0.72623333, 0.72623333,\n",
       "       0.72623333, 0.72623333, 0.72623333, 0.72623333, 0.72623333,\n",
       "       0.72623333, 0.72623333, 0.72623333, 0.72623333, 0.72623333,\n",
       "       0.72623333, 0.72623333, 0.72623333, 0.72623333, 0.72623333,\n",
       "       0.72623333, 0.72623333, 0.72623333, 0.72623333, 0.72623333,\n",
       "       0.72623333, 0.72623333, 0.72623333, 0.72623333, 0.72623333,\n",
       "       0.72623333, 0.72623333, 0.72623333, 0.72623333, 0.72623333,\n",
       "       0.72623333, 0.72623333, 0.72623333, 0.72623333, 0.72623333,\n",
       "       0.72623333, 0.72623333, 0.72623333, 0.72623333, 0.72623333,\n",
       "       0.72623333, 0.72623333, 0.72623333, 0.72623333, 0.72623333,\n",
       "       0.72623333, 0.72623333, 0.72623333, 0.72623333, 0.72623333,\n",
       "       0.72623333, 0.72623333, 0.72623333, 0.72623333, 0.72623333,\n",
       "       0.72623333, 0.72623333, 0.72623333, 0.72623333, 0.72623333,\n",
       "       0.72623333, 0.72623333, 0.72623333, 0.72623333, 0.72623333,\n",
       "       0.72623333, 0.72623333, 0.72623333, 0.72623333, 0.72623333,\n",
       "       0.72623333, 0.72623333, 0.72623333, 0.72623333, 0.72623333,\n",
       "       0.72623333, 0.72623333, 0.72623333, 0.72623333, 0.72623333,\n",
       "       0.72623333, 0.72623333, 0.72623333, 0.72623333, 0.72623333,\n",
       "       0.72623333, 0.72623333, 0.72623333, 0.72623333, 0.72623333,\n",
       "       0.72623333, 0.72623333, 0.72623333, 0.72623333, 0.72623333])"
      ]
     },
     "execution_count": 36,
     "metadata": {},
     "output_type": "execute_result"
    }
   ],
   "source": [
    "from sklearn.linear_model import Lasso\n",
    "lasso=Lasso(alpha=0.1,normalize=True)\n",
    "lasso.fit(x_train,y_train)\n",
    "pred1=lasso.predict(x_test)\n",
    "pred1"
   ]
  },
  {
   "cell_type": "code",
   "execution_count": 37,
   "metadata": {},
   "outputs": [
    {
     "data": {
      "text/plain": [
       "array([0.72623333])"
      ]
     },
     "execution_count": 37,
     "metadata": {},
     "output_type": "execute_result"
    }
   ],
   "source": [
    "new=lasso.predict([[0.18,-0.2,-0.06,-0.58,-1.5,-0.05,0.10]])\n",
    "new"
   ]
  },
  {
   "cell_type": "code",
   "execution_count": 53,
   "metadata": {},
   "outputs": [
    {
     "data": {
      "image/png": "[encoded data removed]",
      "text/plain": [
       "<Figure size 432x288 with 1 Axes>"
      ]
     },
     "metadata": {
      "needs_background": "light"
     },
     "output_type": "display_data"
    }
   ],
   "source": [
    "plt.scatter(y_test,pred1)\n",
    "plt.xlabel('actual value')\n",
    "plt.ylabel('predicted value')\n",
    "plt.grid()\n",
    "plt.show()"
   ]
  },
  {
   "cell_type": "code",
   "execution_count": 38,
   "metadata": {},
   "outputs": [
    {
     "data": {
      "text/plain": [
       "array([0., 0., 0., 0., 0., 0., 0.])"
      ]
     },
     "execution_count": 38,
     "metadata": {},
     "output_type": "execute_result"
    }
   ],
   "source": [
    "lasso.coef_"
   ]
  },
  {
   "cell_type": "code",
   "execution_count": 39,
   "metadata": {},
   "outputs": [],
   "source": [
    "from sklearn.metrics import *\n",
    "from numpy import sqrt"
   ]
  },
  {
   "cell_type": "code",
   "execution_count": 40,
   "metadata": {},
   "outputs": [
    {
     "data": {
      "text/plain": [
       "0.13231803018149535"
      ]
     },
     "execution_count": 40,
     "metadata": {},
     "output_type": "execute_result"
    }
   ],
   "source": [
    "rmse=sqrt(mean_squared_error(y_test,pred1))\n",
    "rmse"
   ]
  },
  {
   "cell_type": "code",
   "execution_count": 41,
   "metadata": {},
   "outputs": [
    {
     "data": {
      "text/plain": [
       "0.10650000000000003"
      ]
     },
     "execution_count": 41,
     "metadata": {},
     "output_type": "execute_result"
    }
   ],
   "source": [
    "mae=mean_absolute_error(y_test,pred1)\n",
    "mae"
   ]
  },
  {
   "cell_type": "code",
   "execution_count": 42,
   "metadata": {},
   "outputs": [
    {
     "data": {
      "text/plain": [
       "-0.32519685405341114"
      ]
     },
     "execution_count": 42,
     "metadata": {},
     "output_type": "execute_result"
    }
   ],
   "source": [
    "accuracy=r2_score(y_test,pred1)\n",
    "accuracy*100"
   ]
  },
  {
   "cell_type": "code",
   "execution_count": 44,
   "metadata": {},
   "outputs": [
    {
     "data": {
      "text/plain": [
       "array([0.67625173, 0.66972671, 0.78717696, 0.65667668, 0.72192682,\n",
       "       0.67625173, 0.69582677, 0.69582677, 0.82632705, 0.81980203,\n",
       "       0.6175266 , 0.83285206, 0.74802688, 0.63057663, 0.80022699,\n",
       "       0.68930175, 0.69582677, 0.80675201, 0.71540181, 0.70235178,\n",
       "       0.80675201, 0.79370198, 0.62405161, 0.58490153, 0.74802688,\n",
       "       0.62405161, 0.59142654, 0.7088768 , 0.8524271 , 0.7088768 ,\n",
       "       0.69582677, 0.76760192, 0.69582677, 0.59142654, 0.78065195,\n",
       "       0.79370198, 0.73497685, 0.76760192, 0.6632017 , 0.83285206,\n",
       "       0.76107691, 0.7088768 , 0.75455189, 0.77412694, 0.74802688,\n",
       "       0.76107691, 0.71540181, 0.6632017 , 0.65667668, 0.64362666,\n",
       "       0.68930175, 0.78065195, 0.72192682, 0.83937708, 0.68930175,\n",
       "       0.77412694, 0.83937708, 0.78065195, 0.76107691, 0.76107691,\n",
       "       0.7088768 , 0.57837652, 0.7088768 , 0.59795156, 0.76760192,\n",
       "       0.77412694, 0.74802688, 0.81327702, 0.78717696, 0.74802688,\n",
       "       0.66972671, 0.79370198, 0.73497685, 0.69582677, 0.86547713,\n",
       "       0.68930175, 0.65667668, 0.70235178, 0.83937708, 0.59795156,\n",
       "       0.74150187, 0.78065195, 0.74802688, 0.80675201, 0.67625173,\n",
       "       0.77412694, 0.68277674, 0.75455189, 0.77412694, 0.78717696,\n",
       "       0.76107691, 0.84590209, 0.72192682, 0.63057663, 0.77412694,\n",
       "       0.71540181, 0.7088768 , 0.7088768 , 0.78065195, 0.70235178])"
      ]
     },
     "execution_count": 44,
     "metadata": {},
     "output_type": "execute_result"
    }
   ],
   "source": [
    "from sklearn.linear_model import ElasticNet\n",
    "en=ElasticNet(random_state=0)\n",
    "en.fit(x_train,y_train)\n",
    "pred2=en.predict(x_test)\n",
    "pred2"
   ]
  },
  {
   "cell_type": "code",
   "execution_count": 45,
   "metadata": {},
   "outputs": [
    {
     "data": {
      "text/plain": [
       "array([-1.33880309])"
      ]
     },
     "execution_count": 45,
     "metadata": {},
     "output_type": "execute_result"
    }
   ],
   "source": [
    "new=en.predict([[0.18,-0.2,-0.06,-0.58,-1.5,-0.05,0.10]])\n",
    "new"
   ]
  },
  {
   "cell_type": "code",
   "execution_count": 54,
   "metadata": {},
   "outputs": [
    {
     "data": {
      "image/png": "[encoded data removed]",
      "text/plain": [
       "<Figure size 432x288 with 1 Axes>"
      ]
     },
     "metadata": {
      "needs_background": "light"
     },
     "output_type": "display_data"
    }
   ],
   "source": [
    "plt.scatter(y_test,pred2)\n",
    "plt.xlabel('actual value')\n",
    "plt.ylabel('predicted value')\n",
    "plt.grid()\n",
    "plt.show()"
   ]
  },
  {
   "cell_type": "code",
   "execution_count": 46,
   "metadata": {},
   "outputs": [
    {
     "data": {
      "text/plain": [
       "0.0950775927375136"
      ]
     },
     "execution_count": 46,
     "metadata": {},
     "output_type": "execute_result"
    }
   ],
   "source": [
    "rmse=sqrt(mean_squared_error(y_test,pred2))\n",
    "rmse"
   ]
  },
  {
   "cell_type": "code",
   "execution_count": 47,
   "metadata": {},
   "outputs": [
    {
     "data": {
      "text/plain": [
       "0.07225062828789883"
      ]
     },
     "execution_count": 47,
     "metadata": {},
     "output_type": "execute_result"
    }
   ],
   "source": [
    "mae=mean_absolute_error(y_test,pred2)\n",
    "mae"
   ]
  },
  {
   "cell_type": "code",
   "execution_count": 48,
   "metadata": {},
   "outputs": [
    {
     "data": {
      "text/plain": [
       "48.2001715586939"
      ]
     },
     "execution_count": 48,
     "metadata": {},
     "output_type": "execute_result"
    }
   ],
   "source": [
    "accuracy=r2_score(y_test,pred2)\n",
    "accuracy*100"
   ]
  }
 ],
 "metadata": {
  "kernelspec": {
   "display_name": "Python 3",
   "language": "python",
   "name": "python3"
  },
  "language_info": {
   "codemirror_mode": {
    "name": "ipython",
    "version": 3
   },
   "file_extension": ".py",
   "mimetype": "text/x-python",
   "name": "python",
   "nbconvert_exporter": "python",
   "pygments_lexer": "ipython3",
   "version": "3.7.4"
  }
 },
 "nbformat": 4,
 "nbformat_minor": 2
}
