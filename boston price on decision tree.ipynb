{
 "cells": [
  {
   "cell_type": "code",
   "execution_count": 1,
   "metadata": {},
   "outputs": [],
   "source": [
    "import numpy as np\n",
    "import pandas as pd\n",
    "from sklearn.datasets import *"
   ]
  },
  {
   "cell_type": "code",
   "execution_count": 2,
   "metadata": {},
   "outputs": [],
   "source": [
    "df=load_boston()"
   ]
  },
  {
   "cell_type": "code",
   "execution_count": 3,
   "metadata": {},
   "outputs": [],
   "source": [
    "x=df.data\n",
    "y=df.target"
   ]
  },
  {
   "cell_type": "code",
   "execution_count": 5,
   "metadata": {},
   "outputs": [],
   "source": [
    "dff=pd.DataFrame(x)\n",
    "dff.columns=df['feature_names']\n",
    "dff['price']=df['target']"
   ]
  },
  {
   "cell_type": "code",
   "execution_count": 7,
   "metadata": {},
   "outputs": [],
   "source": [
    "x=dff.iloc[:,:-1].values\n",
    "y=dff.iloc[:,-1].values"
   ]
  },
  {
   "cell_type": "code",
   "execution_count": 10,
   "metadata": {},
   "outputs": [],
   "source": [
    "from sklearn.model_selection import train_test_split\n",
    "x_train,x_test,y_train,y_test=train_test_split(x,y,test_size=0.25,random_state=0)"
   ]
  },
  {
   "cell_type": "code",
   "execution_count": 11,
   "metadata": {},
   "outputs": [],
   "source": [
    "from sklearn.preprocessing import StandardScaler\n",
    "ss=StandardScaler()\n",
    "x1_train=ss.fit_transform(x_train)\n",
    "x1_test=ss.transform(x_test)"
   ]
  },
  {
   "cell_type": "code",
   "execution_count": 13,
   "metadata": {},
   "outputs": [
    {
     "data": {
      "text/plain": [
       "array([23.7, 25. , 23.3, 16.3, 20.8, 20.4, 21.2, 20.6, 15.3, 16.1, 10.5,\n",
       "       17.9, 14.2,  8.8, 50. , 37. , 21.2, 36.4, 24. , 20.9, 24.7, 19.6,\n",
       "       20.1, 24.7, 22.5, 10.9, 17.5, 17.8, 39.8, 18.8, 14.1, 17.7, 25. ,\n",
       "       18.9, 22. , 22.6, 10.2, 22.6, 12.1, 17.9, 23.9, 24.5, 22. , 14.1,\n",
       "       22. , 20.5, 22.4, 13.6, 13.8, 28.7, 13.1, 19.8, 24. , 35.2, 13.9,\n",
       "       18.9, 19.4, 17.5, 10.9, 22.4, 20.6, 23.1, 29.6, 22.8, 24.5, 22.8,\n",
       "       18.4, 18.9, 10.4, 22.2, 20.8, 22.4, 24.8, 30.1, 25. ,  8.8, 41.7,\n",
       "       22.2, 22. , 24.5, 30.1, 17.5, 20.8, 37.6, 48.8, 25. , 20.8, 13.8,\n",
       "       24.3, 12.7, 16.6, 11.8, 20.6, 30.1, 22. , 25. , 13.1, 22.9, 14.3,\n",
       "       17.4, 24.7, 20.1, 29.8, 24.7, 21. , 19.4,  7.5, 15.3, 23.9, 22. ,\n",
       "       37. , 17.9, 18.9, 19.8, 18.9, 20.7,  7.2, 19.2, 10.2, 50. , 30.1,\n",
       "        6.3, 14.4, 21.2, 25. , 20.5, 37.9])"
      ]
     },
     "execution_count": 13,
     "metadata": {},
     "output_type": "execute_result"
    }
   ],
   "source": [
    "from sklearn.tree import DecisionTreeRegressor\n",
    "dt=DecisionTreeRegressor()\n",
    "dt.fit(x1_train,y_train)\n",
    "pred=dt.predict(x1_test)\n",
    "pred"
   ]
  },
  {
   "cell_type": "code",
   "execution_count": 14,
   "metadata": {},
   "outputs": [
    {
     "data": {
      "text/plain": [
       "array([22.8])"
      ]
     },
     "execution_count": 14,
     "metadata": {},
     "output_type": "execute_result"
    }
   ],
   "source": [
    "new=dt.predict([[0.5,1,0.3,0.4,-0.4,0.5,0.2,0.5,-0.5,0.4,0.1,-0.3,0.1]])\n",
    "new"
   ]
  },
  {
   "cell_type": "code",
   "execution_count": 15,
   "metadata": {},
   "outputs": [],
   "source": [
    "from sklearn.metrics import *\n",
    "from numpy import sqrt"
   ]
  },
  {
   "cell_type": "code",
   "execution_count": 16,
   "metadata": {},
   "outputs": [
    {
     "data": {
      "text/plain": [
       "5.179836740807312"
      ]
     },
     "execution_count": 16,
     "metadata": {},
     "output_type": "execute_result"
    }
   ],
   "source": [
    "rmse=sqrt(mean_squared_error(y_test,pred))\n",
    "rmse"
   ]
  },
  {
   "cell_type": "code",
   "execution_count": 17,
   "metadata": {},
   "outputs": [
    {
     "data": {
      "text/plain": [
       "3.2535433070866135"
      ]
     },
     "execution_count": 17,
     "metadata": {},
     "output_type": "execute_result"
    }
   ],
   "source": [
    "mae=mean_absolute_error(y_test,pred)\n",
    "mae"
   ]
  },
  {
   "cell_type": "code",
   "execution_count": 18,
   "metadata": {},
   "outputs": [
    {
     "data": {
      "text/plain": [
       "67.15907955859204"
      ]
     },
     "execution_count": 18,
     "metadata": {},
     "output_type": "execute_result"
    }
   ],
   "source": [
    "acc=r2_score(y_test,pred)\n",
    "accuracy=acc*100\n",
    "accuracy"
   ]
  }
 ],
 "metadata": {
  "kernelspec": {
   "display_name": "Python 3",
   "language": "python",
   "name": "python3"
  },
  "language_info": {
   "codemirror_mode": {
    "name": "ipython",
    "version": 3
   },
   "file_extension": ".py",
   "mimetype": "text/x-python",
   "name": "python",
   "nbconvert_exporter": "python",
   "pygments_lexer": "ipython3",
   "version": "3.7.4"
  }
 },
 "nbformat": 4,
 "nbformat_minor": 2
}
