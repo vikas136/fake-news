{
 "cells": [
  {
   "cell_type": "code",
   "execution_count": 1,
   "metadata": {},
   "outputs": [],
   "source": [
    "import numpy as np\n",
    "import pandas as pd\n",
    "from sklearn.datasets import *"
   ]
  },
  {
   "cell_type": "code",
   "execution_count": 2,
   "metadata": {},
   "outputs": [],
   "source": [
    "df=load_boston()"
   ]
  },
  {
   "cell_type": "code",
   "execution_count": 3,
   "metadata": {},
   "outputs": [],
   "source": [
    "x=df.data"
   ]
  },
  {
   "cell_type": "code",
   "execution_count": 4,
   "metadata": {},
   "outputs": [],
   "source": [
    "y=df.target"
   ]
  },
  {
   "cell_type": "code",
   "execution_count": 5,
   "metadata": {},
   "outputs": [],
   "source": [
    "from sklearn.model_selection import train_test_split\n",
    "x_train,x_test,y_train,y_test=train_test_split(x,y,test_size=0.25,random_state=0)"
   ]
  },
  {
   "cell_type": "code",
   "execution_count": 6,
   "metadata": {},
   "outputs": [
    {
     "data": {
      "text/plain": [
       "array([26.23065693, 24.63070175, 22.73763441, 11.82105263, 20.87619048,\n",
       "       23.168     , 21.86538462, 23.43970588, 20.5       , 21.86538462,\n",
       "       10.33333333, 12.91794872, 14.55714286, 11.18823529, 47.16136364,\n",
       "       32.17411765, 22.05      , 34.08461538, 26.6787037 , 23.168     ,\n",
       "       24.63070175, 20.44133333, 19.63333333, 26.23065693, 22.09912281,\n",
       "       17.08043478, 19.63333333, 14.4       , 44.85483871, 18.04230769,\n",
       "       15.4625    , 17.97647059, 22.09912281, 21.52025316, 24.85384615,\n",
       "       15.10416667, 10.79298246, 24.85384615, 15.635     , 15.78      ,\n",
       "       23.63877551, 21.38      , 24.26960784, 16.63857143, 24.26960784,\n",
       "       24.85384615, 18.39090909, 15.57446809, 13.95772358, 24.91885246,\n",
       "       15.57446809, 18.04230769, 22.05      , 39.19333333, 16.63857143,\n",
       "       18.12280702, 20.87619048, 21.24      , 21.52025316, 18.39090909,\n",
       "       24.85384615, 20.5       , 31.09384615, 28.60617284, 18.04230769,\n",
       "       27.89402985, 15.65957447, 18.12280702, 14.3       , 21.86538462,\n",
       "       20.87619048, 23.87      , 26.6787037 , 29.87745665, 25.34961832,\n",
       "       11.18823529, 40.73333333, 22.09912281, 24.63070175, 20.42446043,\n",
       "       26.23065693, 15.78      , 18.12096774, 45.24155844, 40.6027027 ,\n",
       "       24.63070175, 22.9393617 , 15.4625    , 26.97903226, 15.57446809,\n",
       "       18.35777778, 13.82368421, 25.10265487, 28.42291667, 24.21243243,\n",
       "       23.30571429, 11.20625   , 25.10265487, 15.78      , 20.42446043,\n",
       "       23.87      , 20.42446043, 27.37647059, 22.05      , 25.10265487,\n",
       "       20.87619048, 10.79298246, 17.23125   , 23.45977011, 24.21243243,\n",
       "       32.70215827, 11.82105263, 18.04230769, 18.35777778, 17.97647059,\n",
       "       19.78518519, 10.79298246, 21.86538462, 11.20625   , 45.50123457,\n",
       "       29.79      , 11.06829268, 19.20731707, 20.44133333, 21.86538462,\n",
       "       18.38166667, 33.41515152])"
      ]
     },
     "execution_count": 6,
     "metadata": {},
     "output_type": "execute_result"
    }
   ],
   "source": [
    "from sklearn.ensemble import AdaBoostRegressor\n",
    "abr=AdaBoostRegressor()\n",
    "abr.fit(x_train,y_train)\n",
    "pred=abr.predict(x_test)\n",
    "pred"
   ]
  },
  {
   "cell_type": "code",
   "execution_count": 8,
   "metadata": {},
   "outputs": [],
   "source": [
    "from sklearn.metrics import *\n",
    "from numpy import sqrt"
   ]
  },
  {
   "cell_type": "code",
   "execution_count": 9,
   "metadata": {},
   "outputs": [
    {
     "data": {
      "text/plain": [
       "4.860373947648921"
      ]
     },
     "execution_count": 9,
     "metadata": {},
     "output_type": "execute_result"
    }
   ],
   "source": [
    "rmse=sqrt(mean_squared_error(y_test,pred))\n",
    "rmse"
   ]
  },
  {
   "cell_type": "code",
   "execution_count": 10,
   "metadata": {},
   "outputs": [
    {
     "data": {
      "text/plain": [
       "71.08504333335239"
      ]
     },
     "execution_count": 10,
     "metadata": {},
     "output_type": "execute_result"
    }
   ],
   "source": [
    "accuracy=r2_score(y_test,pred)\n",
    "accuracy*100"
   ]
  }
 ],
 "metadata": {
  "kernelspec": {
   "display_name": "Python 3",
   "language": "python",
   "name": "python3"
  },
  "language_info": {
   "codemirror_mode": {
    "name": "ipython",
    "version": 3
   },
   "file_extension": ".py",
   "mimetype": "text/x-python",
   "name": "python",
   "nbconvert_exporter": "python",
   "pygments_lexer": "ipython3",
   "version": "3.7.4"
  }
 },
 "nbformat": 4,
 "nbformat_minor": 2
}
