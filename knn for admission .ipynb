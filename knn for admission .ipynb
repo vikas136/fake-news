{
 "cells": [
  {
   "cell_type": "code",
   "execution_count": 11,
   "metadata": {},
   "outputs": [],
   "source": [
    "import pandas as pd\n",
    "import numpy as np\n",
    "import matplotlib.pyplot as plt\n",
    "from sklearn.metrics import *\n",
    "from numpy import sqrt"
   ]
  },
  {
   "cell_type": "code",
   "execution_count": null,
   "metadata": {},
   "outputs": [],
   "source": []
  },
  {
   "cell_type": "code",
   "execution_count": 3,
   "metadata": {},
   "outputs": [
    {
     "data": {
      "text/html": [
       "<div>\n",
       "<style scoped>\n",
       "    .dataframe tbody tr th:only-of-type {\n",
       "        vertical-align: middle;\n",
       "    }\n",
       "\n",
       "    .dataframe tbody tr th {\n",
       "        vertical-align: top;\n",
       "    }\n",
       "\n",
       "    .dataframe thead th {\n",
       "        text-align: right;\n",
       "    }\n",
       "</style>\n",
       "<table border=\"1\" class=\"dataframe\">\n",
       "  <thead>\n",
       "    <tr style=\"text-align: right;\">\n",
       "      <th></th>\n",
       "      <th>Serial No.</th>\n",
       "      <th>GRE Score</th>\n",
       "      <th>TOEFL Score</th>\n",
       "      <th>University Rating</th>\n",
       "      <th>SOP</th>\n",
       "      <th>LOR</th>\n",
       "      <th>CGPA</th>\n",
       "      <th>Research</th>\n",
       "      <th>Chance of Admit</th>\n",
       "    </tr>\n",
       "  </thead>\n",
       "  <tbody>\n",
       "    <tr>\n",
       "      <td>0</td>\n",
       "      <td>1</td>\n",
       "      <td>337</td>\n",
       "      <td>118</td>\n",
       "      <td>4</td>\n",
       "      <td>4.5</td>\n",
       "      <td>4.5</td>\n",
       "      <td>9.65</td>\n",
       "      <td>1</td>\n",
       "      <td>0.92</td>\n",
       "    </tr>\n",
       "    <tr>\n",
       "      <td>1</td>\n",
       "      <td>2</td>\n",
       "      <td>324</td>\n",
       "      <td>107</td>\n",
       "      <td>4</td>\n",
       "      <td>4.0</td>\n",
       "      <td>4.5</td>\n",
       "      <td>8.87</td>\n",
       "      <td>1</td>\n",
       "      <td>0.76</td>\n",
       "    </tr>\n",
       "    <tr>\n",
       "      <td>2</td>\n",
       "      <td>3</td>\n",
       "      <td>316</td>\n",
       "      <td>104</td>\n",
       "      <td>3</td>\n",
       "      <td>3.0</td>\n",
       "      <td>3.5</td>\n",
       "      <td>8.00</td>\n",
       "      <td>1</td>\n",
       "      <td>0.72</td>\n",
       "    </tr>\n",
       "    <tr>\n",
       "      <td>3</td>\n",
       "      <td>4</td>\n",
       "      <td>322</td>\n",
       "      <td>110</td>\n",
       "      <td>3</td>\n",
       "      <td>3.5</td>\n",
       "      <td>2.5</td>\n",
       "      <td>8.67</td>\n",
       "      <td>1</td>\n",
       "      <td>0.80</td>\n",
       "    </tr>\n",
       "    <tr>\n",
       "      <td>4</td>\n",
       "      <td>5</td>\n",
       "      <td>314</td>\n",
       "      <td>103</td>\n",
       "      <td>2</td>\n",
       "      <td>2.0</td>\n",
       "      <td>3.0</td>\n",
       "      <td>8.21</td>\n",
       "      <td>0</td>\n",
       "      <td>0.65</td>\n",
       "    </tr>\n",
       "  </tbody>\n",
       "</table>\n",
       "</div>"
      ],
      "text/plain": [
       "   Serial No.  GRE Score  TOEFL Score  University Rating  SOP  LOR   CGPA  \\\n",
       "0           1        337          118                  4  4.5   4.5  9.65   \n",
       "1           2        324          107                  4  4.0   4.5  8.87   \n",
       "2           3        316          104                  3  3.0   3.5  8.00   \n",
       "3           4        322          110                  3  3.5   2.5  8.67   \n",
       "4           5        314          103                  2  2.0   3.0  8.21   \n",
       "\n",
       "   Research  Chance of Admit   \n",
       "0         1              0.92  \n",
       "1         1              0.76  \n",
       "2         1              0.72  \n",
       "3         1              0.80  \n",
       "4         0              0.65  "
      ]
     },
     "execution_count": 3,
     "metadata": {},
     "output_type": "execute_result"
    }
   ],
   "source": [
    "df=pd.read_csv('C:\\\\Users\\\\krishna\\\\AppData\\\\Local\\\\Temp\\\\Temp1_graduate-admissions.zip\\\\Admission_Predict.csv')\n",
    "df.head()"
   ]
  },
  {
   "cell_type": "code",
   "execution_count": 4,
   "metadata": {},
   "outputs": [],
   "source": [
    "x=df.iloc[:,:-1].values"
   ]
  },
  {
   "cell_type": "code",
   "execution_count": 5,
   "metadata": {},
   "outputs": [],
   "source": [
    "y=df.iloc[:,-1].values"
   ]
  },
  {
   "cell_type": "code",
   "execution_count": 6,
   "metadata": {},
   "outputs": [],
   "source": [
    "from sklearn.model_selection import train_test_split\n",
    "x_train,x_test,y_train,y_test=train_test_split(x,y,test_size=0.25,random_state=0)"
   ]
  },
  {
   "cell_type": "code",
   "execution_count": 7,
   "metadata": {},
   "outputs": [],
   "source": [
    "from sklearn.preprocessing import StandardScaler\n",
    "ss=StandardScaler()\n",
    "x1_train=ss.fit_transform(x_train)\n",
    "x1_test=ss.transform(x_test)"
   ]
  },
  {
   "cell_type": "code",
   "execution_count": 10,
   "metadata": {},
   "outputs": [
    {
     "data": {
      "text/plain": [
       "array([0.68333333, 0.72      , 0.77666667, 0.68      , 0.72666667,\n",
       "       0.59      , 0.70666667, 0.74333333, 0.83666667, 0.93      ,\n",
       "       0.54333333, 0.92666667, 0.65      , 0.45666667, 0.82666667,\n",
       "       0.66333333, 0.68666667, 0.79333333, 0.62      , 0.72666667,\n",
       "       0.89666667, 0.8       , 0.68      , 0.43333333, 0.8       ,\n",
       "       0.61      , 0.48333333, 0.52666667, 0.93      , 0.65      ,\n",
       "       0.70666667, 0.73333333, 0.78      , 0.62      , 0.56333333,\n",
       "       0.80333333, 0.62333333, 0.88333333, 0.69666667, 0.91666667,\n",
       "       0.66666667, 0.68333333, 0.74666667, 0.78333333, 0.77333333,\n",
       "       0.59333333, 0.6       , 0.75      , 0.66666667, 0.64      ,\n",
       "       0.66      , 0.80333333, 0.70666667, 0.91333333, 0.76333333,\n",
       "       0.76666667, 0.76666667, 0.74666667, 0.77666667, 0.90333333,\n",
       "       0.72333333, 0.51666667, 0.59      , 0.39333333, 0.86666667,\n",
       "       0.80333333, 0.71333333, 0.93333333, 0.76      , 0.72666667,\n",
       "       0.53333333, 0.87      , 0.76666667, 0.49333333, 0.93333333,\n",
       "       0.57666667, 0.65333333, 0.69666667, 0.88333333, 0.52333333,\n",
       "       0.67333333, 0.57666667, 0.59333333, 0.82666667, 0.65      ,\n",
       "       0.79333333, 0.58666667, 0.73333333, 0.80666667, 0.82333333,\n",
       "       0.76      , 0.93      , 0.51333333, 0.56      , 0.88333333,\n",
       "       0.66333333, 0.75      , 0.66333333, 0.74333333, 0.76      ])"
      ]
     },
     "execution_count": 10,
     "metadata": {},
     "output_type": "execute_result"
    }
   ],
   "source": [
    "from sklearn.neighbors import KNeighborsRegressor\n",
    "knn=KNeighborsRegressor(3)\n",
    "knn.fit(x1_train,y_train)\n",
    "pred=knn.predict(x1_test)\n",
    "pred"
   ]
  },
  {
   "cell_type": "code",
   "execution_count": 17,
   "metadata": {},
   "outputs": [
    {
     "name": "stdout",
     "output_type": "stream",
     "text": [
      "error for k= 1 is 0.08806247782114696\n",
      "error for k= 2 is 0.06966885961460831\n",
      "error for k= 3 is 0.06866423943930186\n",
      "error for k= 4 is 0.06633343802336797\n",
      "error for k= 5 is 0.06535227616540987\n",
      "error for k= 6 is 0.06741558507579024\n",
      "error for k= 7 is 0.06721439957482386\n",
      "error for k= 8 is 0.06579181180055768\n",
      "error for k= 9 is 0.06464518543557594\n",
      "error for k= 10 is 0.06471452696265345\n"
     ]
    }
   ],
   "source": [
    "rmse_val=[]\n",
    "for k in range(10):\n",
    "    k=k+1\n",
    "    knn=KNeighborsRegressor(k)\n",
    "    knn.fit(x1_train,y_train)\n",
    "    pred=knn.predict(x1_test)\n",
    "    rmse=sqrt(mean_squared_error(y_test,pred))\n",
    "    rmse_val.append(rmse)\n",
    "    print('error for k=',k,'is',rmse)"
   ]
  },
  {
   "cell_type": "code",
   "execution_count": 18,
   "metadata": {},
   "outputs": [
    {
     "data": {
      "image/png": "[encoded data removed]",
      "text/plain": [
       "<Figure size 432x288 with 1 Axes>"
      ]
     },
     "metadata": {
      "needs_background": "light"
     },
     "output_type": "display_data"
    }
   ],
   "source": [
    "plot=pd.DataFrame(rmse_val)\n",
    "plot.plot()\n",
    "plt.show()"
   ]
  },
  {
   "cell_type": "code",
   "execution_count": 19,
   "metadata": {},
   "outputs": [
    {
     "data": {
      "text/plain": [
       "array([0.665 , 0.685 , 0.78  , 0.6875, 0.7375, 0.56  , 0.71  , 0.7225,\n",
       "       0.825 , 0.92  , 0.54  , 0.935 , 0.675 , 0.46  , 0.8475, 0.675 ,\n",
       "       0.6775, 0.8075, 0.625 , 0.735 , 0.9075, 0.795 , 0.6625, 0.46  ,\n",
       "       0.8025, 0.635 , 0.4725, 0.55  , 0.925 , 0.6475, 0.71  , 0.735 ,\n",
       "       0.7875, 0.635 , 0.6275, 0.8025, 0.665 , 0.8775, 0.7025, 0.9275,\n",
       "       0.6725, 0.6775, 0.7025, 0.7975, 0.7675, 0.5975, 0.595 , 0.7375,\n",
       "       0.66  , 0.645 , 0.675 , 0.7925, 0.71  , 0.92  , 0.7675, 0.77  ,\n",
       "       0.76  , 0.7025, 0.74  , 0.8875, 0.73  , 0.515 , 0.6025, 0.435 ,\n",
       "       0.865 , 0.7875, 0.735 , 0.895 , 0.7625, 0.73  , 0.56  , 0.8625,\n",
       "       0.785 , 0.525 , 0.935 , 0.565 , 0.645 , 0.725 , 0.885 , 0.515 ,\n",
       "       0.6825, 0.59  , 0.5625, 0.83  , 0.6425, 0.795 , 0.62  , 0.7325,\n",
       "       0.79  , 0.815 , 0.7525, 0.92  , 0.49  , 0.555 , 0.865 , 0.6775,\n",
       "       0.7475, 0.6525, 0.7375, 0.7575])"
      ]
     },
     "execution_count": 19,
     "metadata": {},
     "output_type": "execute_result"
    }
   ],
   "source": [
    "knn1=KNeighborsRegressor(4)\n",
    "knn1.fit(x1_train,y_train)\n",
    "pred2=knn1.predict(x1_test)\n",
    "pred2"
   ]
  },
  {
   "cell_type": "code",
   "execution_count": 21,
   "metadata": {},
   "outputs": [
    {
     "data": {
      "text/plain": [
       "74.78627678953616"
      ]
     },
     "execution_count": 21,
     "metadata": {},
     "output_type": "execute_result"
    }
   ],
   "source": [
    "accuracy=r2_score(y_test,pred2)\n",
    "accuracy*100"
   ]
  }
 ],
 "metadata": {
  "kernelspec": {
   "display_name": "Python 3",
   "language": "python",
   "name": "python3"
  },
  "language_info": {
   "codemirror_mode": {
    "name": "ipython",
    "version": 3
   },
   "file_extension": ".py",
   "mimetype": "text/x-python",
   "name": "python",
   "nbconvert_exporter": "python",
   "pygments_lexer": "ipython3",
   "version": "3.7.4"
  }
 },
 "nbformat": 4,
 "nbformat_minor": 2
}
