{
 "cells": [
  {
   "cell_type": "code",
   "execution_count": 1,
   "metadata": {},
   "outputs": [],
   "source": [
    "import numpy as np\n",
    "import pandas as pd\n",
    "import matplotlib.pyplot as plt"
   ]
  },
  {
   "cell_type": "code",
   "execution_count": 2,
   "metadata": {},
   "outputs": [
    {
     "data": {
      "text/html": [
       "<div>\n",
       "<style scoped>\n",
       "    .dataframe tbody tr th:only-of-type {\n",
       "        vertical-align: middle;\n",
       "    }\n",
       "\n",
       "    .dataframe tbody tr th {\n",
       "        vertical-align: top;\n",
       "    }\n",
       "\n",
       "    .dataframe thead th {\n",
       "        text-align: right;\n",
       "    }\n",
       "</style>\n",
       "<table border=\"1\" class=\"dataframe\">\n",
       "  <thead>\n",
       "    <tr style=\"text-align: right;\">\n",
       "      <th></th>\n",
       "      <th>city</th>\n",
       "      <th>sqft</th>\n",
       "      <th>bedroom</th>\n",
       "      <th>price</th>\n",
       "    </tr>\n",
       "  </thead>\n",
       "  <tbody>\n",
       "    <tr>\n",
       "      <td>0</td>\n",
       "      <td>hyd</td>\n",
       "      <td>3000</td>\n",
       "      <td>3</td>\n",
       "      <td>2200000</td>\n",
       "    </tr>\n",
       "    <tr>\n",
       "      <td>1</td>\n",
       "      <td>bng</td>\n",
       "      <td>3300</td>\n",
       "      <td>2</td>\n",
       "      <td>2400000</td>\n",
       "    </tr>\n",
       "    <tr>\n",
       "      <td>2</td>\n",
       "      <td>che</td>\n",
       "      <td>4000</td>\n",
       "      <td>3</td>\n",
       "      <td>2800000</td>\n",
       "    </tr>\n",
       "    <tr>\n",
       "      <td>3</td>\n",
       "      <td>bng</td>\n",
       "      <td>4200</td>\n",
       "      <td>4</td>\n",
       "      <td>3000000</td>\n",
       "    </tr>\n",
       "    <tr>\n",
       "      <td>4</td>\n",
       "      <td>hyd</td>\n",
       "      <td>4300</td>\n",
       "      <td>2</td>\n",
       "      <td>3200000</td>\n",
       "    </tr>\n",
       "    <tr>\n",
       "      <td>5</td>\n",
       "      <td>che</td>\n",
       "      <td>4500</td>\n",
       "      <td>3</td>\n",
       "      <td>3500000</td>\n",
       "    </tr>\n",
       "    <tr>\n",
       "      <td>6</td>\n",
       "      <td>hyd</td>\n",
       "      <td>4700</td>\n",
       "      <td>4</td>\n",
       "      <td>4000000</td>\n",
       "    </tr>\n",
       "    <tr>\n",
       "      <td>7</td>\n",
       "      <td>bng</td>\n",
       "      <td>4800</td>\n",
       "      <td>3</td>\n",
       "      <td>4200000</td>\n",
       "    </tr>\n",
       "    <tr>\n",
       "      <td>8</td>\n",
       "      <td>che</td>\n",
       "      <td>5000</td>\n",
       "      <td>2</td>\n",
       "      <td>4500000</td>\n",
       "    </tr>\n",
       "  </tbody>\n",
       "</table>\n",
       "</div>"
      ],
      "text/plain": [
       "  city  sqft  bedroom    price\n",
       "0  hyd  3000        3  2200000\n",
       "1  bng  3300        2  2400000\n",
       "2  che  4000        3  2800000\n",
       "3  bng  4200        4  3000000\n",
       "4  hyd  4300        2  3200000\n",
       "5  che  4500        3  3500000\n",
       "6  hyd  4700        4  4000000\n",
       "7  bng  4800        3  4200000\n",
       "8  che  5000        2  4500000"
      ]
     },
     "execution_count": 2,
     "metadata": {},
     "output_type": "execute_result"
    }
   ],
   "source": [
    "df=pd.DataFrame({'city':['hyd','bng','che','bng','hyd','che','hyd','bng','che'],'sqft':[3000,3300,4000,4200,4300,4500,4700,4800,5000],'bedroom':[3,2,3,4,2,3,4,3,2],'price':[2200000,2400000,2800000,3000000,3200000,3500000,4000000,4200000,4500000]})\n",
    "df"
   ]
  },
  {
   "cell_type": "code",
   "execution_count": 3,
   "metadata": {},
   "outputs": [
    {
     "data": {
      "text/plain": [
       "array([['hyd', 3000, 3],\n",
       "       ['bng', 3300, 2],\n",
       "       ['che', 4000, 3],\n",
       "       ['bng', 4200, 4],\n",
       "       ['hyd', 4300, 2],\n",
       "       ['che', 4500, 3],\n",
       "       ['hyd', 4700, 4],\n",
       "       ['bng', 4800, 3],\n",
       "       ['che', 5000, 2]], dtype=object)"
      ]
     },
     "execution_count": 3,
     "metadata": {},
     "output_type": "execute_result"
    }
   ],
   "source": [
    "x=df.iloc[:,:-1].values\n",
    "x"
   ]
  },
  {
   "cell_type": "code",
   "execution_count": 4,
   "metadata": {},
   "outputs": [],
   "source": [
    "y=df.iloc[:,-1].values\n",
    "y1=y.reshape(-1,1)"
   ]
  },
  {
   "cell_type": "code",
   "execution_count": 5,
   "metadata": {},
   "outputs": [
    {
     "data": {
      "text/plain": [
       "array([['hyd'],\n",
       "       ['bng'],\n",
       "       ['che'],\n",
       "       ['bng'],\n",
       "       ['hyd'],\n",
       "       ['che'],\n",
       "       ['hyd'],\n",
       "       ['bng'],\n",
       "       ['che']], dtype=object)"
      ]
     },
     "execution_count": 5,
     "metadata": {},
     "output_type": "execute_result"
    }
   ],
   "source": [
    "x1=df.iloc[:,0].values\n",
    "x1.reshape(-1,1)"
   ]
  },
  {
   "cell_type": "code",
   "execution_count": 6,
   "metadata": {},
   "outputs": [
    {
     "data": {
      "text/plain": [
       "array([[0., 0., 1.],\n",
       "       [1., 0., 0.],\n",
       "       [0., 1., 0.],\n",
       "       [1., 0., 0.],\n",
       "       [0., 0., 1.],\n",
       "       [0., 1., 0.],\n",
       "       [0., 0., 1.],\n",
       "       [1., 0., 0.],\n",
       "       [0., 1., 0.]])"
      ]
     },
     "execution_count": 6,
     "metadata": {},
     "output_type": "execute_result"
    }
   ],
   "source": [
    "from sklearn.preprocessing import OneHotEncoder\n",
    "onehotencoder=OneHotEncoder(categories='auto',sparse=False)\n",
    "Y=onehotencoder.fit_transform(x[:,0].reshape(-1,1))\n",
    "Y"
   ]
  },
  {
   "cell_type": "code",
   "execution_count": 7,
   "metadata": {},
   "outputs": [
    {
     "data": {
      "text/plain": [
       "array([[0.0, 0.0, 1.0, 3000, 3],\n",
       "       [1.0, 0.0, 0.0, 3300, 2],\n",
       "       [0.0, 1.0, 0.0, 4000, 3],\n",
       "       [1.0, 0.0, 0.0, 4200, 4],\n",
       "       [0.0, 0.0, 1.0, 4300, 2],\n",
       "       [0.0, 1.0, 0.0, 4500, 3],\n",
       "       [0.0, 0.0, 1.0, 4700, 4],\n",
       "       [1.0, 0.0, 0.0, 4800, 3],\n",
       "       [0.0, 1.0, 0.0, 5000, 2]], dtype=object)"
      ]
     },
     "execution_count": 7,
     "metadata": {},
     "output_type": "execute_result"
    }
   ],
   "source": [
    "array=np.hstack([Y,x[:,[1,2]]])\n",
    "array"
   ]
  },
  {
   "cell_type": "code",
   "execution_count": 8,
   "metadata": {},
   "outputs": [
    {
     "data": {
      "text/plain": [
       "array([[0.0, 0.0, 1.0, 3000, 3, 2200000],\n",
       "       [1.0, 0.0, 0.0, 3300, 2, 2400000],\n",
       "       [0.0, 1.0, 0.0, 4000, 3, 2800000],\n",
       "       [1.0, 0.0, 0.0, 4200, 4, 3000000],\n",
       "       [0.0, 0.0, 1.0, 4300, 2, 3200000],\n",
       "       [0.0, 1.0, 0.0, 4500, 3, 3500000],\n",
       "       [0.0, 0.0, 1.0, 4700, 4, 4000000],\n",
       "       [1.0, 0.0, 0.0, 4800, 3, 4200000],\n",
       "       [0.0, 1.0, 0.0, 5000, 2, 4500000]], dtype=object)"
      ]
     },
     "execution_count": 8,
     "metadata": {},
     "output_type": "execute_result"
    }
   ],
   "source": [
    "final_array=np.hstack([array,y1])\n",
    "final_array"
   ]
  },
  {
   "cell_type": "code",
   "execution_count": 9,
   "metadata": {},
   "outputs": [
    {
     "data": {
      "text/html": [
       "<div>\n",
       "<style scoped>\n",
       "    .dataframe tbody tr th:only-of-type {\n",
       "        vertical-align: middle;\n",
       "    }\n",
       "\n",
       "    .dataframe tbody tr th {\n",
       "        vertical-align: top;\n",
       "    }\n",
       "\n",
       "    .dataframe thead th {\n",
       "        text-align: right;\n",
       "    }\n",
       "</style>\n",
       "<table border=\"1\" class=\"dataframe\">\n",
       "  <thead>\n",
       "    <tr style=\"text-align: right;\">\n",
       "      <th></th>\n",
       "      <th>hyd</th>\n",
       "      <th>bng</th>\n",
       "      <th>che</th>\n",
       "      <th>sqft</th>\n",
       "      <th>bedrooms</th>\n",
       "      <th>price</th>\n",
       "    </tr>\n",
       "  </thead>\n",
       "  <tbody>\n",
       "    <tr>\n",
       "      <td>0</td>\n",
       "      <td>0</td>\n",
       "      <td>0</td>\n",
       "      <td>1</td>\n",
       "      <td>3000</td>\n",
       "      <td>3</td>\n",
       "      <td>2200000</td>\n",
       "    </tr>\n",
       "    <tr>\n",
       "      <td>1</td>\n",
       "      <td>1</td>\n",
       "      <td>0</td>\n",
       "      <td>0</td>\n",
       "      <td>3300</td>\n",
       "      <td>2</td>\n",
       "      <td>2400000</td>\n",
       "    </tr>\n",
       "    <tr>\n",
       "      <td>2</td>\n",
       "      <td>0</td>\n",
       "      <td>1</td>\n",
       "      <td>0</td>\n",
       "      <td>4000</td>\n",
       "      <td>3</td>\n",
       "      <td>2800000</td>\n",
       "    </tr>\n",
       "    <tr>\n",
       "      <td>3</td>\n",
       "      <td>1</td>\n",
       "      <td>0</td>\n",
       "      <td>0</td>\n",
       "      <td>4200</td>\n",
       "      <td>4</td>\n",
       "      <td>3000000</td>\n",
       "    </tr>\n",
       "    <tr>\n",
       "      <td>4</td>\n",
       "      <td>0</td>\n",
       "      <td>0</td>\n",
       "      <td>1</td>\n",
       "      <td>4300</td>\n",
       "      <td>2</td>\n",
       "      <td>3200000</td>\n",
       "    </tr>\n",
       "    <tr>\n",
       "      <td>5</td>\n",
       "      <td>0</td>\n",
       "      <td>1</td>\n",
       "      <td>0</td>\n",
       "      <td>4500</td>\n",
       "      <td>3</td>\n",
       "      <td>3500000</td>\n",
       "    </tr>\n",
       "    <tr>\n",
       "      <td>6</td>\n",
       "      <td>0</td>\n",
       "      <td>0</td>\n",
       "      <td>1</td>\n",
       "      <td>4700</td>\n",
       "      <td>4</td>\n",
       "      <td>4000000</td>\n",
       "    </tr>\n",
       "    <tr>\n",
       "      <td>7</td>\n",
       "      <td>1</td>\n",
       "      <td>0</td>\n",
       "      <td>0</td>\n",
       "      <td>4800</td>\n",
       "      <td>3</td>\n",
       "      <td>4200000</td>\n",
       "    </tr>\n",
       "    <tr>\n",
       "      <td>8</td>\n",
       "      <td>0</td>\n",
       "      <td>1</td>\n",
       "      <td>0</td>\n",
       "      <td>5000</td>\n",
       "      <td>2</td>\n",
       "      <td>4500000</td>\n",
       "    </tr>\n",
       "  </tbody>\n",
       "</table>\n",
       "</div>"
      ],
      "text/plain": [
       "  hyd bng che  sqft bedrooms    price\n",
       "0   0   0   1  3000        3  2200000\n",
       "1   1   0   0  3300        2  2400000\n",
       "2   0   1   0  4000        3  2800000\n",
       "3   1   0   0  4200        4  3000000\n",
       "4   0   0   1  4300        2  3200000\n",
       "5   0   1   0  4500        3  3500000\n",
       "6   0   0   1  4700        4  4000000\n",
       "7   1   0   0  4800        3  4200000\n",
       "8   0   1   0  5000        2  4500000"
      ]
     },
     "execution_count": 9,
     "metadata": {},
     "output_type": "execute_result"
    }
   ],
   "source": [
    "df2=pd.DataFrame(data=final_array,columns=['hyd','bng','che','sqft','bedrooms','price'])\n",
    "df2"
   ]
  },
  {
   "cell_type": "code",
   "execution_count": 10,
   "metadata": {},
   "outputs": [
    {
     "data": {
      "text/plain": [
       "array([[0.0, 0.0, 1.0, 3000, 3],\n",
       "       [1.0, 0.0, 0.0, 3300, 2],\n",
       "       [0.0, 1.0, 0.0, 4000, 3],\n",
       "       [1.0, 0.0, 0.0, 4200, 4],\n",
       "       [0.0, 0.0, 1.0, 4300, 2],\n",
       "       [0.0, 1.0, 0.0, 4500, 3],\n",
       "       [0.0, 0.0, 1.0, 4700, 4],\n",
       "       [1.0, 0.0, 0.0, 4800, 3],\n",
       "       [0.0, 1.0, 0.0, 5000, 2]], dtype=object)"
      ]
     },
     "execution_count": 10,
     "metadata": {},
     "output_type": "execute_result"
    }
   ],
   "source": [
    "A=df2.iloc[:,:-1].values\n",
    "A"
   ]
  },
  {
   "cell_type": "code",
   "execution_count": 23,
   "metadata": {},
   "outputs": [
    {
     "data": {
      "text/plain": [
       "array([[2200000],\n",
       "       [2400000],\n",
       "       [2800000],\n",
       "       [3000000],\n",
       "       [3200000],\n",
       "       [3500000],\n",
       "       [4000000],\n",
       "       [4200000],\n",
       "       [4500000]], dtype=object)"
      ]
     },
     "execution_count": 23,
     "metadata": {},
     "output_type": "execute_result"
    }
   ],
   "source": [
    "B=df2.iloc[:,-1].values\n",
    "C=B.reshape(-1,1)\n",
    "C"
   ]
  },
  {
   "cell_type": "code",
   "execution_count": 29,
   "metadata": {},
   "outputs": [
    {
     "name": "stdout",
     "output_type": "stream",
     "text": [
      "[[0.0 0.0 1.0 4300 2]\n",
      " [0.0 1.0 0.0 5000 2]\n",
      " [0.0 0.0 1.0 4700 4]\n",
      " [1.0 0.0 0.0 4200 4]\n",
      " [0.0 0.0 1.0 3000 3]\n",
      " [0.0 1.0 0.0 4500 3]] [[1.0 0.0 0.0 4800 3]\n",
      " [0.0 1.0 0.0 4000 3]\n",
      " [1.0 0.0 0.0 3300 2]] [3200000 4500000 4000000 3000000 2200000 3500000] [4200000 2800000 2400000]\n"
     ]
    }
   ],
   "source": [
    "from sklearn.model_selection import train_test_split\n",
    "A_train,A_test,C_train,C_test=train_test_split(A,B,test_size=0.25,random_state=0)\n",
    "print(A_train,A_test,C_train,C_test)"
   ]
  },
  {
   "cell_type": "code",
   "execution_count": 13,
   "metadata": {},
   "outputs": [
    {
     "data": {
      "text/plain": [
       "array([3577358.49056606, 3235849.05660376, 1935849.0566038 ])"
      ]
     },
     "execution_count": 13,
     "metadata": {},
     "output_type": "execute_result"
    }
   ],
   "source": [
    "from sklearn.linear_model import LinearRegression\n",
    "lr=LinearRegression()\n",
    "lr.fit(A_train,C_train)\n",
    "C_pred=lr.predict(A_test)\n",
    "C_pred\n"
   ]
  },
  {
   "cell_type": "code",
   "execution_count": 14,
   "metadata": {},
   "outputs": [
    {
     "data": {
      "text/plain": [
       "array([2788679.25])"
      ]
     },
     "execution_count": 14,
     "metadata": {},
     "output_type": "execute_result"
    }
   ],
   "source": [
    "new=lr.predict([[1,0,0,4000,4]])\n",
    "new\n",
    "np.round(new,2)"
   ]
  },
  {
   "cell_type": "code",
   "execution_count": 15,
   "metadata": {},
   "outputs": [
    {
     "data": {
      "text/plain": [
       "514160.46382043854"
      ]
     },
     "execution_count": 15,
     "metadata": {},
     "output_type": "execute_result"
    }
   ],
   "source": [
    "from sklearn.metrics import mean_squared_error,mean_absolute_error\n",
    "from numpy import sqrt\n",
    "rmse=sqrt(mean_squared_error(C_test,C_pred))\n",
    "rmse"
   ]
  },
  {
   "cell_type": "code",
   "execution_count": 16,
   "metadata": {},
   "outputs": [
    {
     "data": {
      "text/plain": [
       "507547.1698113002"
      ]
     },
     "execution_count": 16,
     "metadata": {},
     "output_type": "execute_result"
    }
   ],
   "source": [
    "mae=mean_absolute_error(C_test,C_pred)\n",
    "mae"
   ]
  },
  {
   "cell_type": "code",
   "execution_count": 17,
   "metadata": {},
   "outputs": [
    {
     "data": {
      "text/plain": [
       "55.6110290484247"
      ]
     },
     "execution_count": 17,
     "metadata": {},
     "output_type": "execute_result"
    }
   ],
   "source": [
    "from sklearn.metrics import r2_score\n",
    "r2score=r2_score(C_test,C_pred)\n",
    "Accuracy=r2score*100\n",
    "Accuracy"
   ]
  },
  {
   "cell_type": "code",
   "execution_count": 18,
   "metadata": {},
   "outputs": [
    {
     "data": {
      "text/html": [
       "<div>\n",
       "<style scoped>\n",
       "    .dataframe tbody tr th:only-of-type {\n",
       "        vertical-align: middle;\n",
       "    }\n",
       "\n",
       "    .dataframe tbody tr th {\n",
       "        vertical-align: top;\n",
       "    }\n",
       "\n",
       "    .dataframe thead th {\n",
       "        text-align: right;\n",
       "    }\n",
       "</style>\n",
       "<table border=\"1\" class=\"dataframe\">\n",
       "  <thead>\n",
       "    <tr style=\"text-align: right;\">\n",
       "      <th></th>\n",
       "      <th>actual</th>\n",
       "      <th>predicted</th>\n",
       "    </tr>\n",
       "  </thead>\n",
       "  <tbody>\n",
       "    <tr>\n",
       "      <td>0</td>\n",
       "      <td>4200000</td>\n",
       "      <td>3577358.49</td>\n",
       "    </tr>\n",
       "    <tr>\n",
       "      <td>1</td>\n",
       "      <td>2800000</td>\n",
       "      <td>3235849.06</td>\n",
       "    </tr>\n",
       "    <tr>\n",
       "      <td>2</td>\n",
       "      <td>2400000</td>\n",
       "      <td>1935849.06</td>\n",
       "    </tr>\n",
       "  </tbody>\n",
       "</table>\n",
       "</div>"
      ],
      "text/plain": [
       "    actual   predicted\n",
       "0  4200000  3577358.49\n",
       "1  2800000  3235849.06\n",
       "2  2400000  1935849.06"
      ]
     },
     "execution_count": 18,
     "metadata": {},
     "output_type": "execute_result"
    }
   ],
   "source": [
    "df=pd.DataFrame({'actual':C_test,'predicted':np.round(C_pred,2)})\n",
    "df"
   ]
  }
 ],
 "metadata": {
  "kernelspec": {
   "display_name": "Python 3",
   "language": "python",
   "name": "python3"
  },
  "language_info": {
   "codemirror_mode": {
    "name": "ipython",
    "version": 3
   },
   "file_extension": ".py",
   "mimetype": "text/x-python",
   "name": "python",
   "nbconvert_exporter": "python",
   "pygments_lexer": "ipython3",
   "version": "3.7.4"
  }
 },
 "nbformat": 4,
 "nbformat_minor": 2
}
