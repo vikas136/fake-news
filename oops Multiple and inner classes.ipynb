{
 "cells": [
  {
   "cell_type": "code",
   "execution_count": 2,
   "metadata": {},
   "outputs": [
    {
     "name": "stdout",
     "output_type": "stream",
     "text": [
      "my name is: vikas\n",
      "my number is: 123\n",
      "my salary is 30000\n"
     ]
    }
   ],
   "source": [
    "class employee:\n",
    "    def __init__(self,eno,ename,esal):\n",
    "        self.ename=ename\n",
    "        self.eno=eno\n",
    "        self.esal=esal\n",
    "        \n",
    "    def printing(self):\n",
    "        print('my name is:',self.ename)\n",
    "        print('my number is:',self.eno)\n",
    "        print('my salary is',self.esal)\n",
    "class modify:\n",
    "    def mod(self):\n",
    "        self.esal=self.esal+10000\n",
    "        self.printing()\n",
    "s=employee(123,'vikas',20000)\n",
    "modify.mod(s)"
   ]
  },
  {
   "cell_type": "code",
   "execution_count": 2,
   "metadata": {},
   "outputs": [
    {
     "name": "stdout",
     "output_type": "stream",
     "text": [
      "this is vikas\n",
      "learning artificial inteligence\n",
      "i am staying in hyderabad\n"
     ]
    }
   ],
   "source": [
    "class outer:\n",
    "    def __init__(self):\n",
    "        print('this is vikas')\n",
    "        \n",
    "    class inner:\n",
    "        def __init__(self):\n",
    "            print('learning artificial inteligence')\n",
    "                \n",
    "        def m1(self):\n",
    "                print('i am staying in hyderabad')\n",
    "        class myname:\n",
    "            def __init__(self):\n",
    "                print('my family name yetintala')\n",
    "                \n",
    "o=outer()\n",
    "i=o.inner()\n",
    "i.m1()\n"
   ]
  },
  {
   "cell_type": "code",
   "execution_count": 19,
   "metadata": {},
   "outputs": [
    {
     "name": "stdout",
     "output_type": "stream",
     "text": [
      "this is vikas\n",
      "learning artificial inteligence\n",
      "i am staying in hyderabad\n"
     ]
    }
   ],
   "source": [
    "class outer:\n",
    "    def __init__(self):\n",
    "        print('this is vikas')\n",
    "        \n",
    "    class inner:\n",
    "        def __init__(self):\n",
    "            print('learning artificial inteligence')\n",
    "                \n",
    "        def m1(self):\n",
    "                print('i am staying in hyderabad')\n",
    "        class myname:\n",
    "            def __init__(self):\n",
    "                print('my family name yetintala')\n",
    "                \n",
    "outer().inner().m1()"
   ]
  },
  {
   "cell_type": "code",
   "execution_count": 4,
   "metadata": {},
   "outputs": [
    {
     "name": "stdout",
     "output_type": "stream",
     "text": [
      "name is vikas\n",
      "dob is 9/8/1993\n"
     ]
    }
   ],
   "source": [
    "class person:\n",
    "    def __init__(self):\n",
    "        self.name='vikas'\n",
    "        self.dob=self.DOB()\n",
    "        \n",
    "    def display(self):\n",
    "        print('name is',self.name)\n",
    "        self.dob.display()\n",
    "    class DOB:\n",
    "        def __init__(self):\n",
    "            self.dd=9\n",
    "            self.mm=8\n",
    "            self.yyyy=1993\n",
    "        def display(self):\n",
    "            print('dob is {}/{}/{}'.format(self.dd,self.mm,self.yyyy))\n",
    "            \n",
    "p=person()\n",
    "p.display()"
   ]
  }
 ],
 "metadata": {
  "kernelspec": {
   "display_name": "Python 3",
   "language": "python",
   "name": "python3"
  },
  "language_info": {
   "codemirror_mode": {
    "name": "ipython",
    "version": 3
   },
   "file_extension": ".py",
   "mimetype": "text/x-python",
   "name": "python",
   "nbconvert_exporter": "python",
   "pygments_lexer": "ipython3",
   "version": "3.7.4"
  }
 },
 "nbformat": 4,
 "nbformat_minor": 2
}
