{
 "cells": [
  {
   "cell_type": "code",
   "execution_count": 1,
   "metadata": {},
   "outputs": [],
   "source": [
    "import numpy as np\n",
    "import pandas as pd\n",
    "import matplotlib.pyplot as plt"
   ]
  },
  {
   "cell_type": "code",
   "execution_count": 3,
   "metadata": {},
   "outputs": [
    {
     "data": {
      "text/html": [
       "<div>\n",
       "<style scoped>\n",
       "    .dataframe tbody tr th:only-of-type {\n",
       "        vertical-align: middle;\n",
       "    }\n",
       "\n",
       "    .dataframe tbody tr th {\n",
       "        vertical-align: top;\n",
       "    }\n",
       "\n",
       "    .dataframe thead th {\n",
       "        text-align: right;\n",
       "    }\n",
       "</style>\n",
       "<table border=\"1\" class=\"dataframe\">\n",
       "  <thead>\n",
       "    <tr style=\"text-align: right;\">\n",
       "      <th></th>\n",
       "      <th>Serial No.</th>\n",
       "      <th>GRE Score</th>\n",
       "      <th>TOEFL Score</th>\n",
       "      <th>University Rating</th>\n",
       "      <th>SOP</th>\n",
       "      <th>LOR</th>\n",
       "      <th>CGPA</th>\n",
       "      <th>Research</th>\n",
       "      <th>Chance of Admit</th>\n",
       "    </tr>\n",
       "  </thead>\n",
       "  <tbody>\n",
       "    <tr>\n",
       "      <td>0</td>\n",
       "      <td>1</td>\n",
       "      <td>337</td>\n",
       "      <td>118</td>\n",
       "      <td>4</td>\n",
       "      <td>4.5</td>\n",
       "      <td>4.5</td>\n",
       "      <td>9.65</td>\n",
       "      <td>1</td>\n",
       "      <td>0.92</td>\n",
       "    </tr>\n",
       "    <tr>\n",
       "      <td>1</td>\n",
       "      <td>2</td>\n",
       "      <td>324</td>\n",
       "      <td>107</td>\n",
       "      <td>4</td>\n",
       "      <td>4.0</td>\n",
       "      <td>4.5</td>\n",
       "      <td>8.87</td>\n",
       "      <td>1</td>\n",
       "      <td>0.76</td>\n",
       "    </tr>\n",
       "    <tr>\n",
       "      <td>2</td>\n",
       "      <td>3</td>\n",
       "      <td>316</td>\n",
       "      <td>104</td>\n",
       "      <td>3</td>\n",
       "      <td>3.0</td>\n",
       "      <td>3.5</td>\n",
       "      <td>8.00</td>\n",
       "      <td>1</td>\n",
       "      <td>0.72</td>\n",
       "    </tr>\n",
       "    <tr>\n",
       "      <td>3</td>\n",
       "      <td>4</td>\n",
       "      <td>322</td>\n",
       "      <td>110</td>\n",
       "      <td>3</td>\n",
       "      <td>3.5</td>\n",
       "      <td>2.5</td>\n",
       "      <td>8.67</td>\n",
       "      <td>1</td>\n",
       "      <td>0.80</td>\n",
       "    </tr>\n",
       "    <tr>\n",
       "      <td>4</td>\n",
       "      <td>5</td>\n",
       "      <td>314</td>\n",
       "      <td>103</td>\n",
       "      <td>2</td>\n",
       "      <td>2.0</td>\n",
       "      <td>3.0</td>\n",
       "      <td>8.21</td>\n",
       "      <td>0</td>\n",
       "      <td>0.65</td>\n",
       "    </tr>\n",
       "  </tbody>\n",
       "</table>\n",
       "</div>"
      ],
      "text/plain": [
       "   Serial No.  GRE Score  TOEFL Score  University Rating  SOP  LOR   CGPA  \\\n",
       "0           1        337          118                  4  4.5   4.5  9.65   \n",
       "1           2        324          107                  4  4.0   4.5  8.87   \n",
       "2           3        316          104                  3  3.0   3.5  8.00   \n",
       "3           4        322          110                  3  3.5   2.5  8.67   \n",
       "4           5        314          103                  2  2.0   3.0  8.21   \n",
       "\n",
       "   Research  Chance of Admit   \n",
       "0         1              0.92  \n",
       "1         1              0.76  \n",
       "2         1              0.72  \n",
       "3         1              0.80  \n",
       "4         0              0.65  "
      ]
     },
     "execution_count": 3,
     "metadata": {},
     "output_type": "execute_result"
    }
   ],
   "source": [
    "df=pd.read_csv('C:\\\\Users\\\\krishna\\\\AppData\\\\Local\\\\Temp\\\\Temp1_graduate-admissions.zip\\\\Admission_Predict.csv')\n",
    "df.head()"
   ]
  },
  {
   "cell_type": "code",
   "execution_count": 13,
   "metadata": {},
   "outputs": [],
   "source": [
    "del df['Serial No.']"
   ]
  },
  {
   "cell_type": "code",
   "execution_count": 16,
   "metadata": {},
   "outputs": [],
   "source": [
    "x=df.iloc[:,:-1].values"
   ]
  },
  {
   "cell_type": "code",
   "execution_count": 17,
   "metadata": {},
   "outputs": [],
   "source": [
    "y=df.iloc[:,-1].values"
   ]
  },
  {
   "cell_type": "code",
   "execution_count": 18,
   "metadata": {},
   "outputs": [],
   "source": [
    "from sklearn.model_selection import train_test_split\n",
    "x_train,x_test,y_train,y_test=train_test_split(x,y,test_size=0.25,random_state=0)"
   ]
  },
  {
   "cell_type": "code",
   "execution_count": 22,
   "metadata": {},
   "outputs": [],
   "source": [
    "from sklearn.preprocessing import StandardScaler\n",
    "ss=StandardScaler()\n",
    "x1_train=ss.fit_transform(x_train)\n",
    "x1_test=ss.transform(x_test)"
   ]
  },
  {
   "cell_type": "code",
   "execution_count": 31,
   "metadata": {},
   "outputs": [
    {
     "data": {
      "text/html": [
       "<div>\n",
       "<style scoped>\n",
       "    .dataframe tbody tr th:only-of-type {\n",
       "        vertical-align: middle;\n",
       "    }\n",
       "\n",
       "    .dataframe tbody tr th {\n",
       "        vertical-align: top;\n",
       "    }\n",
       "\n",
       "    .dataframe thead th {\n",
       "        text-align: right;\n",
       "    }\n",
       "</style>\n",
       "<table border=\"1\" class=\"dataframe\">\n",
       "  <thead>\n",
       "    <tr style=\"text-align: right;\">\n",
       "      <th></th>\n",
       "      <th>GRE Score</th>\n",
       "      <th>TOEFL Score</th>\n",
       "      <th>University Rating</th>\n",
       "      <th>SOP</th>\n",
       "      <th>LOR</th>\n",
       "      <th>CGPA</th>\n",
       "      <th>Research</th>\n",
       "    </tr>\n",
       "  </thead>\n",
       "  <tbody>\n",
       "    <tr>\n",
       "      <td>0</td>\n",
       "      <td>0.282701</td>\n",
       "      <td>-0.552739</td>\n",
       "      <td>-0.096928</td>\n",
       "      <td>-0.422790</td>\n",
       "      <td>-1.094760</td>\n",
       "      <td>-0.070169</td>\n",
       "      <td>0.886405</td>\n",
       "    </tr>\n",
       "    <tr>\n",
       "      <td>1</td>\n",
       "      <td>-0.140504</td>\n",
       "      <td>-0.067880</td>\n",
       "      <td>-0.952174</td>\n",
       "      <td>0.538097</td>\n",
       "      <td>-0.543706</td>\n",
       "      <td>-0.184842</td>\n",
       "      <td>0.886405</td>\n",
       "    </tr>\n",
       "    <tr>\n",
       "      <td>2</td>\n",
       "      <td>-0.479069</td>\n",
       "      <td>-0.067880</td>\n",
       "      <td>0.758318</td>\n",
       "      <td>1.018540</td>\n",
       "      <td>1.109455</td>\n",
       "      <td>0.634250</td>\n",
       "      <td>0.886405</td>\n",
       "    </tr>\n",
       "    <tr>\n",
       "      <td>3</td>\n",
       "      <td>-1.664045</td>\n",
       "      <td>-1.199216</td>\n",
       "      <td>-1.807420</td>\n",
       "      <td>-1.864121</td>\n",
       "      <td>-1.645814</td>\n",
       "      <td>-1.167752</td>\n",
       "      <td>-1.128152</td>\n",
       "    </tr>\n",
       "    <tr>\n",
       "      <td>4</td>\n",
       "      <td>0.367343</td>\n",
       "      <td>0.578598</td>\n",
       "      <td>-0.096928</td>\n",
       "      <td>-0.903234</td>\n",
       "      <td>-0.543706</td>\n",
       "      <td>0.470432</td>\n",
       "      <td>0.886405</td>\n",
       "    </tr>\n",
       "    <tr>\n",
       "      <td>...</td>\n",
       "      <td>...</td>\n",
       "      <td>...</td>\n",
       "      <td>...</td>\n",
       "      <td>...</td>\n",
       "      <td>...</td>\n",
       "      <td>...</td>\n",
       "      <td>...</td>\n",
       "    </tr>\n",
       "    <tr>\n",
       "      <td>295</td>\n",
       "      <td>-0.986916</td>\n",
       "      <td>-0.875977</td>\n",
       "      <td>-0.952174</td>\n",
       "      <td>-1.383678</td>\n",
       "      <td>-1.094760</td>\n",
       "      <td>-0.709060</td>\n",
       "      <td>-1.128152</td>\n",
       "    </tr>\n",
       "    <tr>\n",
       "      <td>296</td>\n",
       "      <td>0.451984</td>\n",
       "      <td>1.063456</td>\n",
       "      <td>1.613564</td>\n",
       "      <td>1.018540</td>\n",
       "      <td>0.558401</td>\n",
       "      <td>0.535959</td>\n",
       "      <td>0.886405</td>\n",
       "    </tr>\n",
       "    <tr>\n",
       "      <td>297</td>\n",
       "      <td>-2.256533</td>\n",
       "      <td>-0.552739</td>\n",
       "      <td>0.758318</td>\n",
       "      <td>-1.383678</td>\n",
       "      <td>-1.094760</td>\n",
       "      <td>-1.888552</td>\n",
       "      <td>-1.128152</td>\n",
       "    </tr>\n",
       "    <tr>\n",
       "      <td>298</td>\n",
       "      <td>1.890883</td>\n",
       "      <td>1.871553</td>\n",
       "      <td>1.613564</td>\n",
       "      <td>1.018540</td>\n",
       "      <td>0.558401</td>\n",
       "      <td>1.780978</td>\n",
       "      <td>-1.128152</td>\n",
       "    </tr>\n",
       "    <tr>\n",
       "      <td>299</td>\n",
       "      <td>0.451984</td>\n",
       "      <td>0.416978</td>\n",
       "      <td>0.758318</td>\n",
       "      <td>0.538097</td>\n",
       "      <td>1.660508</td>\n",
       "      <td>0.847214</td>\n",
       "      <td>0.886405</td>\n",
       "    </tr>\n",
       "  </tbody>\n",
       "</table>\n",
       "<p>300 rows × 7 columns</p>\n",
       "</div>"
      ],
      "text/plain": [
       "     GRE Score  TOEFL Score  University Rating       SOP       LOR      CGPA  \\\n",
       "0     0.282701    -0.552739          -0.096928 -0.422790 -1.094760 -0.070169   \n",
       "1    -0.140504    -0.067880          -0.952174  0.538097 -0.543706 -0.184842   \n",
       "2    -0.479069    -0.067880           0.758318  1.018540  1.109455  0.634250   \n",
       "3    -1.664045    -1.199216          -1.807420 -1.864121 -1.645814 -1.167752   \n",
       "4     0.367343     0.578598          -0.096928 -0.903234 -0.543706  0.470432   \n",
       "..         ...          ...                ...       ...       ...       ...   \n",
       "295  -0.986916    -0.875977          -0.952174 -1.383678 -1.094760 -0.709060   \n",
       "296   0.451984     1.063456           1.613564  1.018540  0.558401  0.535959   \n",
       "297  -2.256533    -0.552739           0.758318 -1.383678 -1.094760 -1.888552   \n",
       "298   1.890883     1.871553           1.613564  1.018540  0.558401  1.780978   \n",
       "299   0.451984     0.416978           0.758318  0.538097  1.660508  0.847214   \n",
       "\n",
       "     Research  \n",
       "0    0.886405  \n",
       "1    0.886405  \n",
       "2    0.886405  \n",
       "3   -1.128152  \n",
       "4    0.886405  \n",
       "..        ...  \n",
       "295 -1.128152  \n",
       "296  0.886405  \n",
       "297 -1.128152  \n",
       "298 -1.128152  \n",
       "299  0.886405  \n",
       "\n",
       "[300 rows x 7 columns]"
      ]
     },
     "execution_count": 31,
     "metadata": {},
     "output_type": "execute_result"
    }
   ],
   "source": [
    "dfs=pd.DataFrame(data=x1_train,columns=['GRE Score','TOEFL Score','University Rating','SOP','LOR','CGPA','Research'])\n",
    "dfs"
   ]
  },
  {
   "cell_type": "code",
   "execution_count": 23,
   "metadata": {},
   "outputs": [
    {
     "data": {
      "text/plain": [
       "array([0.69418705, 0.69241069, 0.77835464, 0.61108268, 0.71128083,\n",
       "       0.59809228, 0.69934858, 0.64720793, 0.86916627, 0.91714608,\n",
       "       0.53079071, 0.88360107, 0.71363835, 0.46522579, 0.85207526,\n",
       "       0.6134993 , 0.62114768, 0.80514561, 0.59086173, 0.72757776,\n",
       "       0.8830123 , 0.84533496, 0.64820534, 0.45418038, 0.78582765,\n",
       "       0.58046608, 0.49606648, 0.64463528, 0.89904261, 0.65569014,\n",
       "       0.63514384, 0.74094887, 0.74165271, 0.54362291, 0.78394185,\n",
       "       0.77264608, 0.66676351, 0.85469235, 0.62397434, 0.92508653,\n",
       "       0.72972691, 0.66976791, 0.71844456, 0.8038283 , 0.82712765,\n",
       "       0.67275918, 0.57514239, 0.69928054, 0.60184796, 0.59211909,\n",
       "       0.66224727, 0.79231888, 0.64131443, 0.8890845 , 0.71381106,\n",
       "       0.74819492, 0.74389158, 0.73896709, 0.76452998, 0.82917124,\n",
       "       0.75658293, 0.45833634, 0.63021654, 0.5189231 , 0.84007596,\n",
       "       0.80687194, 0.7302223 , 0.86762309, 0.76209602, 0.74141265,\n",
       "       0.60019705, 0.82836852, 0.80881193, 0.61857555, 0.92792517,\n",
       "       0.63567852, 0.62423789, 0.63792912, 0.90177538, 0.50262071,\n",
       "       0.71993964, 0.75078191, 0.60632968, 0.85962724, 0.59668631,\n",
       "       0.79793637, 0.64981421, 0.73031457, 0.79997893, 0.8440857 ,\n",
       "       0.76699426, 0.93577754, 0.56312592, 0.53621297, 0.8428311 ,\n",
       "       0.66312733, 0.76377258, 0.61957685, 0.74613136, 0.74301773])"
      ]
     },
     "execution_count": 23,
     "metadata": {},
     "output_type": "execute_result"
    }
   ],
   "source": [
    "from sklearn.linear_model import SGDRegressor\n",
    "sgd=SGDRegressor()\n",
    "sgd.fit(x1_train,y_train)\n",
    "pred=sgd.predict(x1_test)\n",
    "pred"
   ]
  },
  {
   "cell_type": "code",
   "execution_count": 33,
   "metadata": {},
   "outputs": [
    {
     "data": {
      "text/plain": [
       "array([0.72292887])"
      ]
     },
     "execution_count": 33,
     "metadata": {},
     "output_type": "execute_result"
    }
   ],
   "source": [
    "new=sgd.predict(ss.fit_transform([[0.18,-0.2,-0.06,-0.58,-1.5,-0.05,0.10]]))\n",
    "new"
   ]
  },
  {
   "cell_type": "code",
   "execution_count": 30,
   "metadata": {},
   "outputs": [
    {
     "data": {
      "image/png": "[encoded data removed]",
      "text/plain": [
       "<Figure size 432x288 with 1 Axes>"
      ]
     },
     "metadata": {
      "needs_background": "light"
     },
     "output_type": "display_data"
    }
   ],
   "source": [
    "plt.scatter(y_test,pred)\n",
    "plt.xlabel('actual values')\n",
    "plt.ylabel('predicted values')\n",
    "plt.grid()\n",
    "plt.show()"
   ]
  },
  {
   "cell_type": "code",
   "execution_count": 24,
   "metadata": {},
   "outputs": [],
   "source": [
    "from sklearn.metrics import *\n",
    "from numpy import sqrt"
   ]
  },
  {
   "cell_type": "code",
   "execution_count": 25,
   "metadata": {},
   "outputs": [
    {
     "data": {
      "text/plain": [
       "0.06856804196513905"
      ]
     },
     "execution_count": 25,
     "metadata": {},
     "output_type": "execute_result"
    }
   ],
   "source": [
    "rmse=sqrt(mean_squared_error(y_test,pred))\n",
    "rmse"
   ]
  },
  {
   "cell_type": "code",
   "execution_count": 26,
   "metadata": {},
   "outputs": [
    {
     "data": {
      "text/plain": [
       "0.04920448551598968"
      ]
     },
     "execution_count": 26,
     "metadata": {},
     "output_type": "execute_result"
    }
   ],
   "source": [
    "mae=mean_absolute_error(y_test,pred)\n",
    "mae"
   ]
  },
  {
   "cell_type": "code",
   "execution_count": 27,
   "metadata": {},
   "outputs": [
    {
     "data": {
      "text/plain": [
       "73.05889140165944"
      ]
     },
     "execution_count": 27,
     "metadata": {},
     "output_type": "execute_result"
    }
   ],
   "source": [
    "accuracy=r2_score(y_test,pred)\n",
    "accuracy*100"
   ]
  },
  {
   "cell_type": "code",
   "execution_count": null,
   "metadata": {},
   "outputs": [],
   "source": []
  }
 ],
 "metadata": {
  "kernelspec": {
   "display_name": "Python 3",
   "language": "python",
   "name": "python3"
  },
  "language_info": {
   "codemirror_mode": {
    "name": "ipython",
    "version": 3
   },
   "file_extension": ".py",
   "mimetype": "text/x-python",
   "name": "python",
   "nbconvert_exporter": "python",
   "pygments_lexer": "ipython3",
   "version": "3.7.4"
  }
 },
 "nbformat": 4,
 "nbformat_minor": 2
}
