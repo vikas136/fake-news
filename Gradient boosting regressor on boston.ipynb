{
 "cells": [
  {
   "cell_type": "code",
   "execution_count": 1,
   "metadata": {},
   "outputs": [],
   "source": [
    "import numpy as np\n",
    "import pandas as pd\n",
    "from sklearn.datasets import *"
   ]
  },
  {
   "cell_type": "code",
   "execution_count": 2,
   "metadata": {},
   "outputs": [],
   "source": [
    "df=load_boston()"
   ]
  },
  {
   "cell_type": "code",
   "execution_count": 3,
   "metadata": {},
   "outputs": [],
   "source": [
    "x=df.data"
   ]
  },
  {
   "cell_type": "code",
   "execution_count": 4,
   "metadata": {},
   "outputs": [],
   "source": [
    "y=df.target"
   ]
  },
  {
   "cell_type": "code",
   "execution_count": 5,
   "metadata": {},
   "outputs": [],
   "source": [
    "from sklearn.model_selection import train_test_split\n",
    "x_train,x_test,y_train,y_test=train_test_split(x,y,test_size=0.25,random_state=0)"
   ]
  },
  {
   "cell_type": "code",
   "execution_count": 6,
   "metadata": {},
   "outputs": [
    {
     "data": {
      "text/plain": [
       "array([24.16835243, 32.47965782, 22.48825545, 10.99014352, 21.80931634,\n",
       "       20.50839593, 21.1010735 , 20.68265533, 23.54103265, 17.62324071,\n",
       "        7.66917474, 14.44560579, 15.51187734,  9.79147497, 48.08959678,\n",
       "       34.49429993, 21.10109008, 36.09584634, 26.11156528, 22.34160592,\n",
       "       23.53569188, 21.65630269, 19.77240811, 24.84330938, 20.46234442,\n",
       "       21.25389006, 18.06995914, 16.43351754, 40.76749516, 18.78024313,\n",
       "       16.09448455, 17.76847278, 19.75257904, 21.38056107, 23.92453423,\n",
       "       17.31064063,  9.90776557, 32.34575342, 13.98244718, 14.72985839,\n",
       "       22.97414742, 20.91407297, 23.05804003, 16.05103139, 22.89692799,\n",
       "       20.91051801, 19.19799429, 16.23946768, 15.13179573, 23.25178975,\n",
       "       15.89102968, 19.57493758, 21.70070648, 38.98039182, 15.51614044,\n",
       "       19.64685162, 19.56546697, 18.5780403 , 24.1744593 , 19.32836268,\n",
       "       22.63664433, 21.24032132, 32.67446712, 28.64588274, 18.45625002,\n",
       "       27.31732419, 16.33164768, 18.94641299, 15.0393723 , 22.7529601 ,\n",
       "       20.73333674, 22.90233341, 24.97912045, 30.98782331, 29.1752309 ,\n",
       "        9.58772126, 43.02448554, 22.47984516, 22.55819464, 20.81317044,\n",
       "       26.60087948, 18.02646477, 24.50360663, 45.10156873, 42.7843236 ,\n",
       "       23.83845137, 22.40166303, 15.06205678, 24.92917032, 14.98911586,\n",
       "       17.79638247, 10.8762795 , 22.47078243, 29.93612036, 20.18706069,\n",
       "       21.51286807, 12.20625866, 23.31233931, 14.40097177, 18.56303149,\n",
       "       24.57305527, 19.97329094, 28.7446256 , 20.28115   , 26.56942191,\n",
       "       20.92496492,  8.99810464, 18.28409362, 19.80725968, 23.32286196,\n",
       "       36.51798386, 12.23828492, 18.90298362, 19.01332135, 15.98506108,\n",
       "       20.58786528,  9.86106717, 19.84687911, 10.86913275, 48.72415786,\n",
       "       30.49311205, 10.49483702, 17.91017991, 21.47251402, 20.43822789,\n",
       "       19.19913143, 33.58974359])"
      ]
     },
     "execution_count": 6,
     "metadata": {},
     "output_type": "execute_result"
    }
   ],
   "source": [
    "from sklearn.ensemble import GradientBoostingRegressor\n",
    "gbr=GradientBoostingRegressor()\n",
    "gbr.fit(x_train,y_train)\n",
    "pred=gbr.predict(x_test)\n",
    "pred"
   ]
  },
  {
   "cell_type": "code",
   "execution_count": 8,
   "metadata": {},
   "outputs": [],
   "source": [
    "from sklearn.metrics import *\n",
    "from numpy import sqrt"
   ]
  },
  {
   "cell_type": "code",
   "execution_count": 9,
   "metadata": {},
   "outputs": [
    {
     "data": {
      "text/plain": [
       "3.8159175432146606"
      ]
     },
     "execution_count": 9,
     "metadata": {},
     "output_type": "execute_result"
    }
   ],
   "source": [
    "rmse=sqrt(mean_squared_error(y_test,pred))\n",
    "rmse"
   ]
  },
  {
   "cell_type": "code",
   "execution_count": 10,
   "metadata": {},
   "outputs": [
    {
     "data": {
      "text/plain": [
       "82.17698632163055"
      ]
     },
     "execution_count": 10,
     "metadata": {},
     "output_type": "execute_result"
    }
   ],
   "source": [
    "accuracy=r2_score(y_test,pred)\n",
    "accuracy*100"
   ]
  }
 ],
 "metadata": {
  "kernelspec": {
   "display_name": "Python 3",
   "language": "python",
   "name": "python3"
  },
  "language_info": {
   "codemirror_mode": {
    "name": "ipython",
    "version": 3
   },
   "file_extension": ".py",
   "mimetype": "text/x-python",
   "name": "python",
   "nbconvert_exporter": "python",
   "pygments_lexer": "ipython3",
   "version": "3.7.4"
  }
 },
 "nbformat": 4,
 "nbformat_minor": 2
}
