{
 "cells": [
  {
   "cell_type": "code",
   "execution_count": 4,
   "metadata": {},
   "outputs": [
    {
     "name": "stdout",
     "output_type": "stream",
     "text": [
      "15\n",
      "10\n",
      "300\n",
      "2.0\n"
     ]
    }
   ],
   "source": [
    "class vikas:\n",
    "    def add(a,b):\n",
    "        return a+b\n",
    "    def sub(a,b):\n",
    "        return a-b\n",
    "    def mul(a,b):\n",
    "        return a*b\n",
    "    def div(a,b):\n",
    "        return a/b\n",
    "    \n",
    "print(vikas.add(10,5))\n",
    "print(vikas.sub(20,10))\n",
    "print(vikas.mul(30,10))\n",
    "print(vikas.div(20,10))"
   ]
  },
  {
   "cell_type": "code",
   "execution_count": 45,
   "metadata": {},
   "outputs": [
    {
     "name": "stdout",
     "output_type": "stream",
     "text": [
      "my name is vikas\n",
      "my id is 40\n",
      "my college name is mlec college\n"
     ]
    }
   ],
   "source": [
    "class student:\n",
    "    cname='mlec college'                             \n",
    "    def __init__(self,name,id):                # it is instance method because the instances are called \n",
    "        self.name=name                      \n",
    "        self.id=id\n",
    "        \n",
    "    def exec(self):                           # it is object method the values are called through object\n",
    "        print('my name is',self.name)\n",
    "        print('my id is',self.id)\n",
    "    def college(cls):                             # class method because it is callable thorgh class\n",
    "        print('my college name is',cls.cname)\n",
    "        \n",
    "s=student('vikas',40)\n",
    "s.exec()\n",
    "s.college()"
   ]
  },
  {
   "cell_type": "code",
   "execution_count": 28,
   "metadata": {},
   "outputs": [
    {
     "name": "stdout",
     "output_type": "stream",
     "text": [
      "my name is: vikas\n",
      "my id is: 50\n",
      "10\n",
      "marks are 60\n",
      "my college name is mlec college\n"
     ]
    }
   ],
   "source": [
    "class student:\n",
    "    cname='mlec college'      # static variable because variable is created within the class                 \n",
    "    def __init__(self):                \n",
    "        self.name='vikas'        # instance variables  because it is created with in sample method                   \n",
    "        self.id=50\n",
    "        \n",
    "    def exec(self):      \n",
    "        x=10                                       #local variable because it is created with in method \n",
    "        self.marks=60                            # it becomes a instance variable because it is created with self\n",
    "        print('my name is:',self.name)\n",
    "        print('my id is:',self.id)\n",
    "        print(x)\n",
    "        print('marks are',self.marks)\n",
    "    def college(cls):                           \n",
    "        print('my college name is',cls.cname)\n",
    "        \n",
    "s=student()\n",
    "s.exec()\n",
    "s.college()"
   ]
  },
  {
   "cell_type": "code",
   "execution_count": 26,
   "metadata": {},
   "outputs": [
    {
     "name": "stdout",
     "output_type": "stream",
     "text": [
      "my name is mahesh\n",
      "my id is 20\n",
      "my name is naresh\n",
      "my id is 30\n",
      "my name is vikas\n",
      "my id is 40\n",
      "{'name': 'vikas', 'id': 40}\n"
     ]
    }
   ],
   "source": [
    "class student:\n",
    "    cname='mlec college'                             \n",
    "    def __init__(self,name,id):                \n",
    "        self.name=name                      \n",
    "        self.id=id\n",
    "        \n",
    "    def exec(self):                           \n",
    "        print('my name is',self.name)\n",
    "        print('my id is',self.id)\n",
    "    def college(cls):                           \n",
    "        print('my college name is',cls.cname)\n",
    "        \n",
    "s=student('vikas',40)\n",
    "s1=student('mahesh',20)\n",
    "s2=student('naresh',30)\n",
    "s1.exec()\n",
    "s2.exec()\n",
    "s.exec()\n",
    "print(s.__dict__)"
   ]
  },
  {
   "cell_type": "code",
   "execution_count": 35,
   "metadata": {},
   "outputs": [
    {
     "name": "stdout",
     "output_type": "stream",
     "text": [
      "my name is vikas\n",
      "my id is 30\n"
     ]
    }
   ],
   "source": [
    "class student:\n",
    "    def __init__(self,name,id):\n",
    "        self.name=name\n",
    "        self.id=id\n",
    "    def exec(self):\n",
    "        print('my name is',self.name)\n",
    "        print('my id is',self.id)\n",
    "    \n",
    "s=student('vikas',30)\n",
    "s.age=20\n",
    "s.exec()"
   ]
  },
  {
   "cell_type": "code",
   "execution_count": 1,
   "metadata": {},
   "outputs": [
    {
     "name": "stdout",
     "output_type": "stream",
     "text": [
      "vikas\n",
      "20\n",
      "45\n",
      "vikas\n",
      "20\n",
      "60\n"
     ]
    }
   ],
   "source": [
    "class customer:\n",
    "    def __init__(self):\n",
    "        self.name='vikas'\n",
    "        self.id=20\n",
    "        self.gender='male'\n",
    "        \n",
    "    def m1(self):\n",
    "        self.marks=45\n",
    "        print(self.name)\n",
    "        print(self.id)\n",
    "        print(self.marks)\n",
    "    def m2(self):\n",
    "        self.marks=60\n",
    "        print(self.name)\n",
    "        print(self.id)\n",
    "        print(self.marks)\n",
    "s=customer()\n",
    "s.m1()\n",
    "s.m2()"
   ]
  },
  {
   "cell_type": "code",
   "execution_count": 50,
   "metadata": {},
   "outputs": [],
   "source": [
    "class customer:\n",
    "    def __init__(self):\n",
    "        self.name='vikas'\n",
    "        self.id=20\n",
    "        self.gender='male'\n",
    "        \n",
    "    def delete(self):\n",
    "        del self.name\n",
    "        del self.id\n",
    "        \n",
    "s=customer()\n",
    "s.delete()"
   ]
  },
  {
   "cell_type": "code",
   "execution_count": 53,
   "metadata": {},
   "outputs": [
    {
     "name": "stdout",
     "output_type": "stream",
     "text": [
      "100 200\n",
      "10 20\n"
     ]
    }
   ],
   "source": [
    "class test:\n",
    "    def __init__(self):\n",
    "        self.a=10\n",
    "        self.b=20\n",
    "        \n",
    "s1=test()\n",
    "s2=test()\n",
    "s1.a=100\n",
    "s1.b=200\n",
    "print(s1.a,s1.b)\n",
    "print(s2.a,s2.b)"
   ]
  },
  {
   "cell_type": "markdown",
   "metadata": {},
   "source": [
    "# static variables"
   ]
  },
  {
   "cell_type": "code",
   "execution_count": 56,
   "metadata": {},
   "outputs": [
    {
     "name": "stdout",
     "output_type": "stream",
     "text": [
      "vikas 30 section-A\n",
      "vikas 30 section-A\n"
     ]
    }
   ],
   "source": [
    "class student:\n",
    "    cname='section-A'               # static variables are used\n",
    "    def __init__(self,name,id):\n",
    "        self.name=name\n",
    "        self.id=id\n",
    "        \n",
    "s1=student('vikas',30)\n",
    "print(s1.name,s1.id,s1.cname)\n",
    "print(s1.name,s1.id,student.cname)       # we can call it for two times"
   ]
  },
  {
   "cell_type": "code",
   "execution_count": 66,
   "metadata": {},
   "outputs": [
    {
     "name": "stdout",
     "output_type": "stream",
     "text": [
      "my name is naresh\n",
      "my id is 90\n",
      "my friend name is vikas\n",
      "my gender is male\n",
      "my b.tech percentage is 97\n",
      "my age is 27\n"
     ]
    }
   ],
   "source": [
    "class student:\n",
    "    cname='vikas'                # calling static variable within class\n",
    "    def __init__(self):\n",
    "        self.id=90\n",
    "        self.name='naresh'\n",
    "        student.percentage=97            # declaring static variable within a sample method\n",
    "    def s1(self):\n",
    "        student.age=27\n",
    "        print('my name is',self.name)\n",
    "        print('my id is',self.id)\n",
    "        print('my friend name is',student.cname)\n",
    "        print('my gender is',student.gender)\n",
    "        print('my b.tech percentage is',student.percentage)\n",
    "        print('my age is',student.age)                          # declaring static variable within a method\n",
    "        \n",
    "s=student()\n",
    "student.gender='male'                     # declaring static variable fro object\n",
    "s.s1()"
   ]
  },
  {
   "cell_type": "code",
   "execution_count": 72,
   "metadata": {},
   "outputs": [
    {
     "name": "stdout",
     "output_type": "stream",
     "text": [
      "Inside a constructor\n",
      "10\n",
      "10\n",
      "10\n",
      "inside a method\n",
      "10\n",
      "10\n",
      "None\n"
     ]
    }
   ],
   "source": [
    "class student:\n",
    "    n=10\n",
    "    def __init__(self):\n",
    "        print('Inside a constructor')\n",
    "        print(self.n)\n",
    "        print(student.n)\n",
    "        \n",
    "    def m1(self):\n",
    "        print('inside a method')\n",
    "        print(self.n)\n",
    "        print(student.n)\n",
    "        \n",
    "s=student()\n",
    "print(student.n)\n",
    "print(s.m1())"
   ]
  },
  {
   "cell_type": "code",
   "execution_count": 99,
   "metadata": {},
   "outputs": [
    {
     "name": "stdout",
     "output_type": "stream",
     "text": [
      "20\n",
      "None\n"
     ]
    }
   ],
   "source": [
    "class student:\n",
    "    a=10\n",
    "    def __init__(self):\n",
    "        self.a=20                   # modifying static variable in a constructor\n",
    "    def m1(self):\n",
    "        student.a=30\n",
    "s=student()\n",
    "print(s.a)\n",
    "student.a=60\n",
    "print(s.m1())"
   ]
  },
  {
   "cell_type": "code",
   "execution_count": 104,
   "metadata": {},
   "outputs": [
    {
     "ename": "AttributeError",
     "evalue": "'student' object has no attribute 'a'",
     "output_type": "error",
     "traceback": [
      "\u001b[1;31m---------------------------------------------------------------------------\u001b[0m",
      "\u001b[1;31mAttributeError\u001b[0m                            Traceback (most recent call last)",
      "\u001b[1;32m<ipython-input-104-7e9abfa8b70c>\u001b[0m in \u001b[0;36m<module>\u001b[1;34m\u001b[0m\n\u001b[0;32m      4\u001b[0m         \u001b[1;32mdel\u001b[0m \u001b[0mstudent\u001b[0m\u001b[1;33m.\u001b[0m\u001b[0ma\u001b[0m\u001b[1;33m\u001b[0m\u001b[1;33m\u001b[0m\u001b[0m\n\u001b[0;32m      5\u001b[0m \u001b[0ms\u001b[0m\u001b[1;33m=\u001b[0m\u001b[0mstudent\u001b[0m\u001b[1;33m(\u001b[0m\u001b[1;33m)\u001b[0m\u001b[1;33m\u001b[0m\u001b[1;33m\u001b[0m\u001b[0m\n\u001b[1;32m----> 6\u001b[1;33m \u001b[0mprint\u001b[0m\u001b[1;33m(\u001b[0m\u001b[0ms\u001b[0m\u001b[1;33m.\u001b[0m\u001b[0ma\u001b[0m\u001b[1;33m)\u001b[0m\u001b[1;33m\u001b[0m\u001b[1;33m\u001b[0m\u001b[0m\n\u001b[0m",
      "\u001b[1;31mAttributeError\u001b[0m: 'student' object has no attribute 'a'"
     ]
    }
   ],
   "source": [
    "class student:\n",
    "    a=10\n",
    "    def __init__(self):\n",
    "        del student.a\n",
    "s=student()\n",
    "print(s.a)"
   ]
  },
  {
   "cell_type": "markdown",
   "metadata": {},
   "source": [
    "# calculationg no of objects"
   ]
  },
  {
   "cell_type": "code",
   "execution_count": 2,
   "metadata": {},
   "outputs": [
    {
     "name": "stdout",
     "output_type": "stream",
     "text": [
      "no of objects are 3\n",
      "None\n"
     ]
    }
   ],
   "source": [
    "class student:\n",
    "    count=0\n",
    "    def __init__(self):\n",
    "        student.count=student.count+1\n",
    "    @classmethod   \n",
    "    def getnoofobjects(cls):\n",
    "        print('no of objects are',cls.count)\n",
    "        \n",
    "s=student()\n",
    "s1=student()\n",
    "s2=student()\n",
    "print(s.getnoofobjects())"
   ]
  },
  {
   "cell_type": "code",
   "execution_count": null,
   "metadata": {},
   "outputs": [],
   "source": []
  },
  {
   "cell_type": "code",
   "execution_count": null,
   "metadata": {},
   "outputs": [],
   "source": []
  },
  {
   "cell_type": "code",
   "execution_count": null,
   "metadata": {},
   "outputs": [],
   "source": []
  }
 ],
 "metadata": {
  "kernelspec": {
   "display_name": "Python 3",
   "language": "python",
   "name": "python3"
  },
  "language_info": {
   "codemirror_mode": {
    "name": "ipython",
    "version": 3
   },
   "file_extension": ".py",
   "mimetype": "text/x-python",
   "name": "python",
   "nbconvert_exporter": "python",
   "pygments_lexer": "ipython3",
   "version": "3.7.4"
  }
 },
 "nbformat": 4,
 "nbformat_minor": 2
}
