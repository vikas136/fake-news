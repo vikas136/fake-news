{
 "cells": [
  {
   "cell_type": "markdown",
   "metadata": {},
   "source": [
    "# Operator overloading"
   ]
  },
  {
   "cell_type": "code",
   "execution_count": 3,
   "metadata": {},
   "outputs": [
    {
     "name": "stdout",
     "output_type": "stream",
     "text": [
      "300\n"
     ]
    }
   ],
   "source": [
    "class student:\n",
    "    def __init__(self,value):\n",
    "        self.value=value\n",
    "    def __add__(self,other):\n",
    "        return self.value+other.value\n",
    "        \n",
    "b1=student(100)\n",
    "b2=student(200)\n",
    "print(b1+b2)"
   ]
  },
  {
   "cell_type": "code",
   "execution_count": 21,
   "metadata": {},
   "outputs": [
    {
     "ename": "TypeError",
     "evalue": "unsupported operand type(s) for +: 'int' and 'student'",
     "output_type": "error",
     "traceback": [
      "\u001b[1;31m---------------------------------------------------------------------------\u001b[0m",
      "\u001b[1;31mTypeError\u001b[0m                                 Traceback (most recent call last)",
      "\u001b[1;32m<ipython-input-21-1a0d3fdf65e3>\u001b[0m in \u001b[0;36m<module>\u001b[1;34m\u001b[0m\n\u001b[0;32m      8\u001b[0m \u001b[0mb2\u001b[0m\u001b[1;33m=\u001b[0m\u001b[0mstudent\u001b[0m\u001b[1;33m(\u001b[0m\u001b[1;36m200\u001b[0m\u001b[1;33m)\u001b[0m\u001b[1;33m\u001b[0m\u001b[1;33m\u001b[0m\u001b[0m\n\u001b[0;32m      9\u001b[0m \u001b[0mb3\u001b[0m\u001b[1;33m=\u001b[0m\u001b[0mstudent\u001b[0m\u001b[1;33m(\u001b[0m\u001b[1;36m300\u001b[0m\u001b[1;33m)\u001b[0m\u001b[1;33m\u001b[0m\u001b[1;33m\u001b[0m\u001b[0m\n\u001b[1;32m---> 10\u001b[1;33m \u001b[0mprint\u001b[0m\u001b[1;33m(\u001b[0m\u001b[0mb1\u001b[0m\u001b[1;33m+\u001b[0m\u001b[0mb2\u001b[0m\u001b[1;33m+\u001b[0m\u001b[0mb3\u001b[0m\u001b[1;33m)\u001b[0m\u001b[1;33m\u001b[0m\u001b[1;33m\u001b[0m\u001b[0m\n\u001b[0m",
      "\u001b[1;31mTypeError\u001b[0m: unsupported operand type(s) for +: 'int' and 'student'"
     ]
    }
   ],
   "source": [
    "class student:\n",
    "    def __init__(self,value):\n",
    "        self.value=value\n",
    "    def __add__(self,other):\n",
    "        return self.value+other.value\n",
    "        \n",
    "b1=student(100)\n",
    "b2=student(200)\n",
    "b3=student(300)\n",
    "print(b1+b2+b3)    # it throws error because b1+b2 takes as int and b3 as book to rectify this problem follow down"
   ]
  },
  {
   "cell_type": "code",
   "execution_count": 27,
   "metadata": {},
   "outputs": [
    {
     "name": "stdout",
     "output_type": "stream",
     "text": [
      "<__main__.student object at 0x0000018FCF5FE048>\n"
     ]
    }
   ],
   "source": [
    "class student:\n",
    "    def __init__(self,value):\n",
    "        self.value=value\n",
    "    def __add__(self,other):\n",
    "        total=self.value+other.value\n",
    "        b=student(total)\n",
    "        return b\n",
    "            \n",
    "        \n",
    "                         # code is currect but we have to look into the problem\n",
    "        \n",
    "b1=student(100)\n",
    "b2=student(200)\n",
    "b3=student(300)\n",
    "print(b1+b2+b3)"
   ]
  },
  {
   "cell_type": "code",
   "execution_count": 31,
   "metadata": {},
   "outputs": [
    {
     "ename": "TypeError",
     "evalue": "unsupported operand type(s) for +: 'student' and 'student'",
     "output_type": "error",
     "traceback": [
      "\u001b[1;31m---------------------------------------------------------------------------\u001b[0m",
      "\u001b[1;31mTypeError\u001b[0m                                 Traceback (most recent call last)",
      "\u001b[1;32m<ipython-input-31-d64bd0caa76e>\u001b[0m in \u001b[0;36m<module>\u001b[1;34m\u001b[0m\n\u001b[0;32m     14\u001b[0m \u001b[0mb3\u001b[0m\u001b[1;33m=\u001b[0m\u001b[0mstudent\u001b[0m\u001b[1;33m(\u001b[0m\u001b[1;36m300\u001b[0m\u001b[1;33m)\u001b[0m\u001b[1;33m\u001b[0m\u001b[1;33m\u001b[0m\u001b[0m\n\u001b[0;32m     15\u001b[0m \u001b[0mb4\u001b[0m\u001b[1;33m=\u001b[0m\u001b[0mstudent\u001b[0m\u001b[1;33m(\u001b[0m\u001b[1;36m400\u001b[0m\u001b[1;33m)\u001b[0m\u001b[1;33m\u001b[0m\u001b[1;33m\u001b[0m\u001b[0m\n\u001b[1;32m---> 16\u001b[1;33m \u001b[0mprint\u001b[0m\u001b[1;33m(\u001b[0m\u001b[0mb1\u001b[0m\u001b[1;33m*\u001b[0m\u001b[0mb2\u001b[0m\u001b[1;33m+\u001b[0m\u001b[0mb3\u001b[0m\u001b[1;33m*\u001b[0m\u001b[0mb4\u001b[0m\u001b[1;33m)\u001b[0m\u001b[1;33m\u001b[0m\u001b[1;33m\u001b[0m\u001b[0m\n\u001b[0m",
      "\u001b[1;31mTypeError\u001b[0m: unsupported operand type(s) for +: 'student' and 'student'"
     ]
    }
   ],
   "source": [
    "class student:\n",
    "    def __init__(self,value):\n",
    "        self.value=value\n",
    "    def __mul__(self,other):\n",
    "        total=self.value*other.value\n",
    "        b=student(total)\n",
    "        return b\n",
    "            \n",
    "        \n",
    "                         # code is currect but we have to look into the problem\n",
    "        \n",
    "b1=student(100)\n",
    "b2=student(200)\n",
    "b3=student(300)\n",
    "b4=student(400)\n",
    "print(b1*b2+b3*b4)"
   ]
  },
  {
   "cell_type": "code",
   "execution_count": 8,
   "metadata": {},
   "outputs": [
    {
     "name": "stdout",
     "output_type": "stream",
     "text": [
      "700\n",
      "300\n",
      "100000\n"
     ]
    }
   ],
   "source": [
    "class student:\n",
    "    def __init__(self,value):\n",
    "        self.value=value\n",
    "    def __add__(self,other):\n",
    "        return self.value+other.value\n",
    "    def __sub__(self,other):\n",
    "        return self.value-other.value\n",
    "    def __mul__(self,other):\n",
    "        return self.value*other.value\n",
    "\n",
    "        \n",
    "b1=student(500)\n",
    "b2=student(200)\n",
    "print(b1+b2)\n",
    "print(b1-b2)\n",
    "print(b1*b2)"
   ]
  },
  {
   "cell_type": "code",
   "execution_count": 20,
   "metadata": {},
   "outputs": [
    {
     "name": "stdout",
     "output_type": "stream",
     "text": [
      "vikas yetintala\n"
     ]
    }
   ],
   "source": [
    "class student:\n",
    "    def __init__(self,value):\n",
    "        self.value=value\n",
    "    def __add__(self,other):\n",
    "        return self.value+other.value\n",
    "     \n",
    "b1=student('vikas')\n",
    "b2=student(' yetintala')\n",
    "print(b1+b2)"
   ]
  },
  {
   "cell_type": "code",
   "execution_count": 18,
   "metadata": {},
   "outputs": [
    {
     "name": "stdout",
     "output_type": "stream",
     "text": [
      "my marks are: 100\n"
     ]
    }
   ],
   "source": [
    "class student:\n",
    "    def __init__(self,value):\n",
    "        self.value=value\n",
    "    def __str__(self):\n",
    "        return 'my marks are: '+ str(self.value)\n",
    "        \n",
    "b1=student(100)\n",
    "print(b1)"
   ]
  },
  {
   "cell_type": "code",
   "execution_count": 36,
   "metadata": {},
   "outputs": [
    {
     "name": "stdout",
     "output_type": "stream",
     "text": [
      "True\n",
      "False\n"
     ]
    }
   ],
   "source": [
    "class student:\n",
    "    def __init__(self,marks):\n",
    "\n",
    "        self.marks=marks\n",
    "        \n",
    "    def __lt__(self,other):\n",
    "        return self.marks<other.marks\n",
    "    def __gt__(self,other):\n",
    "        return self.marks>other.marks\n",
    "        \n",
    "b1=student(200)\n",
    "b2=student(300)\n",
    "print(b1<b2)\n",
    "print(b1>b2)"
   ]
  },
  {
   "cell_type": "markdown",
   "metadata": {},
   "source": [
    "# Time series"
   ]
  },
  {
   "cell_type": "code",
   "execution_count": 37,
   "metadata": {},
   "outputs": [
    {
     "name": "stdout",
     "output_type": "stream",
     "text": [
      "total amount is: 60000\n"
     ]
    }
   ],
   "source": [
    "class employee:\n",
    "    def __init__(self,ename,esal):\n",
    "        self.ename=ename\n",
    "        self.esal=esal\n",
    "    def __mul__(self,other):\n",
    "        return self.esal*other.ndays\n",
    "    \n",
    "class days:\n",
    "    def __init__(self,ndays):\n",
    "        self.ndays=ndays\n",
    "        \n",
    "e=employee('vikas',2000)\n",
    "t=days(30)\n",
    "print('total amount is:',e*t)"
   ]
  },
  {
   "cell_type": "code",
   "execution_count": 39,
   "metadata": {},
   "outputs": [
    {
     "name": "stdout",
     "output_type": "stream",
     "text": [
      "total amount is: 60000\n",
      "total amount is: 60000\n"
     ]
    }
   ],
   "source": [
    "class employee:\n",
    "    def __init__(self,ename,esal):\n",
    "        self.ename=ename\n",
    "        self.esal=esal\n",
    "    def __mul__(self,other):\n",
    "        return self.esal*other.ndays\n",
    "    \n",
    "class days:\n",
    "    def __init__(self,ndays):\n",
    "        self.ndays=ndays\n",
    "        \n",
    "    def __mul__(self,other):\n",
    "        return self.ndays*other.esal\n",
    "e=employee('vikas',2000)\n",
    "t=days(30)\n",
    "print('total amount is:',e*t)\n",
    "print('total amount is:',t*e)"
   ]
  },
  {
   "cell_type": "markdown",
   "metadata": {},
   "source": [
    "# Default argument"
   ]
  },
  {
   "cell_type": "code",
   "execution_count": 44,
   "metadata": {},
   "outputs": [
    {
     "name": "stdout",
     "output_type": "stream",
     "text": [
      "the sum of three values are 60\n",
      "sum of two values are: 30\n",
      "please provide 2 and 3 values\n"
     ]
    }
   ],
   "source": [
    "class test:\n",
    "    def m1(self,a=None,b=None,c=None):\n",
    "        if a!=None and b!=None and c!=None:\n",
    "            print('the sum of three values are',a+b+c)\n",
    "        elif a!=None and b!=None:\n",
    "            print('sum of two values are:',a+b)\n",
    "        else:\n",
    "            print('please provide 2 and 3 values')\n",
    "            \n",
    "t=test()\n",
    "t.m1(10,20,30)\n",
    "t.m1(10,20)\n",
    "t.m1(10)"
   ]
  },
  {
   "cell_type": "code",
   "execution_count": 9,
   "metadata": {},
   "outputs": [
    {
     "name": "stdout",
     "output_type": "stream",
     "text": [
      "it will n number of arguments\n",
      "it will n number of arguments\n",
      "it will n number of arguments\n"
     ]
    }
   ],
   "source": [
    "class number:\n",
    "    def __init__(self,a=None,b=None,c=None):\n",
    "        print('it will n number of arguments')\n",
    "        \n",
    "k=number(10)\n",
    "k1=number(10,20)\n",
    "k2=number(10,20,30)"
   ]
  },
  {
   "cell_type": "code",
   "execution_count": 2,
   "metadata": {},
   "outputs": [
    {
     "ename": "TypeError",
     "evalue": "m1() missing 1 required positional argument: 'b'",
     "output_type": "error",
     "traceback": [
      "\u001b[1;31m---------------------------------------------------------------------------\u001b[0m",
      "\u001b[1;31mTypeError\u001b[0m                                 Traceback (most recent call last)",
      "\u001b[1;32m<ipython-input-2-9d70ffdecb8f>\u001b[0m in \u001b[0;36m<module>\u001b[1;34m\u001b[0m\n\u001b[0;32m     10\u001b[0m \u001b[1;33m\u001b[0m\u001b[0m\n\u001b[0;32m     11\u001b[0m \u001b[0mk\u001b[0m\u001b[1;33m=\u001b[0m\u001b[0mname\u001b[0m\u001b[1;33m(\u001b[0m\u001b[1;33m)\u001b[0m\u001b[1;33m\u001b[0m\u001b[1;33m\u001b[0m\u001b[0m\n\u001b[1;32m---> 12\u001b[1;33m \u001b[0mk\u001b[0m\u001b[1;33m.\u001b[0m\u001b[0mm1\u001b[0m\u001b[1;33m(\u001b[0m\u001b[1;36m20\u001b[0m\u001b[1;33m)\u001b[0m\u001b[1;33m\u001b[0m\u001b[1;33m\u001b[0m\u001b[0m\n\u001b[0m",
      "\u001b[1;31mTypeError\u001b[0m: m1() missing 1 required positional argument: 'b'"
     ]
    }
   ],
   "source": [
    "class name:\n",
    "    def m1(self):\n",
    "        print('vikas')\n",
    "        \n",
    "    def m1(self,a):\n",
    "        print('yetintala')\n",
    "        \n",
    "    def m1(self,a,b):\n",
    "        print('vikas yetintala')                        # it gives an error multiple methods but same name it doent support\n",
    "        \n",
    "k=name()\n",
    "k.m1(20)"
   ]
  },
  {
   "cell_type": "code",
   "execution_count": 12,
   "metadata": {},
   "outputs": [
    {
     "name": "stdout",
     "output_type": "stream",
     "text": [
      "vikas yetintala\n"
     ]
    }
   ],
   "source": [
    "class name:\n",
    "    def m1(self):\n",
    "        print('vikas')\n",
    "        \n",
    "    def m1(self,a):\n",
    "        print('yetintala')\n",
    "        \n",
    "    def m1(self,a,b):\n",
    "        print('vikas yetintala')                        # it considers last method thats why method overloading is not suppported\n",
    "        \n",
    "k=name()\n",
    "k.m1(20,30)"
   ]
  },
  {
   "cell_type": "code",
   "execution_count": 4,
   "metadata": {},
   "outputs": [
    {
     "ename": "TypeError",
     "evalue": "__init__() missing 2 required positional arguments: 'a' and 'b'",
     "output_type": "error",
     "traceback": [
      "\u001b[1;31m---------------------------------------------------------------------------\u001b[0m",
      "\u001b[1;31mTypeError\u001b[0m                                 Traceback (most recent call last)",
      "\u001b[1;32m<ipython-input-4-2bb2c7fc048e>\u001b[0m in \u001b[0;36m<module>\u001b[1;34m\u001b[0m\n\u001b[0;32m      9\u001b[0m         \u001b[0mprint\u001b[0m\u001b[1;33m(\u001b[0m\u001b[1;34m'vikas yetintala'\u001b[0m\u001b[1;33m)\u001b[0m                        \u001b[1;31m# it gives an error multiple methods but same name it doent support\u001b[0m\u001b[1;33m\u001b[0m\u001b[1;33m\u001b[0m\u001b[0m\n\u001b[0;32m     10\u001b[0m \u001b[1;33m\u001b[0m\u001b[0m\n\u001b[1;32m---> 11\u001b[1;33m \u001b[0mname\u001b[0m\u001b[1;33m(\u001b[0m\u001b[1;33m)\u001b[0m\u001b[1;33m\u001b[0m\u001b[1;33m\u001b[0m\u001b[0m\n\u001b[0m",
      "\u001b[1;31mTypeError\u001b[0m: __init__() missing 2 required positional arguments: 'a' and 'b'"
     ]
    }
   ],
   "source": [
    "class name:\n",
    "    def __init__(self):\n",
    "        print('vikas')\n",
    "        \n",
    "    def __init__(self,a):\n",
    "        print('yetintala')\n",
    "        \n",
    "    def __init__(self,a,b):\n",
    "        print('vikas yetintala')                        # constructor overloading is also not supported\n",
    "        \n",
    "name()\n"
   ]
  },
  {
   "cell_type": "code",
   "execution_count": 8,
   "metadata": {},
   "outputs": [
    {
     "name": "stdout",
     "output_type": "stream",
     "text": [
      "50\n",
      "600\n"
     ]
    }
   ],
   "source": [
    "class name:\n",
    "    def __init__(self,value):\n",
    "        self.value=value\n",
    "    def __add__(self,other):\n",
    "        return self.value+other.value\n",
    "    def __sub__(self):\n",
    "        return self.value-other.value\n",
    "    def __mul__(self,other):\n",
    "        return self.value*other.value\n",
    "    \n",
    "k=name(30)\n",
    "k1=name(20)\n",
    "print(k+k1)\n",
    "print(k*k1)"
   ]
  }
 ],
 "metadata": {
  "kernelspec": {
   "display_name": "Python 3",
   "language": "python",
   "name": "python3"
  },
  "language_info": {
   "codemirror_mode": {
    "name": "ipython",
    "version": 3
   },
   "file_extension": ".py",
   "mimetype": "text/x-python",
   "name": "python",
   "nbconvert_exporter": "python",
   "pygments_lexer": "ipython3",
   "version": "3.7.4"
  }
 },
 "nbformat": 4,
 "nbformat_minor": 2
}
