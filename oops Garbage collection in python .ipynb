{
 "cells": [
  {
   "cell_type": "code",
   "execution_count": 1,
   "metadata": {},
   "outputs": [],
   "source": [
    "import gc"
   ]
  },
  {
   "cell_type": "code",
   "execution_count": 2,
   "metadata": {},
   "outputs": [
    {
     "name": "stdout",
     "output_type": "stream",
     "text": [
      "True\n"
     ]
    }
   ],
   "source": [
    "print(gc.isenabled())"
   ]
  },
  {
   "cell_type": "code",
   "execution_count": 3,
   "metadata": {},
   "outputs": [],
   "source": [
    "gc.disable()"
   ]
  },
  {
   "cell_type": "code",
   "execution_count": 4,
   "metadata": {},
   "outputs": [
    {
     "name": "stdout",
     "output_type": "stream",
     "text": [
      "False\n"
     ]
    }
   ],
   "source": [
    "print(gc.isenabled())"
   ]
  },
  {
   "cell_type": "code",
   "execution_count": 5,
   "metadata": {},
   "outputs": [],
   "source": [
    "gc.enable()"
   ]
  },
  {
   "cell_type": "code",
   "execution_count": 6,
   "metadata": {},
   "outputs": [
    {
     "name": "stdout",
     "output_type": "stream",
     "text": [
      "True\n"
     ]
    }
   ],
   "source": [
    "print(gc.isenabled())"
   ]
  },
  {
   "cell_type": "code",
   "execution_count": null,
   "metadata": {},
   "outputs": [],
   "source": []
  },
  {
   "cell_type": "code",
   "execution_count": 8,
   "metadata": {},
   "outputs": [
    {
     "name": "stdout",
     "output_type": "stream",
     "text": [
      "object initialisation...\n",
      "end of application\n"
     ]
    }
   ],
   "source": [
    "import time\n",
    "class test:\n",
    "    def __init__(self):\n",
    "        print('object initialisation...')\n",
    "        \n",
    "    def __del__(self):\n",
    "        print('fulfilling last wish and performing cleanup activities')\n",
    "        \n",
    "t1=test()                         # here the process is incomplete because t1 is still initialise t1 it has something\n",
    "time.sleep(10)\n",
    "print('end of application')"
   ]
  },
  {
   "cell_type": "code",
   "execution_count": 11,
   "metadata": {},
   "outputs": [
    {
     "name": "stdout",
     "output_type": "stream",
     "text": [
      "object initialisation...\n",
      "fulfilling last wish and performing cleanup activities\n",
      "fulfilling last wish and performing cleanup activities\n",
      "end of application\n"
     ]
    }
   ],
   "source": [
    "import time\n",
    "class test:\n",
    "    def __init__(self):\n",
    "        print('object initialisation...')\n",
    "        \n",
    "    def __del__(self):\n",
    "        print('fulfilling last wish and performing cleanup activities')\n",
    "        \n",
    "t1=test()\n",
    "t1=None          # now assigning t1 as none then it completes the process detruvtor is going to destroy object\n",
    "time.sleep(10)\n",
    "print('end of application')"
   ]
  },
  {
   "cell_type": "markdown",
   "metadata": {},
   "source": [
    "# finding no of referances"
   ]
  },
  {
   "cell_type": "code",
   "execution_count": 15,
   "metadata": {},
   "outputs": [
    {
     "name": "stdout",
     "output_type": "stream",
     "text": [
      "object initialisation...\n",
      "4\n"
     ]
    }
   ],
   "source": [
    "import sys\n",
    "class test:\n",
    "    def __init__(self):\n",
    "        print('object initialisation...')\n",
    "        \n",
    "t1=test()\n",
    "t2=t1\n",
    "t3=t2\n",
    "print(sys.getrefcount(t1))"
   ]
  },
  {
   "cell_type": "code",
   "execution_count": null,
   "metadata": {},
   "outputs": [],
   "source": []
  },
  {
   "cell_type": "code",
   "execution_count": null,
   "metadata": {},
   "outputs": [],
   "source": []
  },
  {
   "cell_type": "code",
   "execution_count": null,
   "metadata": {},
   "outputs": [],
   "source": []
  }
 ],
 "metadata": {
  "kernelspec": {
   "display_name": "Python 3",
   "language": "python",
   "name": "python3"
  },
  "language_info": {
   "codemirror_mode": {
    "name": "ipython",
    "version": 3
   },
   "file_extension": ".py",
   "mimetype": "text/x-python",
   "name": "python",
   "nbconvert_exporter": "python",
   "pygments_lexer": "ipython3",
   "version": "3.7.4"
  }
 },
 "nbformat": 4,
 "nbformat_minor": 2
}
