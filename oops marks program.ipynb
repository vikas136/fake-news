{
 "cells": [
  {
   "cell_type": "code",
   "execution_count": 5,
   "metadata": {},
   "outputs": [
    {
     "name": "stdout",
     "output_type": "stream",
     "text": [
      "he is failed\n",
      "None\n"
     ]
    }
   ],
   "source": [
    "class student:\n",
    "    def __init__(self,name,marks):\n",
    "        self.marks=marks\n",
    "        self.name=name\n",
    "    def display(self):\n",
    "        print('my name is:',self.name)\n",
    "    def per(self):\n",
    "        if self.marks>=75:\n",
    "            print('first class')\n",
    "        elif self.marks>=60:\n",
    "            print('second class')\n",
    "        elif self.marks>=50:\n",
    "            print('third class')\n",
    "        elif self.marks>=35:\n",
    "            print('distinction')\n",
    "        else:\n",
    "            print('he is failed')\n",
    "            \n",
    "s=student('vikas',25)\n",
    "print(s.per())           "
   ]
  },
  {
   "cell_type": "code",
   "execution_count": 8,
   "metadata": {},
   "outputs": [
    {
     "name": "stdout",
     "output_type": "stream",
     "text": [
      "my name is: vikas\n",
      "None\n",
      "distinction\n",
      "None\n"
     ]
    }
   ],
   "source": [
    "class student:\n",
    "    marks=45\n",
    "    name='vikas'\n",
    "    \n",
    "    def display(cls):\n",
    "        print('my name is:',cls.name)\n",
    "    def per(cls):\n",
    "        if cls.marks>=75:\n",
    "            print('first class')\n",
    "        elif cls.marks>=60:\n",
    "            print('second class')\n",
    "        elif cls.marks>=50:\n",
    "            print('third class')\n",
    "        elif cls.marks>=35:\n",
    "            print('distinction')\n",
    "        else:\n",
    "            print('he is failed')\n",
    "            \n",
    "s=student()\n",
    "print(s.display())\n",
    "print(s.per())"
   ]
  },
  {
   "cell_type": "code",
   "execution_count": 13,
   "metadata": {},
   "outputs": [
    {
     "name": "stdout",
     "output_type": "stream",
     "text": [
      "my name is: vikas\n",
      "None\n",
      "first class\n",
      "None\n"
     ]
    }
   ],
   "source": [
    "class student:\n",
    "    \n",
    "    name='vikas'\n",
    "    \n",
    "    def display(cls):\n",
    "        print('my name is:',cls.name)\n",
    "    def per(self):\n",
    "        marks=78\n",
    "        if marks>=75:\n",
    "            print('first class')\n",
    "        elif marks>=60:\n",
    "            print('second class')\n",
    "        elif marks>=50:\n",
    "            print('third class')\n",
    "        elif marks>=35:\n",
    "            print('distinction')\n",
    "        else:\n",
    "            print('he is failed')\n",
    "            \n",
    "s=student()\n",
    "print(s.display())\n",
    "\n",
    "print(s.per())"
   ]
  },
  {
   "cell_type": "code",
   "execution_count": 14,
   "metadata": {},
   "outputs": [
    {
     "name": "stdout",
     "output_type": "stream",
     "text": [
      "enter the number of students3\n",
      "enter the namevikas\n",
      "enter the marks75\n",
      "my name is: vikas\n",
      "first class\n",
      "********************\n",
      "enter the namemahesh\n",
      "enter the marks83\n",
      "my name is: mahesh\n",
      "first class\n",
      "********************\n",
      "enter the nameswathi\n",
      "enter the marks34\n",
      "my name is: swathi\n",
      "he is failed\n",
      "********************\n"
     ]
    }
   ],
   "source": [
    "class student:\n",
    "    def __init__(self,name,marks):\n",
    "        self.marks=marks\n",
    "        self.name=name\n",
    "    def display(self):\n",
    "        print('my name is:',self.name)\n",
    "    def per(self):\n",
    "        if self.marks>=75:\n",
    "            print('first class')\n",
    "        elif self.marks>=60:\n",
    "            print('second class')\n",
    "        elif self.marks>=50:\n",
    "            print('third class')\n",
    "        elif self.marks>=35:\n",
    "            print('distinction')\n",
    "        else:\n",
    "            print('he is failed')\n",
    "            \n",
    "n=int(input('enter the number of students'))\n",
    "for i in range(n):\n",
    "    name=input('enter the name')\n",
    "    marks=int(input('enter the marks'))\n",
    "    s=student(name,marks)\n",
    "    s.display()\n",
    "    s.per()\n",
    "    print('*'*20)"
   ]
  },
  {
   "cell_type": "code",
   "execution_count": 16,
   "metadata": {},
   "outputs": [
    {
     "name": "stdout",
     "output_type": "stream",
     "text": [
      "enter the number of students3\n",
      "enter the namevikas\n",
      "enter the marks36\n",
      "distinction\n",
      "********************\n",
      "enter the nameswathi\n",
      "enter the marks65\n",
      "second class\n",
      "********************\n",
      "enter the namesuvarna\n",
      "enter the marks76\n",
      "first class\n",
      "********************\n"
     ]
    }
   ],
   "source": [
    "class student:\n",
    "    \n",
    "    def setname(self,name):\n",
    "        self.name=name\n",
    "    def setmarks(self,marks):\n",
    "        self.marks=marks\n",
    "    def getname(self):\n",
    "        return name\n",
    "    def getmarks(self):\n",
    "        return marks\n",
    "  \n",
    "\n",
    "\n",
    "\n",
    "    def per(self):\n",
    "        if self.marks>=75:\n",
    "            print('first class')\n",
    "        elif self.marks>=60:\n",
    "            print('second class')\n",
    "        elif self.marks>=50:\n",
    "            print('third class')\n",
    "        elif self.marks>=35:\n",
    "            print('distinction')\n",
    "        else:\n",
    "            print('he is failed')\n",
    "            \n",
    "n=int(input('enter the number of students'))\n",
    "for i in range(n):\n",
    "    name=input('enter the name')\n",
    "    marks=int(input('enter the marks'))\n",
    "    s=student()\n",
    "    s.setname(name)\n",
    "    s.setmarks(marks)\n",
    "    \n",
    "    s.per()\n",
    "    print('*'*20)"
   ]
  },
  {
   "cell_type": "code",
   "execution_count": 3,
   "metadata": {},
   "outputs": [
    {
     "name": "stdout",
     "output_type": "stream",
     "text": [
      "enterd number is: 153\n",
      "None\n",
      "153\n",
      "it is armstrong number\n",
      "None\n"
     ]
    }
   ],
   "source": [
    "class armstrong:\n",
    "    def __init__(self,n):\n",
    "        self.n=n\n",
    "    def display(self):\n",
    "        print('enterd number is:',self.n)\n",
    "    def arm(self):\n",
    "        s=0\n",
    "        k=self.n\n",
    "        while self.n>0:\n",
    "            a=self.n%10\n",
    "            s=s+(a*a*a)\n",
    "            self.n=self.n//10\n",
    "        print(s)\n",
    "        if s==k:\n",
    "            print('it is armstrong number')\n",
    "        else:\n",
    "            print('it is not an armstrong number')\n",
    "            \n",
    "s=armstrong(153)\n",
    "print(s.display())\n",
    "print(s.arm())\n",
    "            "
   ]
  },
  {
   "cell_type": "markdown",
   "metadata": {},
   "source": [
    "# class method"
   ]
  },
  {
   "cell_type": "code",
   "execution_count": 8,
   "metadata": {},
   "outputs": [
    {
     "name": "stdout",
     "output_type": "stream",
     "text": [
      "dog walks with 4\n",
      "dog walks with 4\n"
     ]
    }
   ],
   "source": [
    "class animal:\n",
    "    legs=4\n",
    "    \n",
    "    @classmethod\n",
    "    def walk(cls,name):\n",
    "        print('{} walks with {}'.format(name,cls.legs))\n",
    "        \n",
    "animal.walk('dog')\n",
    "animal.walk('dog')"
   ]
  },
  {
   "cell_type": "code",
   "execution_count": null,
   "metadata": {},
   "outputs": [],
   "source": []
  }
 ],
 "metadata": {
  "kernelspec": {
   "display_name": "Python 3",
   "language": "python",
   "name": "python3"
  },
  "language_info": {
   "codemirror_mode": {
    "name": "ipython",
    "version": 3
   },
   "file_extension": ".py",
   "mimetype": "text/x-python",
   "name": "python",
   "nbconvert_exporter": "python",
   "pygments_lexer": "ipython3",
   "version": "3.7.4"
  }
 },
 "nbformat": 4,
 "nbformat_minor": 2
}
