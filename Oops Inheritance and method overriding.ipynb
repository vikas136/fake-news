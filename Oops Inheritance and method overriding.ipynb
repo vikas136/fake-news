{
 "cells": [
  {
   "cell_type": "markdown",
   "metadata": {},
   "source": [
    "# Inheritance"
   ]
  },
  {
   "cell_type": "code",
   "execution_count": 2,
   "metadata": {},
   "outputs": [
    {
     "name": "stdout",
     "output_type": "stream",
     "text": [
      "he is good\n",
      "i am dng well\n"
     ]
    }
   ],
   "source": [
    "class parent:\n",
    "    def m1(self):\n",
    "        print('he is good')\n",
    "    \n",
    "class child(parent):\n",
    "    def m2(self):\n",
    "        print('i am dng well')\n",
    "    \n",
    "obj=child()\n",
    "obj.m1()\n",
    "obj.m2()"
   ]
  },
  {
   "cell_type": "code",
   "execution_count": 23,
   "metadata": {},
   "outputs": [
    {
     "name": "stdout",
     "output_type": "stream",
     "text": [
      "200\n",
      "90\n"
     ]
    }
   ],
   "source": [
    "class math:\n",
    "    value=100\n",
    "    def m1(self):\n",
    "        print(self.value+100)\n",
    "        \n",
    "class mat(math):\n",
    "    value=100\n",
    "    def m2(self):\n",
    "        print(self.value-10)\n",
    "        \n",
    "obj=mat()\n",
    "obj.m1()\n",
    "obj.m2()"
   ]
  },
  {
   "cell_type": "code",
   "execution_count": 3,
   "metadata": {},
   "outputs": [
    {
     "name": "stdout",
     "output_type": "stream",
     "text": [
      "provides land,gold,money..\n",
      "but child wants to start a software business\n"
     ]
    }
   ],
   "source": [
    "class parent:\n",
    "    def property(self):\n",
    "        print('provides land,gold,money..')\n",
    "        \n",
    "    def business(self):\n",
    "        print('parent handover construction business to child')\n",
    "class child(parent):\n",
    "    def business(self):\n",
    "        print('but child wants to start a software business')\n",
    "        \n",
    "c=child()\n",
    "c.property()                                               # if i want to call modified and original method\n",
    "c.business()"
   ]
  },
  {
   "cell_type": "code",
   "execution_count": 3,
   "metadata": {},
   "outputs": [
    {
     "name": "stdout",
     "output_type": "stream",
     "text": [
      "provides land,gold,money..\n",
      "parent handover construction business to child\n",
      "but child wants to start a software business\n"
     ]
    }
   ],
   "source": [
    "class parent:\n",
    "    def property(self):\n",
    "        print('provides land,gold,money..')\n",
    "        \n",
    "    def business(self):\n",
    "        print('parent handover construction business to child')\n",
    "class child(parent):\n",
    "    def business(self):\n",
    "        super().business()\n",
    "        print('but child wants to start a software business')\n",
    "        \n",
    "c=child()\n",
    "c.property()                                               # if i want to call modified and original method\n",
    "c.business()"
   ]
  },
  {
   "cell_type": "code",
   "execution_count": 30,
   "metadata": {},
   "outputs": [
    {
     "name": "stdout",
     "output_type": "stream",
     "text": [
      "153\n",
      "it is armstrong\n",
      "2001\n",
      "it is not a palindrome\n"
     ]
    }
   ],
   "source": [
    "class arm():\n",
    "    n=153\n",
    "    def armstrong(self):\n",
    "        s=0\n",
    "        t=self.n\n",
    "        while self.n>0:\n",
    "            a=self.n%10\n",
    "            s=s+(a*a*a)\n",
    "            self.n=self.n//10\n",
    "        print(s)\n",
    "        if (s==t):\n",
    "            print('it is armstrong')\n",
    "        else:\n",
    "            print('it is not an armstrong')\n",
    "        \n",
    "class pal(arm):\n",
    "    l=1002\n",
    "    def palindrome(self):\n",
    "        k=0\n",
    "        t=self.l\n",
    "        while self.l>0:\n",
    "            a=self.l%10\n",
    "            k=(k*10)+a\n",
    "            self.l=self.l//10\n",
    "        print(k)\n",
    "        if (k==t):\n",
    "            print('it is palindrome')\n",
    "        else:\n",
    "            print('it is not a palindrome')\n",
    "        \n",
    "obj=pal()\n",
    "obj.armstrong()\n",
    "obj.palindrome()"
   ]
  },
  {
   "cell_type": "markdown",
   "metadata": {},
   "source": [
    "# Multilevel inheritance"
   ]
  },
  {
   "cell_type": "code",
   "execution_count": 38,
   "metadata": {},
   "outputs": [
    {
     "name": "stdout",
     "output_type": "stream",
     "text": [
      "153\n",
      "it is armstrong\n",
      "2001\n",
      "it is not a palindrome\n",
      "it is a prime number\n"
     ]
    }
   ],
   "source": [
    "class arm():\n",
    "    n=153\n",
    "    def armstrong(self):\n",
    "        s=0\n",
    "        t=self.n\n",
    "        while self.n>0:\n",
    "            a=self.n%10\n",
    "            s=s+(a*a*a)\n",
    "            self.n=self.n//10\n",
    "        print(s)\n",
    "        if (s==t):\n",
    "            print('it is armstrong')\n",
    "        else:\n",
    "            print('it is not an armstrong')\n",
    "        \n",
    "class pal(arm):\n",
    "    l=1002\n",
    "    def palindrome(self):\n",
    "        k=0\n",
    "        t=self.l\n",
    "        while self.l>0:\n",
    "            a=self.l%10\n",
    "            k=(k*10)+a\n",
    "            self.l=self.l//10\n",
    "        print(k)\n",
    "        if (k==t):\n",
    "            print('it is palindrome')\n",
    "        else:\n",
    "            print('it is not a palindrome')\n",
    "            \n",
    "class prime(pal):\n",
    "    m=11\n",
    "    def p(self):\n",
    "        for i in range(2,self.m):\n",
    "            if self.m%i==0:\n",
    "                print('it is not a prime number')\n",
    "                break\n",
    "        else:\n",
    "            print('it is a prime number')\n",
    "                \n",
    "\n",
    "        \n",
    "obj=prime()\n",
    "obj.armstrong()\n",
    "obj.palindrome()\n",
    "obj.p()"
   ]
  },
  {
   "cell_type": "code",
   "execution_count": 39,
   "metadata": {},
   "outputs": [
    {
     "name": "stdout",
     "output_type": "stream",
     "text": [
      "153\n",
      "it is armstrong\n",
      "1001\n",
      "it is palindrome\n",
      "it is a prime number\n"
     ]
    }
   ],
   "source": [
    "class arm():\n",
    "    def __init__(self,n,l,m):           # initialing variables by using constructor\n",
    "        self.n=n\n",
    "        self.l=l\n",
    "        self.m=m\n",
    "    def armstrong(self):\n",
    "        s=0\n",
    "        t=self.n\n",
    "        while self.n>0:\n",
    "            a=self.n%10\n",
    "            s=s+(a*a*a)\n",
    "            self.n=self.n//10\n",
    "        print(s)\n",
    "        if (s==t):\n",
    "            print('it is armstrong')\n",
    "        else:\n",
    "            print('it is not an armstrong')\n",
    "        \n",
    "class pal(arm):\n",
    "\n",
    "    def palindrome(self):\n",
    "        k=0\n",
    "        t=self.l\n",
    "        while self.l>0:\n",
    "            a=self.l%10\n",
    "            k=(k*10)+a\n",
    "            self.l=self.l//10\n",
    "        print(k)\n",
    "        if (k==t):\n",
    "            print('it is palindrome')\n",
    "        else:\n",
    "            print('it is not a palindrome')\n",
    "            \n",
    "class prime(pal):\n",
    "    \n",
    "    def p(self):\n",
    "        for i in range(2,self.m):\n",
    "            if self.m%i==0:\n",
    "                print('it is not a prime number')\n",
    "                break\n",
    "        else:\n",
    "            print('it is a prime number')\n",
    "                \n",
    "\n",
    "        \n",
    "obj=prime(153,1001,5)\n",
    "obj.armstrong()\n",
    "obj.palindrome()\n",
    "obj.p()"
   ]
  },
  {
   "cell_type": "markdown",
   "metadata": {},
   "source": [
    "# Hierarcial inheritance"
   ]
  },
  {
   "cell_type": "code",
   "execution_count": 43,
   "metadata": {},
   "outputs": [
    {
     "name": "stdout",
     "output_type": "stream",
     "text": [
      "153\n",
      "it is armstrong\n",
      "it is a prime number\n",
      "153\n",
      "it is armstrong\n",
      "2001\n",
      "it is not a palindrome\n"
     ]
    }
   ],
   "source": [
    "class arm():\n",
    "    n=153\n",
    "    def armstrong(self):\n",
    "        s=0\n",
    "        t=self.n\n",
    "        while self.n>0:\n",
    "            a=self.n%10\n",
    "            s=s+(a*a*a)\n",
    "            self.n=self.n//10\n",
    "        print(s)\n",
    "        if (s==t):\n",
    "            print('it is armstrong')\n",
    "        else:\n",
    "            print('it is not an armstrong')\n",
    "        \n",
    "class pal(arm):\n",
    "    l=1002\n",
    "    def palindrome(self):\n",
    "        k=0\n",
    "        t=self.l\n",
    "        while self.l>0:\n",
    "            a=self.l%10\n",
    "            k=(k*10)+a\n",
    "            self.l=self.l//10\n",
    "        print(k)\n",
    "        if (k==t):\n",
    "            print('it is palindrome')\n",
    "        else:\n",
    "            print('it is not a palindrome')\n",
    "            \n",
    "class prime(arm):\n",
    "    m=11\n",
    "    def p(self):\n",
    "        for i in range(2,self.m):\n",
    "            if self.m%i==0:\n",
    "                print('it is not a prime number')\n",
    "                break\n",
    "        else:\n",
    "            print('it is a prime number')\n",
    "                \n",
    "\n",
    "        \n",
    "obj=prime()\n",
    "obj.armstrong()\n",
    "obj.p()\n",
    "\n",
    "obj1=pal()\n",
    "obj1.armstrong()\n",
    "obj1.palindrome()"
   ]
  },
  {
   "cell_type": "markdown",
   "metadata": {},
   "source": [
    "# Multiple inheritance"
   ]
  },
  {
   "cell_type": "code",
   "execution_count": 44,
   "metadata": {},
   "outputs": [
    {
     "name": "stdout",
     "output_type": "stream",
     "text": [
      "153\n",
      "it is armstrong\n",
      "2001\n",
      "it is not a palindrome\n",
      "it is a prime number\n"
     ]
    }
   ],
   "source": [
    "class arm():\n",
    "    n=153\n",
    "    def armstrong(self):\n",
    "        s=0\n",
    "        t=self.n\n",
    "        while self.n>0:\n",
    "            a=self.n%10\n",
    "            s=s+(a*a*a)\n",
    "            self.n=self.n//10\n",
    "        print(s)\n",
    "        if (s==t):\n",
    "            print('it is armstrong')\n",
    "        else:\n",
    "            print('it is not an armstrong')\n",
    "        \n",
    "class pal:\n",
    "    l=1002\n",
    "    def palindrome(self):\n",
    "        k=0\n",
    "        t=self.l\n",
    "        while self.l>0:\n",
    "            a=self.l%10\n",
    "            k=(k*10)+a\n",
    "            self.l=self.l//10\n",
    "        print(k)\n",
    "        if (k==t):\n",
    "            print('it is palindrome')\n",
    "        else:\n",
    "            print('it is not a palindrome')\n",
    "            \n",
    "class prime(pal,arm):\n",
    "    m=11\n",
    "    def p(self):\n",
    "        for i in range(2,self.m):\n",
    "            if self.m%i==0:\n",
    "                print('it is not a prime number')\n",
    "                break\n",
    "        else:\n",
    "            print('it is a prime number')\n",
    "                \n",
    "\n",
    "        \n",
    "obj=prime()\n",
    "obj.armstrong()\n",
    "obj.palindrome()\n",
    "obj.p()"
   ]
  },
  {
   "cell_type": "markdown",
   "metadata": {},
   "source": [
    "# super method"
   ]
  },
  {
   "cell_type": "code",
   "execution_count": 48,
   "metadata": {},
   "outputs": [
    {
     "name": "stdout",
     "output_type": "stream",
     "text": [
      "2001\n",
      "it is not a palindrome\n",
      "153\n",
      "it is armstrong\n"
     ]
    }
   ],
   "source": [
    "class arm():\n",
    "    n=153\n",
    "    def armstrong(self):\n",
    "        s=0\n",
    "        t=self.n\n",
    "        while self.n>0:\n",
    "            a=self.n%10\n",
    "            s=s+(a*a*a)\n",
    "            self.n=self.n//10\n",
    "        print(s)\n",
    "        if (s==t):\n",
    "            print('it is armstrong')\n",
    "        else:\n",
    "            print('it is not an armstrong')\n",
    "        \n",
    "class pal(arm):\n",
    "    l=1002\n",
    "    def palindrome(self):\n",
    "        k=0\n",
    "        t=self.l\n",
    "        while self.l>0:\n",
    "            a=self.l%10\n",
    "            k=(k*10)+a\n",
    "            self.l=self.l//10\n",
    "        print(k)\n",
    "        if (k==t):\n",
    "            print('it is palindrome')\n",
    "        else:\n",
    "            print('it is not a palindrome')\n",
    "            \n",
    "        super().armstrong()\n",
    "            \n",
    "\n",
    "                \n",
    "\n",
    "        \n",
    "obj=pal()\n",
    "obj.palindrome()"
   ]
  },
  {
   "cell_type": "code",
   "execution_count": 49,
   "metadata": {},
   "outputs": [
    {
     "name": "stdout",
     "output_type": "stream",
     "text": [
      "5\n",
      "40\n",
      "30\n"
     ]
    }
   ],
   "source": [
    "class parent:\n",
    "    a,b=20,10\n",
    "    \n",
    "class child(parent):\n",
    "    i,j=30,10\n",
    "    def m1(self,x,y):\n",
    "        print(x+y)                     # local variables\n",
    "        print(self.i+self.j)          # child class variables\n",
    "        print(self.a+self.b)          # parent class variables\n",
    "        \n",
    "obj=child()\n",
    "obj.m1(3,2)"
   ]
  },
  {
   "cell_type": "code",
   "execution_count": 53,
   "metadata": {},
   "outputs": [
    {
     "name": "stdout",
     "output_type": "stream",
     "text": [
      "5\n",
      "40\n",
      "30\n",
      "300\n"
     ]
    }
   ],
   "source": [
    "a,b=200,100\n",
    "class parent:\n",
    "    a,b=20,10\n",
    "    \n",
    "class child(parent):\n",
    "    a,b=30,10\n",
    "    def m1(self,a,b):\n",
    "        print(a+b)                     # local variables\n",
    "        print(self.a+self.b)          # child class variables\n",
    "        print(super().a+super().b)               # parent class variables by using super method\n",
    "        print(globals()['a']+globals()['b'])          # global variables \n",
    "        \n",
    "obj1=child()\n",
    "obj1.m1(3,2)"
   ]
  },
  {
   "cell_type": "code",
   "execution_count": 55,
   "metadata": {},
   "outputs": [
    {
     "name": "stdout",
     "output_type": "stream",
     "text": [
      "good evening vikas\n",
      "good morning vikas\n"
     ]
    }
   ],
   "source": [
    "class a:\n",
    "    def __init__(self):\n",
    "        print('good morning vikas')\n",
    "                                                  # invoking constructor\n",
    "class b(a):\n",
    "    def __init__(self):\n",
    "        print('good evening vikas')\n",
    "        super().__init__()\n",
    "        \n",
    "obj=b()"
   ]
  },
  {
   "cell_type": "code",
   "execution_count": null,
   "metadata": {},
   "outputs": [],
   "source": []
  },
  {
   "cell_type": "code",
   "execution_count": null,
   "metadata": {},
   "outputs": [],
   "source": []
  },
  {
   "cell_type": "code",
   "execution_count": null,
   "metadata": {},
   "outputs": [],
   "source": []
  },
  {
   "cell_type": "code",
   "execution_count": null,
   "metadata": {},
   "outputs": [],
   "source": []
  }
 ],
 "metadata": {
  "kernelspec": {
   "display_name": "Python 3",
   "language": "python",
   "name": "python3"
  },
  "language_info": {
   "codemirror_mode": {
    "name": "ipython",
    "version": 3
   },
   "file_extension": ".py",
   "mimetype": "text/x-python",
   "name": "python",
   "nbconvert_exporter": "python",
   "pygments_lexer": "ipython3",
   "version": "3.7.4"
  }
 },
 "nbformat": 4,
 "nbformat_minor": 2
}
